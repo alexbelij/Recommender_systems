{
  "nbformat": 4,
  "nbformat_minor": 0,
  "metadata": {
    "colab": {
      "name": "Movielens_LIGHTFM.ipynb",
      "version": "0.3.2",
      "provenance": [],
      "include_colab_link": true
    },
    "kernelspec": {
      "name": "python3",
      "display_name": "Python 3"
    }
  },
  "cells": [
    {
      "cell_type": "markdown",
      "metadata": {
        "id": "view-in-github",
        "colab_type": "text"
      },
      "source": [
        "<a href=\"https://colab.research.google.com/github/navneetkrc/Recommender_systems/blob/master/Movie_Recommender/Movielens_LIGHTFM.ipynb\" target=\"_parent\"><img src=\"https://colab.research.google.com/assets/colab-badge.svg\" alt=\"Open In Colab\"/></a>"
      ]
    },
    {
      "cell_type": "code",
      "metadata": {
        "id": "2CcYtI-NKHVm",
        "colab_type": "code",
        "colab": {}
      },
      "source": [
        "!pip install lightfm"
      ],
      "execution_count": 0,
      "outputs": []
    },
    {
      "cell_type": "code",
      "metadata": {
        "id": "ZHjsc-ahJ6yL",
        "colab_type": "code",
        "colab": {
          "base_uri": "https://localhost:8080/",
          "height": 544
        },
        "outputId": "1f31580f-6c1b-44cb-9fc2-d33d5386d23c"
      },
      "source": [
        "import numpy as np\n",
        "from lightfm.datasets import fetch_movielens\n",
        "from lightfm import LightFM\n",
        "\n",
        "#CHALLENGE part 1 of 3 - write your own fetch and format method for a different recommendation\n",
        "#dataset. Here a good few https://gist.github.com/entaroadun/1653794 \n",
        "#And take a look at the fetch_movielens method to see what it's doing \n",
        "#\n",
        "\n",
        "#fetch data and format it\n",
        "data = fetch_movielens(min_rating=4.0)\n",
        "\n",
        "#print training and testing data\n",
        "print(repr(data['train']))\n",
        "print(repr(data['test']))\n",
        "\n",
        "\n",
        "#CHALLENGE part 2 of 3 - use 3 different loss functions (so 3 different models), compare results, print results for\n",
        "#the best one. - Available loss functions are warp, logistic, bpr, and warp-kos.\n",
        "\n",
        "#create model\n",
        "model = LightFM(loss='warp')\n",
        "#train model\n",
        "model.fit(data['train'], epochs=30, num_threads=2)\n",
        "\n",
        "\n",
        "#CHALLENGE part 3 of 3 - Modify this function so that it parses your dataset correctly to retrieve\n",
        "#the necessary variables (products, songs, tv shows, etc.)\n",
        "#then print out the recommended results \n",
        "\n",
        "def sample_recommendation(model, data, user_ids):\n",
        "\n",
        "    #number of users and movies in training data\n",
        "    n_users, n_items = data['train'].shape\n",
        "\n",
        "    #generate recommendations for each user we input\n",
        "    for user_id in user_ids:\n",
        "\n",
        "        #movies they already like\n",
        "        known_positives = data['item_labels'][data['train'].tocsr()[user_id].indices]\n",
        "\n",
        "        #movies our model predicts they will like\n",
        "        scores = model.predict(user_id, np.arange(n_items))\n",
        "        #rank them in order of most liked to least\n",
        "        top_items = data['item_labels'][np.argsort(-scores)]\n",
        "\n",
        "        #print out the results\n",
        "        print(\"User %s\" % user_id)\n",
        "        print(\"     Known positives:\")\n",
        "\n",
        "        for x in known_positives[:3]:\n",
        "            print(\"        %s\" % x)\n",
        "\n",
        "        print(\"     Recommended:\")\n",
        "\n",
        "        for x in top_items[:3]:\n",
        "            print(\"        %s\" % x)\n",
        "            \n",
        "sample_recommendation(model, data, [3, 25, 450])"
      ],
      "execution_count": 2,
      "outputs": [
        {
          "output_type": "stream",
          "text": [
            "<943x1682 sparse matrix of type '<class 'numpy.int32'>'\n",
            "\twith 49906 stored elements in COOrdinate format>\n",
            "<943x1682 sparse matrix of type '<class 'numpy.int32'>'\n",
            "\twith 5469 stored elements in COOrdinate format>\n",
            "User 3\n",
            "     Known positives:\n",
            "        Seven (Se7en) (1995)\n",
            "        Contact (1997)\n",
            "        Starship Troopers (1997)\n",
            "     Recommended:\n",
            "        Scream (1996)\n",
            "        Titanic (1997)\n",
            "        Contact (1997)\n",
            "User 25\n",
            "     Known positives:\n",
            "        Dead Man Walking (1995)\n",
            "        Star Wars (1977)\n",
            "        Fargo (1996)\n",
            "     Recommended:\n",
            "        Fargo (1996)\n",
            "        L.A. Confidential (1997)\n",
            "        English Patient, The (1996)\n",
            "User 450\n",
            "     Known positives:\n",
            "        Contact (1997)\n",
            "        George of the Jungle (1997)\n",
            "        Event Horizon (1997)\n",
            "     Recommended:\n",
            "        Air Force One (1997)\n",
            "        Conspiracy Theory (1997)\n",
            "        Kiss the Girls (1997)\n"
          ],
          "name": "stdout"
        }
      ]
    },
    {
      "cell_type": "code",
      "metadata": {
        "id": "Bk3bLyolKLFO",
        "colab_type": "code",
        "colab": {}
      },
      "source": [
        ""
      ],
      "execution_count": 0,
      "outputs": []
    }
  ]
}