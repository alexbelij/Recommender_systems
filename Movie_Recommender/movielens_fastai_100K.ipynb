{
  "nbformat": 4,
  "nbformat_minor": 0,
  "metadata": {
    "colab": {
      "name": "movielens-fastai_100K.ipynb",
      "version": "0.3.2",
      "provenance": [],
      "collapsed_sections": [],
      "include_colab_link": true
    },
    "language_info": {
      "codemirror_mode": {
        "name": "ipython",
        "version": 3
      },
      "file_extension": ".py",
      "mimetype": "text/x-python",
      "name": "python",
      "nbconvert_exporter": "python",
      "pygments_lexer": "ipython3",
      "version": "3.7.2"
    },
    "kernelspec": {
      "name": "python3",
      "display_name": "Python 3"
    },
    "accelerator": "GPU"
  },
  "cells": [
    {
      "cell_type": "markdown",
      "metadata": {
        "id": "view-in-github",
        "colab_type": "text"
      },
      "source": [
        "<a href=\"https://colab.research.google.com/github/navneetkrc/Recommender_systems/blob/master/Movie_Recommender/movielens_fastai_100K.ipynb\" target=\"_parent\"><img src=\"https://colab.research.google.com/assets/colab-badge.svg\" alt=\"Open In Colab\"/></a>"
      ]
    },
    {
      "cell_type": "markdown",
      "metadata": {
        "id": "V5Wlld0QhYHg",
        "colab_type": "text"
      },
      "source": [
        "# \"How's that movie?\" -  Neural collaborative filtering with FastAI\n",
        "\n",
        "*Build a state-of-the-art movie recommendation system with just 10 lines of code*\n",
        "\n",
        "<img src=\"https://cdn-images-1.medium.com/max/1200/1*UCnwjtYoYoJtWM7DxzRT0A.jpeg\" style=\"width:480px;\"/>\n",
        "\n",
        "Recommender systems are at the core of pretty much every online service we interact with. Social networking sites like Facebook, Twitter and Instagram recommend posts you might like, or people you might know. Video streaming services like YouTube and Netflix recommend videos, movies or TV shows you might like. Online shopping sites like Amazon recommend products you might want to buy. \n",
        "\n",
        "**Collaborative** filtering is perhaps the most common technique used by recommender systems.\n",
        "\n",
        "> *Collaborative filtering is a method of making predictions about the interests of a user by collecting preferences from many users. The underlying assumption is that if a person A has the same opinion as a person B on an issue, A is more likely to have B's opinion on a different issue than that of a randomly chosen person.* - [Wikipedia](https://medium.com/r/?url=https%3A%2F%2Fen.wikipedia.org%2Fwiki%2FCollaborative_filtering)\n",
        "\n",
        "The [librec](https://medium.com/r/?url=https%3A%2F%2Fwww.librec.net%2F) Java library provides [over 70 different algorithms](https://medium.com/r/?url=https%3A%2F%2Fwww.librec.net%2Fdokuwiki%2Fdoku.php%3Fid%3DAlgorithmList%23recommender_algorithm_list) for collaborative filtering. In this post however, we'll implement a relatively new technique called *neural collaborative filtering*."
      ]
    },
    {
      "cell_type": "markdown",
      "metadata": {
        "id": "iHav1BUzhYHk",
        "colab_type": "text"
      },
      "source": [
        "## The MovieLens 100K Dataset\n",
        "\n",
        "The [MovieLens 100K dataset](https://grouplens.org/datasets/movielens/) is a collection of movie ratings by 943 users on 1682 movies. There are 100,000 ratings in total, since not every user has seen and rated every movie. Here are some sample ratings from the dataset:\n",
        "\n",
        "<img src=\"https://cdn-images-1.medium.com/max/800/1*OZLI7a0ueujHzj5NG3oRlQ.png\" style=\"width:360px\" />\n",
        "\n",
        "Every user is given a unique numeric ID (ranging from 1 to 943), and each movie is given a unique numeric ID too (ranging from 1 to 1682). User's ratings for movies are integers ranging from 1 to 5, with 5 being the highest.\n",
        "\n",
        "Our objective here is to build a *model* that can predict how a user would rate a movie they haven't already seen, by looking at the movie ratings of other users with similar tastes."
      ]
    },
    {
      "cell_type": "markdown",
      "metadata": {
        "id": "0iC1BymxhYHr",
        "colab_type": "text"
      },
      "source": [
        "## System Setup\n",
        "\n",
        "If you want to follow along and run the code as you read, you can clone this notebook, install the required dependencies using [conda](https://conda.io), and start Jupyter by running the following commands on the terminal:\n",
        "\n",
        "```\n",
        "pip install jovian --upgrade     # Install the jovian library \n",
        "jovian clone 5bc23520933b4cc187cfe18e5dd7e2ed # Download notebook\n",
        "cd movielens-fastai              # Enter the created directory \n",
        "jovian install                   # Install the dependencies\n",
        "conda activate movielens-fastai  # Activate virtual environment\n",
        "jupyter notebook                 # Start Jupyter\n",
        "```\n",
        "\n",
        "Make sure you have [conda](https://conda.io) installed before running the above commands. You can also click on the **\"Run on Binder\"** button at the top to start a Jupyter notebook server hosted on mybinder.org  instantly."
      ]
    },
    {
      "cell_type": "markdown",
      "metadata": {
        "id": "IOf8E0aehYHu",
        "colab_type": "text"
      },
      "source": [
        "## Preparing the Data\n",
        "\n",
        "You can download the MovieLens 100K dataset [from this link](https://medium.com/r/?url=http%3A%2F%2Ffiles.grouplens.org%2Fdatasets%2Fmovielens%2Fml-100k.zip). Once downloaded, unzip and extract the data into a directory ml-100k next to the Jupyter notebook. As described in the [README](https://medium.com/r/?url=http%3A%2F%2Ffiles.grouplens.org%2Fdatasets%2Fmovielens%2Fml-100k-README.txt), the file u.data contains the list of ratings.\n",
        "\n",
        "*On Linux and Mac, you can simply run the follwing cell to download and extract the data:*"
      ]
    },
    {
      "cell_type": "code",
      "metadata": {
        "id": "CL_tUTGXhYHw",
        "colab_type": "code",
        "outputId": "86cd808e-7639-4cbf-b563-a5017ea7c114",
        "colab": {
          "base_uri": "https://localhost:8080/",
          "height": 68
        }
      },
      "source": [
        "# Download and extract the data (only for Linux and Mac)\n",
        "!rm -rf ml-100k ml-100k.zip\n",
        "!wget -q http://files.grouplens.org/datasets/movielens/ml-100k.zip\n",
        "!unzip -q ml-100k.zip\n",
        "!ls ml-100k"
      ],
      "execution_count": 0,
      "outputs": [
        {
          "output_type": "stream",
          "text": [
            "allbut.pl  u1.base  u2.test  u4.base  u5.test  ub.base\tu.genre  u.occupation\n",
            "mku.sh\t   u1.test  u3.base  u4.test  ua.base  ub.test\tu.info\t u.user\n",
            "README\t   u2.base  u3.test  u5.base  ua.test  u.data\tu.item\n"
          ],
          "name": "stdout"
        }
      ]
    },
    {
      "cell_type": "markdown",
      "metadata": {
        "id": "CVBReaFRhYH8",
        "colab_type": "text"
      },
      "source": [
        "We begin the importing the required modules from Pandas and FastAI."
      ]
    },
    {
      "cell_type": "code",
      "metadata": {
        "id": "3BrntsQMhYH-",
        "colab_type": "code",
        "colab": {}
      },
      "source": [
        "import pandas as pd\n",
        "from fastai.collab import CollabDataBunch, collab_learner"
      ],
      "execution_count": 0,
      "outputs": []
    },
    {
      "cell_type": "markdown",
      "metadata": {
        "id": "--yqeLh_hYIF",
        "colab_type": "text"
      },
      "source": [
        "We can now read the data from the CSV file `u.data` into a Pandas [data frame](https://medium.com/r/?url=https%3A%2F%2Fpandas.pydata.org%2Fpandas-docs%2Fstable%2Freference%2Fapi%2Fpandas.DataFrame.html), and create a FastAI [data bunch](https://medium.com/r/?url=https%3A%2F%2Fdocs.fast.ai%2Fbasic_data.html%23Get-your-data-ready-for-training) which:\n",
        "\n",
        "1. Converts the Pandas data frame into tensors\n",
        "2. It splits the data into a training set and a validation set\n",
        "3. Creates data loaders to access the data in batches\n",
        "4. Checks if a GPU is available, and moves the data to the GPU"
      ]
    },
    {
      "cell_type": "code",
      "metadata": {
        "id": "DcOXy4kThYIH",
        "colab_type": "code",
        "outputId": "31568463-fdfa-49da-c634-2c60a4be07d9",
        "colab": {
          "base_uri": "https://localhost:8080/",
          "height": 204
        }
      },
      "source": [
        "cols = ['User ID','Movie ID','Rating','Timestamp']\n",
        "ratings_df = pd.read_csv('ml-100k/u.data', delimiter='\\t', \n",
        "                         header=None, names=cols)\n",
        "ratings_df.sample(5)"
      ],
      "execution_count": 0,
      "outputs": [
        {
          "output_type": "execute_result",
          "data": {
            "text/html": [
              "<div>\n",
              "<style scoped>\n",
              "    .dataframe tbody tr th:only-of-type {\n",
              "        vertical-align: middle;\n",
              "    }\n",
              "\n",
              "    .dataframe tbody tr th {\n",
              "        vertical-align: top;\n",
              "    }\n",
              "\n",
              "    .dataframe thead th {\n",
              "        text-align: right;\n",
              "    }\n",
              "</style>\n",
              "<table border=\"1\" class=\"dataframe\">\n",
              "  <thead>\n",
              "    <tr style=\"text-align: right;\">\n",
              "      <th></th>\n",
              "      <th>User ID</th>\n",
              "      <th>Movie ID</th>\n",
              "      <th>Rating</th>\n",
              "      <th>Timestamp</th>\n",
              "    </tr>\n",
              "  </thead>\n",
              "  <tbody>\n",
              "    <tr>\n",
              "      <th>65447</th>\n",
              "      <td>16</td>\n",
              "      <td>199</td>\n",
              "      <td>5</td>\n",
              "      <td>877719645</td>\n",
              "    </tr>\n",
              "    <tr>\n",
              "      <th>1324</th>\n",
              "      <td>66</td>\n",
              "      <td>1</td>\n",
              "      <td>3</td>\n",
              "      <td>883601324</td>\n",
              "    </tr>\n",
              "    <tr>\n",
              "      <th>44545</th>\n",
              "      <td>506</td>\n",
              "      <td>224</td>\n",
              "      <td>1</td>\n",
              "      <td>885136005</td>\n",
              "    </tr>\n",
              "    <tr>\n",
              "      <th>93506</th>\n",
              "      <td>749</td>\n",
              "      <td>230</td>\n",
              "      <td>3</td>\n",
              "      <td>878848272</td>\n",
              "    </tr>\n",
              "    <tr>\n",
              "      <th>74366</th>\n",
              "      <td>756</td>\n",
              "      <td>235</td>\n",
              "      <td>3</td>\n",
              "      <td>874827755</td>\n",
              "    </tr>\n",
              "  </tbody>\n",
              "</table>\n",
              "</div>"
            ],
            "text/plain": [
              "       User ID  Movie ID  Rating  Timestamp\n",
              "65447       16       199       5  877719645\n",
              "1324        66         1       3  883601324\n",
              "44545      506       224       1  885136005\n",
              "93506      749       230       3  878848272\n",
              "74366      756       235       3  874827755"
            ]
          },
          "metadata": {
            "tags": []
          },
          "execution_count": 3
        }
      ]
    },
    {
      "cell_type": "code",
      "metadata": {
        "id": "Amwk7bJvhYIO",
        "colab_type": "code",
        "outputId": "eea4abe5-1316-483b-aa1c-206bbc046bf8",
        "colab": {
          "base_uri": "https://localhost:8080/",
          "height": 204
        }
      },
      "source": [
        "data = CollabDataBunch.from_df(ratings_df, valid_pct=0.1)\n",
        "data.show_batch()"
      ],
      "execution_count": 0,
      "outputs": [
        {
          "output_type": "display_data",
          "data": {
            "text/html": [
              "<table border=\"1\" class=\"dataframe\">\n",
              "  <thead>\n",
              "    <tr style=\"text-align: right;\">\n",
              "      <th>User ID</th>\n",
              "      <th>Movie ID</th>\n",
              "      <th>target</th>\n",
              "    </tr>\n",
              "  </thead>\n",
              "  <tbody>\n",
              "    <tr>\n",
              "      <td>841</td>\n",
              "      <td>873</td>\n",
              "      <td>4.0</td>\n",
              "    </tr>\n",
              "    <tr>\n",
              "      <td>279</td>\n",
              "      <td>649</td>\n",
              "      <td>3.0</td>\n",
              "    </tr>\n",
              "    <tr>\n",
              "      <td>619</td>\n",
              "      <td>245</td>\n",
              "      <td>4.0</td>\n",
              "    </tr>\n",
              "    <tr>\n",
              "      <td>425</td>\n",
              "      <td>117</td>\n",
              "      <td>3.0</td>\n",
              "    </tr>\n",
              "    <tr>\n",
              "      <td>537</td>\n",
              "      <td>197</td>\n",
              "      <td>4.0</td>\n",
              "    </tr>\n",
              "  </tbody>\n",
              "</table>"
            ],
            "text/plain": [
              "<IPython.core.display.HTML object>"
            ]
          },
          "metadata": {
            "tags": []
          }
        }
      ]
    },
    {
      "cell_type": "markdown",
      "metadata": {
        "id": "J57erYn1hYIU",
        "colab_type": "text"
      },
      "source": [
        "## Neural collaborative filtering model\n",
        "\n",
        "The model itself is quite simple. We represent each user `u` and each movie `m` by vector of a predefined length `n`. The rating for the movie `m` by the user `u`, as predicted by the model is simply the dot product of the two vectors.\n",
        "\n",
        "<img src=\"https://cdn-images-1.medium.com/max/800/1*RuAjbXDwvTAv74NtPS-FbQ.png\" style=\"width:360px\"/>\n",
        "\n",
        "Here's a small subset of the users and movies, represented by randomly chosen vectors of length 5, and the predicted ratings:\n",
        "\n",
        "<img src=\"https://cdn-images-1.medium.com/max/1600/1*y9H2v3PsytrCajWSNJJDsA.png\" style=\"width:480px\"/>\n",
        "\n",
        "Since the vectors are chosen randomly, it's quite unlikely that the ratings predicted by the model match the actual ratings. Our objective, while training the model, is to gradually adjust the elements inside the user & movie vectors so that predicted ratings get closer to the actual ratings.\n",
        "\n",
        "We can use the `collab_learner` method from `fastai` to create a neural collaborative filtering model."
      ]
    },
    {
      "cell_type": "code",
      "metadata": {
        "id": "0ZNSe1OihYIW",
        "colab_type": "code",
        "colab": {}
      },
      "source": [
        "learn = collab_learner(data, n_factors=40, y_range=[0,5.5], wd=.1)"
      ],
      "execution_count": 0,
      "outputs": []
    },
    {
      "cell_type": "markdown",
      "metadata": {
        "id": "XtqGQ9_hhYIb",
        "colab_type": "text"
      },
      "source": [
        "The actual model created here contains 2 important enhancements on the simpler version described earlier:\n",
        "\n",
        "First, apart from the vectors for users and movies, it also add bias terms to account for outliers, since some users tend to always rate movies very high or very low, and some movies tend to be universally acclaimed or disliked.\n",
        "\n",
        "<img src=\"https://cdn-images-1.medium.com/max/800/1*vF7oEwpuKfXP8_CYK_KgdQ.png\" style=\"width:360px\" />\n",
        "\n",
        "Second, it applies the Sigmoid activation function to the above output, and scales it so that the result always lies in the given `y_range`, which is 0 to 5.5 in this case.\n",
        "\n",
        "<img src=\"https://cdn-images-1.medium.com/max/800/1*NloTSPs4pCMYDZ8G1kxhoQ.png\" style=\"width:420px\"/>"
      ]
    },
    {
      "cell_type": "markdown",
      "metadata": {
        "id": "N8Kqi9XVhYIc",
        "colab_type": "text"
      },
      "source": [
        "## Training the model\n",
        "\n",
        "The learner uses the [*mean squared error*](https://en.wikipedia.org/wiki/Mean_squared_error) loss function to evaluate the predictions of the model, and the [Adam optimizer](https://machinelearningmastery.com/adam-optimization-algorithm-for-deep-learning/) to adjust the parameters (vectors and biases) using gradient descent. Before we train the model, we use the [learning rate finder](https://docs.fast.ai/callbacks.lr_finder.html) to select a good learning for the optimizer."
      ]
    },
    {
      "cell_type": "code",
      "metadata": {
        "id": "_0V43t9fhYIe",
        "colab_type": "code",
        "outputId": "d6488a77-b8c0-4140-e728-0bbc38c7318f",
        "colab": {
          "base_uri": "https://localhost:8080/",
          "height": 300
        }
      },
      "source": [
        "learn.lr_find()\n",
        "learn.recorder.plot(skip_end=15)"
      ],
      "execution_count": 0,
      "outputs": [
        {
          "output_type": "display_data",
          "data": {
            "text/html": [
              ""
            ],
            "text/plain": [
              "<IPython.core.display.HTML object>"
            ]
          },
          "metadata": {
            "tags": []
          }
        },
        {
          "output_type": "stream",
          "text": [
            "LR Finder is complete, type {learner_name}.recorder.plot() to see the graph.\n"
          ],
          "name": "stdout"
        },
        {
          "output_type": "display_data",
          "data": {
            "image/png": "[encoded data removed]",
            "text/plain": [
              "<Figure size 432x288 with 1 Axes>"
            ]
          },
          "metadata": {
            "tags": []
          }
        }
      ]
    },
    {
      "cell_type": "markdown",
      "metadata": {
        "id": "FiiNJCgchYIq",
        "colab_type": "text"
      },
      "source": [
        "Upon inspection of the graph, we can see that the decrease in loss starts to decrease when the learning rate is around `0.01`. We can choose this as our learning rate, and train for 5 epochs, while annealing the learning rate using the [1-cycle policy](https://sgugger.github.io/the-1cycle-policy.html), which leads to faster convergence."
      ]
    },
    {
      "cell_type": "code",
      "metadata": {
        "id": "MmIES5XihYIr",
        "colab_type": "code",
        "outputId": "b5cea6ed-7a14-42d8-8b20-2f418df749d0",
        "colab": {
          "base_uri": "https://localhost:8080/",
          "height": 204
        }
      },
      "source": [
        "learn.fit_one_cycle(5, 0.01)"
      ],
      "execution_count": 0,
      "outputs": [
        {
          "output_type": "display_data",
          "data": {
            "text/html": [
              "<table border=\"1\" class=\"dataframe\">\n",
              "  <thead>\n",
              "    <tr style=\"text-align: left;\">\n",
              "      <th>epoch</th>\n",
              "      <th>train_loss</th>\n",
              "      <th>valid_loss</th>\n",
              "      <th>time</th>\n",
              "    </tr>\n",
              "  </thead>\n",
              "  <tbody>\n",
              "    <tr>\n",
              "      <td>0</td>\n",
              "      <td>0.935290</td>\n",
              "      <td>0.931223</td>\n",
              "      <td>00:09</td>\n",
              "    </tr>\n",
              "    <tr>\n",
              "      <td>1</td>\n",
              "      <td>0.906903</td>\n",
              "      <td>0.899312</td>\n",
              "      <td>00:09</td>\n",
              "    </tr>\n",
              "    <tr>\n",
              "      <td>2</td>\n",
              "      <td>0.788094</td>\n",
              "      <td>0.846209</td>\n",
              "      <td>00:09</td>\n",
              "    </tr>\n",
              "    <tr>\n",
              "      <td>3</td>\n",
              "      <td>0.670105</td>\n",
              "      <td>0.815131</td>\n",
              "      <td>00:09</td>\n",
              "    </tr>\n",
              "    <tr>\n",
              "      <td>4</td>\n",
              "      <td>0.475867</td>\n",
              "      <td>0.815114</td>\n",
              "      <td>00:09</td>\n",
              "    </tr>\n",
              "  </tbody>\n",
              "</table>"
            ],
            "text/plain": [
              "<IPython.core.display.HTML object>"
            ]
          },
          "metadata": {
            "tags": []
          }
        }
      ]
    },
    {
      "cell_type": "markdown",
      "metadata": {
        "id": "7IaGN0WThYIy",
        "colab_type": "text"
      },
      "source": [
        "In just 15 seconds, the mean squared error has come down to around 0.82, which is quite close to the state of the art (as compared with [these benchmarks](https://medium.com/r/?url=https%3A%2F%2Fwww.librec.net%2Frelease%2Fv1.3%2Fexample.html)). And it only took us 8 lines of code to load the data and train the model!"
      ]
    },
    {
      "cell_type": "markdown",
      "metadata": {
        "id": "_x4nYaNphYIz",
        "colab_type": "text"
      },
      "source": [
        "## Looking at some predictions\n",
        "\n",
        "While it's great to see the loss go down, let's look at some actual predictions of the model."
      ]
    },
    {
      "cell_type": "code",
      "metadata": {
        "id": "NI8lwNDKhYI1",
        "colab_type": "code",
        "outputId": "c50033bd-79b5-4558-9d5a-95bcf8630344",
        "colab": {
          "base_uri": "https://localhost:8080/",
          "height": 306
        }
      },
      "source": [
        "(users, items), ratings = next(iter(data.valid_dl))\n",
        "preds = learn.model(users, items)\n",
        "print('Real\\tPred\\tDifference')\n",
        "for p in list(zip(ratings, preds))[:16]:\n",
        "    print('{}\\t{:.1f}\\t{:.1f}'.format(p[0],p[1],p[1]-p[0]))"
      ],
      "execution_count": 0,
      "outputs": [
        {
          "output_type": "stream",
          "text": [
            "Real\tPred\tDifference\n",
            "4.0\t4.0\t0.0\n",
            "4.0\t2.8\t-1.2\n",
            "5.0\t4.4\t-0.6\n",
            "4.0\t4.1\t0.1\n",
            "3.0\t2.2\t-0.8\n",
            "5.0\t4.3\t-0.7\n",
            "5.0\t4.9\t-0.1\n",
            "3.0\t3.9\t0.9\n",
            "3.0\t2.6\t-0.4\n",
            "3.0\t3.4\t0.4\n",
            "3.0\t3.2\t0.2\n",
            "5.0\t4.5\t-0.5\n",
            "1.0\t3.2\t2.2\n",
            "5.0\t4.7\t-0.3\n",
            "3.0\t3.1\t0.1\n",
            "5.0\t3.3\t-1.7\n"
          ],
          "name": "stdout"
        }
      ]
    },
    {
      "cell_type": "code",
      "metadata": {
        "id": "SqhjWzwkNdSi",
        "colab_type": "code",
        "outputId": "a60049c5-bef5-4fe8-97b0-ef7ff687671f",
        "colab": {
          "base_uri": "https://localhost:8080/",
          "height": 119
        }
      },
      "source": [
        "learn.model"
      ],
      "execution_count": 0,
      "outputs": [
        {
          "output_type": "execute_result",
          "data": {
            "text/plain": [
              "EmbeddingDotBias(\n",
              "  (u_weight): Embedding(944, 40)\n",
              "  (i_weight): Embedding(1661, 40)\n",
              "  (u_bias): Embedding(944, 1)\n",
              "  (i_bias): Embedding(1661, 1)\n",
              ")"
            ]
          },
          "metadata": {
            "tags": []
          },
          "execution_count": 9
        }
      ]
    },
    {
      "cell_type": "markdown",
      "metadata": {
        "id": "wHQaqEcdhYI8",
        "colab_type": "text"
      },
      "source": [
        "Indeed, the predictions are quite close to the actual ratings. We can now use this model to predict how users would rate movies they haven't seen, and recommend movies that have a high predicted rating.\n",
        "\n",
        "<img src=\"https://cdn-images-1.medium.com/max/800/1*YXlBhnk7cQw5cjbW9qBm0A.png\" style=\"max-width:480px\" />"
      ]
    },
    {
      "cell_type": "markdown",
      "metadata": {
        "id": "PeAOkbJPhYJO",
        "colab_type": "text"
      },
      "source": [
        "## Further Reading\n",
        "\n",
        "In a future post, we'll dive deeper and see how `DataBunch` and `collab_learner` are actually implemented, using PyTorch. We'll also explore how we can interpret the vectors and biases learned by the model, and see some interesting results.\n",
        "\n",
        "In the meantime, following are some resources if you'd like to dive deeper into the topic:\n",
        "\n",
        "* [Lesson 4](https://course.fast.ai/videos/?lesson=4) of FastAI's \"Practical Deep Learning for Coders\" course\n",
        "\n",
        "* [Paper](https://arxiv.org/abs/1708.05031) introducing neural collaborative filtering\n",
        "\n",
        "* [PyTorch: Zero to GANs](https://medium.com/jovian-io/pytorch-basics-tensors-and-gradients-eb2f6e8a6eee)  - tutorial series covering the basics of PyTorch and neural networks"
      ]
    }
  ]
}