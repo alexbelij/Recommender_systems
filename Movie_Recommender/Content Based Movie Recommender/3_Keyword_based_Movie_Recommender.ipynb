{
  "nbformat": 4,
  "nbformat_minor": 0,
  "metadata": {
    "colab": {
      "name": "3_Keyword_based_Movie_Recommender.ipynb",
      "version": "0.3.2",
      "provenance": [],
      "toc_visible": true,
      "include_colab_link": true
    },
    "language_info": {
      "codemirror_mode": {
        "name": "ipython",
        "version": 3
      },
      "file_extension": ".py",
      "mimetype": "text/x-python",
      "name": "python",
      "nbconvert_exporter": "python",
      "pygments_lexer": "ipython3",
      "version": "3.7.2"
    },
    "kernelspec": {
      "name": "python3",
      "display_name": "Python 3"
    },
    "accelerator": "GPU"
  },
  "cells": [
    {
      "cell_type": "markdown",
      "metadata": {
        "id": "view-in-github",
        "colab_type": "text"
      },
      "source": [
        "<a href=\"https://colab.research.google.com/github/navneetkrc/Recommender_systems/blob/master/Movie_Recommender/Content%20Based%20Movie%20Recommender/3_Keyword_based_Movie_Recommender.ipynb\" target=\"_parent\"><img src=\"https://colab.research.google.com/assets/colab-badge.svg\" alt=\"Open In Colab\"/></a>"
      ]
    },
    {
      "cell_type": "markdown",
      "metadata": {
        "id": "G1ZgroxcP3mM",
        "colab_type": "text"
      },
      "source": [
        "# Basic Keyword Movie Recommender"
      ]
    },
    {
      "cell_type": "markdown",
      "metadata": {
        "id": "mLW1yTAbh2vs",
        "colab_type": "text"
      },
      "source": [
        "based on [this github](https://github.com/gblinick/Movie-Recommender-with-NLP/blob/master/Keyword%20Movie%20Recommender.ipynb)\n",
        "\n",
        "---\n",
        "\n"
      ]
    },
    {
      "cell_type": "markdown",
      "metadata": {
        "id": "Iz18dq9BQLGx",
        "colab_type": "text"
      },
      "source": [
        "##Import libraries"
      ]
    },
    {
      "cell_type": "code",
      "metadata": {
        "id": "wsTlg1NEQJm1",
        "colab_type": "code",
        "colab": {
          "base_uri": "https://localhost:8080/",
          "height": 68
        },
        "outputId": "2f887f3c-c576-484c-c177-e4dafd3c6ac3"
      },
      "source": [
        "# Import libraries\n",
        "import pandas as pd\n",
        "import numpy as np\n",
        "import nltk\n",
        "nltk.download('punkt')"
      ],
      "execution_count": 1,
      "outputs": [
        {
          "output_type": "stream",
          "text": [
            "[nltk_data] Downloading package punkt to /root/nltk_data...\n",
            "[nltk_data]   Unzipping tokenizers/punkt.zip.\n"
          ],
          "name": "stdout"
        },
        {
          "output_type": "execute_result",
          "data": {
            "text/plain": [
              "True"
            ]
          },
          "metadata": {
            "tags": []
          },
          "execution_count": 1
        }
      ]
    },
    {
      "cell_type": "markdown",
      "metadata": {
        "id": "StE81VXVQeyq",
        "colab_type": "text"
      },
      "source": [
        "##Download dataset movies csv file\n"
      ]
    },
    {
      "cell_type": "code",
      "metadata": {
        "id": "Dt1oCmNvQjsK",
        "colab_type": "code",
        "colab": {}
      },
      "source": [
        "#!wget https://github.com/navneetkrc/Recommender_systems/blob/master/Movie_Recommender/Content%20Based%20Movie%20Recommender/movies0.csv"
      ],
      "execution_count": 0,
      "outputs": []
    },
    {
      "cell_type": "code",
      "metadata": {
        "id": "dPL2tJQpRbg3",
        "colab_type": "code",
        "colab": {
          "base_uri": "https://localhost:8080/",
          "height": 700
        },
        "outputId": "39f27f38-8d64-463e-fbcb-4198c7dc6d1c"
      },
      "source": [
        "movies = pd.read_csv('movies0.csv',error_bad_lines=False, header=0)\n",
        "movies.head()"
      ],
      "execution_count": 6,
      "outputs": [
        {
          "output_type": "execute_result",
          "data": {
            "text/html": [
              "<div>\n",
              "<style scoped>\n",
              "    .dataframe tbody tr th:only-of-type {\n",
              "        vertical-align: middle;\n",
              "    }\n",
              "\n",
              "    .dataframe tbody tr th {\n",
              "        vertical-align: top;\n",
              "    }\n",
              "\n",
              "    .dataframe thead th {\n",
              "        text-align: right;\n",
              "    }\n",
              "</style>\n",
              "<table border=\"1\" class=\"dataframe\">\n",
              "  <thead>\n",
              "    <tr style=\"text-align: right;\">\n",
              "      <th></th>\n",
              "      <th>tconst</th>\n",
              "      <th>primaryTitle</th>\n",
              "      <th>startYear</th>\n",
              "      <th>runtimeMinutes</th>\n",
              "      <th>genres</th>\n",
              "      <th>directors</th>\n",
              "      <th>writers</th>\n",
              "      <th>averageRating</th>\n",
              "      <th>numVotes</th>\n",
              "      <th>plot</th>\n",
              "      <th>plot outlines</th>\n",
              "      <th>keywords</th>\n",
              "      <th>synopsis</th>\n",
              "    </tr>\n",
              "  </thead>\n",
              "  <tbody>\n",
              "    <tr>\n",
              "      <th>0</th>\n",
              "      <td>tt0111161</td>\n",
              "      <td>The Shawshank Redemption</td>\n",
              "      <td>1994</td>\n",
              "      <td>142</td>\n",
              "      <td>Drama</td>\n",
              "      <td>nm0001104</td>\n",
              "      <td>nm0000175,nm0001104</td>\n",
              "      <td>9.3</td>\n",
              "      <td>2057323</td>\n",
              "      <td>Two imprisoned men bond over a number of years...</td>\n",
              "      <td>Chronicles the experiences of a formerly succe...</td>\n",
              "      <td>wrongful-imprisonment,escape-from-prison,based...</td>\n",
              "      <td>In 1947, Andy Dufresne (Tim Robbins), a banker...</td>\n",
              "    </tr>\n",
              "    <tr>\n",
              "      <th>1</th>\n",
              "      <td>tt0468569</td>\n",
              "      <td>The Dark Knight</td>\n",
              "      <td>2008</td>\n",
              "      <td>152</td>\n",
              "      <td>Action,Crime,Drama</td>\n",
              "      <td>nm0634240</td>\n",
              "      <td>nm0634300,nm0634240,nm0333060,nm0004170</td>\n",
              "      <td>9.0</td>\n",
              "      <td>2023734</td>\n",
              "      <td>When the menace known as the Joker emerges fro...</td>\n",
              "      <td>Set within a year after the events of Batman B...</td>\n",
              "      <td>dc-comics,moral-dilemma,psychopath,clown,scarr...</td>\n",
              "      <td>The movie begins with a gang of men with clown...</td>\n",
              "    </tr>\n",
              "    <tr>\n",
              "      <th>2</th>\n",
              "      <td>tt1375666</td>\n",
              "      <td>Inception</td>\n",
              "      <td>2010</td>\n",
              "      <td>148</td>\n",
              "      <td>Action,Adventure,Sci-Fi</td>\n",
              "      <td>nm0634240</td>\n",
              "      <td>nm0634240</td>\n",
              "      <td>8.8</td>\n",
              "      <td>1802989</td>\n",
              "      <td>A thief who steals corporate secrets through t...</td>\n",
              "      <td>Dom Cobb is a skilled thief, the absolute best...</td>\n",
              "      <td>dream,subconscious,ambiguous-ending,thief,psyc...</td>\n",
              "      <td>A young man, exhausted and delirious, washes u...</td>\n",
              "    </tr>\n",
              "    <tr>\n",
              "      <th>3</th>\n",
              "      <td>tt0137523</td>\n",
              "      <td>Fight Club</td>\n",
              "      <td>1999</td>\n",
              "      <td>139</td>\n",
              "      <td>Drama</td>\n",
              "      <td>nm0000399</td>\n",
              "      <td>nm0657333,nm0880243</td>\n",
              "      <td>8.8</td>\n",
              "      <td>1646400</td>\n",
              "      <td>An insomniac office worker and a devil-may-car...</td>\n",
              "      <td>A nameless first person narrator (Edward Norto...</td>\n",
              "      <td>surprise-ending,fighting,multiple-personality-...</td>\n",
              "      <td>We back out of the webbing of neurons and brai...</td>\n",
              "    </tr>\n",
              "    <tr>\n",
              "      <th>4</th>\n",
              "      <td>tt0110912</td>\n",
              "      <td>Pulp Fiction</td>\n",
              "      <td>1994</td>\n",
              "      <td>154</td>\n",
              "      <td>Crime,Drama</td>\n",
              "      <td>nm0000233</td>\n",
              "      <td>nm0000233,nm0000812</td>\n",
              "      <td>8.9</td>\n",
              "      <td>1607874</td>\n",
              "      <td>The lives of two mob hitmen, a boxer, a gangst...</td>\n",
              "      <td>Jules Winnfield (Samuel L. Jackson) and Vincen...</td>\n",
              "      <td>nonlinear-timeline,black-comedy,overdose,bonda...</td>\n",
              "      <td>Late one morning in the Hawthorne Grill, a res...</td>\n",
              "    </tr>\n",
              "  </tbody>\n",
              "</table>\n",
              "</div>"
            ],
            "text/plain": [
              "      tconst  ...                                           synopsis\n",
              "0  tt0111161  ...  In 1947, Andy Dufresne (Tim Robbins), a banker...\n",
              "1  tt0468569  ...  The movie begins with a gang of men with clown...\n",
              "2  tt1375666  ...  A young man, exhausted and delirious, washes u...\n",
              "3  tt0137523  ...  We back out of the webbing of neurons and brai...\n",
              "4  tt0110912  ...  Late one morning in the Hawthorne Grill, a res...\n",
              "\n",
              "[5 rows x 13 columns]"
            ]
          },
          "metadata": {
            "tags": []
          },
          "execution_count": 6
        }
      ]
    },
    {
      "cell_type": "markdown",
      "metadata": {
        "id": "uyc-dGhhP3mu",
        "colab_type": "text"
      },
      "source": [
        "## Keyword EDA"
      ]
    },
    {
      "cell_type": "code",
      "metadata": {
        "id": "tU0MdCXbP3mx",
        "colab_type": "code",
        "colab": {}
      },
      "source": [
        "movies = movies[movies.keywords.notnull()]"
      ],
      "execution_count": 0,
      "outputs": []
    },
    {
      "cell_type": "code",
      "metadata": {
        "id": "XaVnx8nJP3mz",
        "colab_type": "code",
        "colab": {}
      },
      "source": [
        "import matplotlib.pyplot as plt\n",
        "import seaborn as sns\n",
        "sns.set()"
      ],
      "execution_count": 0,
      "outputs": []
    },
    {
      "cell_type": "code",
      "metadata": {
        "id": "AWtGboPFP3m1",
        "colab_type": "code",
        "colab": {
          "base_uri": "https://localhost:8080/",
          "height": 291
        },
        "outputId": "5dd1cdbc-feed-450d-c366-bfa0ec5e4b29"
      },
      "source": [
        "number_of_keyword_chars = []\n",
        "for keywords in movies['keywords']:#[:10000]:\n",
        "    n_chars = len(keywords)\n",
        "    number_of_keyword_chars.append(n_chars)\n",
        "\n",
        "\n",
        "plt.hist(number_of_keyword_chars)\n",
        "plt.xlabel('number of characters in keywords column')\n",
        "plt.ylabel('number of movies')\n",
        "plt.show()"
      ],
      "execution_count": 9,
      "outputs": [
        {
          "output_type": "display_data",
          "data": {
            "image/png": "[encoded data removed]",
            "text/plain": [
              "<Figure size 432x288 with 1 Axes>"
            ]
          },
          "metadata": {
            "tags": []
          }
        }
      ]
    },
    {
      "cell_type": "code",
      "metadata": {
        "id": "4OQ1_spbP3m5",
        "colab_type": "code",
        "colab": {
          "base_uri": "https://localhost:8080/",
          "height": 34
        },
        "outputId": "cc45e19d-8e63-443d-9367-87cb5bec4d87"
      },
      "source": [
        "print(\"keywords: %.3f\" %(np.mean(movies['keywords'].str.len())) )"
      ],
      "execution_count": 10,
      "outputs": [
        {
          "output_type": "stream",
          "text": [
            "keywords: 1585.197\n"
          ],
          "name": "stdout"
        }
      ]
    },
    {
      "cell_type": "code",
      "metadata": {
        "id": "M0TAyp-CP3m9",
        "colab_type": "code",
        "colab": {
          "base_uri": "https://localhost:8080/",
          "height": 291
        },
        "outputId": "3d51bf85-e7a8-4223-b6ae-2e07cd0d8120"
      },
      "source": [
        "number_of_keywords = []\n",
        "for keywords in movies['keywords']:\n",
        "    n_keywords = len(keywords.split(','))\n",
        "    number_of_keywords.append(n_keywords)\n",
        "\n",
        "plt.hist(number_of_keywords)\n",
        "plt.xlabel('number of words in keywords column')\n",
        "plt.ylabel('number of movies')\n",
        "plt.show()"
      ],
      "execution_count": 11,
      "outputs": [
        {
          "output_type": "display_data",
          "data": {
            "image/png": "[encoded data removed]",
            "text/plain": [
              "<Figure size 432x288 with 1 Axes>"
            ]
          },
          "metadata": {
            "tags": []
          }
        }
      ]
    },
    {
      "cell_type": "code",
      "metadata": {
        "id": "5S59pqrFP3nA",
        "colab_type": "code",
        "colab": {
          "base_uri": "https://localhost:8080/",
          "height": 291
        },
        "outputId": "66dec95b-186c-4a8c-c402-3e968b1700d8"
      },
      "source": [
        "keyword_lengths = []\n",
        "for keywords in movies['keywords']:\n",
        "    keywords = keywords.split(',')\n",
        "    for keyword in keywords:\n",
        "        keyword_lengths.append(len(keyword))\n",
        "        \n",
        "plt.hist(keyword_lengths)\n",
        "plt.xlabel('length of words in keywords by number of characters')\n",
        "plt.ylabel('number of words')\n",
        "plt.show()"
      ],
      "execution_count": 12,
      "outputs": [
        {
          "output_type": "display_data",
          "data": {
            "image/png": "[encoded data removed]",
            "text/plain": [
              "<Figure size 432x288 with 1 Axes>"
            ]
          },
          "metadata": {
            "tags": []
          }
        }
      ]
    },
    {
      "cell_type": "markdown",
      "metadata": {
        "id": "mRTwZgK6P3nF",
        "colab_type": "text"
      },
      "source": [
        "## Modelling"
      ]
    },
    {
      "cell_type": "code",
      "metadata": {
        "id": "vp2b4Pa7P3nG",
        "colab_type": "code",
        "colab": {}
      },
      "source": [
        "# Import movies table and set the index\n",
        "#movies = pd.read_csv('Blog Post/movies_keywords.csv')"
      ],
      "execution_count": 0,
      "outputs": []
    },
    {
      "cell_type": "code",
      "metadata": {
        "id": "UEuzyYLbP3nH",
        "colab_type": "code",
        "colab": {}
      },
      "source": [
        "movies.reset_index(inplace=True)\n",
        "movies = movies[['primaryTitle', 'keywords']]"
      ],
      "execution_count": 0,
      "outputs": []
    },
    {
      "cell_type": "code",
      "metadata": {
        "id": "KAgYORh-P3nJ",
        "colab_type": "code",
        "colab": {}
      },
      "source": [
        "# Processing Keywords\n",
        "keywords = movies['keywords'].tolist()\n",
        "\n",
        "from nltk.tokenize import word_tokenize\n",
        "keywords = [word_tokenize(keyword.lower()) for keyword in keywords]\n",
        "\n",
        "def no_commas(doc):\n",
        "    no_commas = [t for t in doc if t!=',']\n",
        "    return(no_commas)\n",
        "\n",
        "keywords = [no_commas(kw) for kw in keywords]\n",
        "processed_keywords = keywords"
      ],
      "execution_count": 0,
      "outputs": []
    },
    {
      "cell_type": "code",
      "metadata": {
        "id": "loCnPMiWP3nL",
        "colab_type": "code",
        "colab": {}
      },
      "source": [
        "#To save processed keywords\n",
        "# import csv\n",
        "# with open('Data/processed_keywords.csv', 'w') as csvFile:\n",
        "#     writer = csv.writer(csvFile)\n",
        "#     writer.writerows(processed_keywords)\n",
        "# csvFile.close()"
      ],
      "execution_count": 0,
      "outputs": []
    },
    {
      "cell_type": "code",
      "metadata": {
        "id": "Nmw76yYeP3nM",
        "colab_type": "code",
        "colab": {}
      },
      "source": [
        "# To import processed keywords\n",
        "# with open('Data/processed_keywords.csv', 'r') as f:\n",
        "#     reader = csv.reader(f)\n",
        "#     processed_keywords = list(reader)\n",
        "# processed_keywords = processed_keywords[0::2] # get rid of empty lists"
      ],
      "execution_count": 0,
      "outputs": []
    },
    {
      "cell_type": "markdown",
      "metadata": {
        "id": "lolW4C7IP3nO",
        "colab_type": "text"
      },
      "source": [
        "### 1st Mode: tf-idf with cosine similarity"
      ]
    },
    {
      "cell_type": "code",
      "metadata": {
        "id": "7EqnWdKFP3nO",
        "colab_type": "code",
        "colab": {
          "base_uri": "https://localhost:8080/",
          "height": 71
        },
        "outputId": "39e951e2-94cb-4ab1-dc19-98b040e4f0e4"
      },
      "source": [
        "from gensim.corpora.dictionary import Dictionary\n",
        "dictionary = Dictionary(processed_keywords) # create a dictionary of words from our keywords\n",
        "\n",
        "corpus = [dictionary.doc2bow(doc) for doc in processed_keywords] \n",
        "#create corpus where the corpus is a bag of words for each document\n",
        "\n",
        "from gensim.models.tfidfmodel import TfidfModel\n",
        "tfidf = TfidfModel(corpus) #create tfidf model of the corpus\n",
        "\n",
        "from gensim.similarities import MatrixSimilarity\n",
        "# Create the similarity data structure. This is the most important part where we get the similarities between the movies.\n",
        "sims = MatrixSimilarity(tfidf[corpus], num_features=len(dictionary))"
      ],
      "execution_count": 18,
      "outputs": [
        {
          "output_type": "stream",
          "text": [
            "/usr/local/lib/python3.6/dist-packages/gensim/matutils.py:737: FutureWarning: Conversion of the second argument of issubdtype from `int` to `np.signedinteger` is deprecated. In future, it will be treated as `np.int64 == np.dtype(int).type`.\n",
            "  if np.issubdtype(vec.dtype, np.int):\n"
          ],
          "name": "stderr"
        }
      ]
    },
    {
      "cell_type": "code",
      "metadata": {
        "id": "3sfj-CEQP3nS",
        "colab_type": "code",
        "colab": {}
      },
      "source": [
        "def movie_recommendation(movie_title, number_of_hits=5):\n",
        "    movie = movies.loc[movies.primaryTitle==movie_title] # get the movie row\n",
        "    keywords = movie['keywords'].iloc[0].split(',') #get the keywords as a Series (movie['keywords']),\n",
        "    # get just the keywords string ([0]), and then convert to a list of keywords (.split(',') )\n",
        "    query_doc = keywords #set the query_doc to the list of keywords\n",
        "    \n",
        "    query_doc_bow = dictionary.doc2bow(query_doc) # get a bag of words from the query_doc\n",
        "    query_doc_tfidf = tfidf[query_doc_bow] #convert the regular bag of words model to a tf-idf model where we have tuples\n",
        "    # of the movie ID and it's tf-idf value for the movie\n",
        "\n",
        "    similarity_array = sims[query_doc_tfidf] # get the array of similarity values between our movie and every other movie. \n",
        "    #So the length is the number of movies we have. To do this, we pass our list of tf-idf tuples to sims.\n",
        "\n",
        "    similarity_series = pd.Series(similarity_array.tolist(), index=movies.primaryTitle.values) #Convert to a Series\n",
        "    top_hits = similarity_series.sort_values(ascending=False)[1:number_of_hits+1] \n",
        "    #get the top matching results, i.e. most similar movies; start from index 1 because every movie is most similar to itself\n",
        "\n",
        "    #print the words with the highest tf-idf values for the provided movie:\n",
        "    sorted_tfidf_weights = sorted(tfidf[corpus[movie.index.values.tolist()[0]]], key=lambda w: w[1], reverse=True)\n",
        "    print('The top 5 words associated with this movie by tf-idf are: ')\n",
        "    for term_id, weight in sorted_tfidf_weights[:5]:\n",
        "        print(\" '%s' with a tf-idf score of %.3f\" %(dictionary.get(term_id), weight))\n",
        "    \n",
        "    # Print the top matching movies\n",
        "    print(\"Our top %s most similar movies for movie %s are:\" %(number_of_hits, movie_title))\n",
        "    for idx, (movie,score) in enumerate(zip(top_hits.index, top_hits)):\n",
        "        print(\"%d %s with a similarity score of %.3f\" %(idx+1, movie, score))"
      ],
      "execution_count": 0,
      "outputs": []
    },
    {
      "cell_type": "code",
      "metadata": {
        "id": "Oh1h5WliP3nU",
        "colab_type": "code",
        "colab": {
          "base_uri": "https://localhost:8080/",
          "height": 221
        },
        "outputId": "69817001-39e3-401a-89fe-894e834bf38c"
      },
      "source": [
        "movie_recommendation('The Shawshank Redemption', 5)"
      ],
      "execution_count": 20,
      "outputs": [
        {
          "output_type": "stream",
          "text": [
            "The top 5 words associated with this movie by tf-idf are: \n",
            " 'boom-shot' with a tf-idf score of 0.092\n",
            " 'fresh-fish' with a tf-idf score of 0.092\n",
            " 'killed-by-prison-guard' with a tf-idf score of 0.092\n",
            " 'library-cart' with a tf-idf score of 0.092\n",
            " 'missing-prisoner' with a tf-idf score of 0.092\n",
            "Our top 5 most similar movies for movie The Shawshank Redemption are:\n",
            "1 Stir Crazy with a similarity score of 0.067\n",
            "2 Escape from Alcatraz with a similarity score of 0.067\n",
            "3 Lock Up with a similarity score of 0.066\n",
            "4 The Last Castle with a similarity score of 0.064\n",
            "5 Anything for Her with a similarity score of 0.059\n"
          ],
          "name": "stdout"
        }
      ]
    },
    {
      "cell_type": "code",
      "metadata": {
        "id": "0PcPhd_1P3nX",
        "colab_type": "code",
        "colab": {}
      },
      "source": [
        "def keywords_recommendation(keywords, number_of_hits):\n",
        "    query_doc_bow = dictionary.doc2bow(keywords) # get a bag of words from the query_doc\n",
        "    query_doc_tfidf = tfidf[query_doc_bow] #convert the regular bag of words model to a tf-idf model where we have tuples\n",
        "    # of the movie ID and it's tf-idf value for the movie\n",
        "\n",
        "    similarity_array = sims[query_doc_tfidf] # get the array of similarity values between our movie and every other movie. \n",
        "    #So the length is the number of movies we have. To do this, we pass our list of tf-idf tuples to sims.\n",
        "\n",
        "    similarity_series = pd.Series(similarity_array.tolist(), index=movies.primaryTitle.values) #Convert to a Series\n",
        "    top_hits = similarity_series.sort_values(ascending=False)[:number_of_hits] #get the top matching results, \n",
        "    # i.e. most similar movies\n",
        "\n",
        "    # Print the top matching movies\n",
        "    print(\"Our top %s most similar movies for the keywords %s are:\" %(number_of_hits, keywords))\n",
        "    for idx, (movie,score) in enumerate(zip(top_hits.index, top_hits)):\n",
        "        print(\"%d '%s' with a similarity score of %.3f\" %(idx+1, movie, score))"
      ],
      "execution_count": 0,
      "outputs": []
    },
    {
      "cell_type": "code",
      "metadata": {
        "id": "9i1aANY7P3na",
        "colab_type": "code",
        "colab": {
          "base_uri": "https://localhost:8080/",
          "height": 139
        },
        "outputId": "4c7985a5-2e63-448d-e758-629bc1bb2a0e"
      },
      "source": [
        "keywords_recommendation(['wrongful-imprisonment','escape-from-prison','based-on-the-works-of-stephen-king',\n",
        "                         'prison', 'voice-over-narration', 'caged-bird','reference-to-fort-hancock-texas','aria'], 5)"
      ],
      "execution_count": 22,
      "outputs": [
        {
          "output_type": "stream",
          "text": [
            "Our top 5 most similar movies for the keywords ['wrongful-imprisonment', 'escape-from-prison', 'based-on-the-works-of-stephen-king', 'prison', 'voice-over-narration', 'caged-bird', 'reference-to-fort-hancock-texas', 'aria'] are:\n",
            "1 'The Shawshank Redemption' with a similarity score of 0.164\n",
            "2 'Down by Law' with a similarity score of 0.150\n",
            "3 'Old Men in New Cars: In China They Eat Dogs II' with a similarity score of 0.093\n",
            "4 'Diva' with a similarity score of 0.093\n",
            "5 'I Am a Fugitive from a Chain Gang' with a similarity score of 0.088\n"
          ],
          "name": "stdout"
        }
      ]
    },
    {
      "cell_type": "markdown",
      "metadata": {
        "id": "gxy8XPE9P3nc",
        "colab_type": "text"
      },
      "source": [
        "### 2nd Model: Word counts with cosine similarity"
      ]
    },
    {
      "cell_type": "code",
      "metadata": {
        "id": "kw3npPg5P3nd",
        "colab_type": "code",
        "colab": {}
      },
      "source": [
        "from sklearn.feature_extraction.text import CountVectorizer\n",
        "def get_vectors(text):\n",
        "    vectorizer = CountVectorizer(text)\n",
        "    X = vectorizer.fit_transform(text).toarray()\n",
        "    return(X)\n",
        "vectors = get_vectors(movies.keywords.tolist())"
      ],
      "execution_count": 0,
      "outputs": []
    },
    {
      "cell_type": "code",
      "metadata": {
        "id": "bkM-HZMeP3ne",
        "colab_type": "code",
        "colab": {}
      },
      "source": [
        "from sklearn.metrics.pairwise import cosine_similarity\n",
        "\n",
        "def cosine_recommender(movie_title, number_of_hits=5):\n",
        "    movie_index = movies[movies.primaryTitle == movie_title].index.values[0]\n",
        "\n",
        "    cosines = []\n",
        "    for i in range(len(vectors)):\n",
        "        vector_list = [vectors[movie_index], vectors[i]]\n",
        "        cosines.append(cosine_similarity(vector_list)[0,1])\n",
        "\n",
        "    cosines = pd.Series(cosines)\n",
        "    index = cosines.nlargest(number_of_hits+1).index\n",
        "\n",
        "    matches = movies.loc[index]\n",
        "    for match,score in zip(matches['primaryTitle'][1:],cosines[index][1:]):\n",
        "        print(match,score )"
      ],
      "execution_count": 0,
      "outputs": []
    },
    {
      "cell_type": "code",
      "metadata": {
        "id": "8cNp_uNFP3ng",
        "colab_type": "code",
        "colab": {
          "base_uri": "https://localhost:8080/",
          "height": 102
        },
        "outputId": "aaa51bc2-ca2b-4fb8-8ef0-e2bafc36c43a"
      },
      "source": [
        "cosine_recommender('The Shawshank Redemption')"
      ],
      "execution_count": 25,
      "outputs": [
        {
          "output_type": "stream",
          "text": [
            "Kill Your Friends 0.7411855258460268\n",
            "The Riot Club 0.7308165808051436\n",
            "Side Effects 0.7277681291363095\n",
            "Going Clear: Scientology & the Prison of Belief 0.7273396914436095\n",
            "Hot Summer Nights 0.7272736609097773\n"
          ],
          "name": "stdout"
        }
      ]
    },
    {
      "cell_type": "markdown",
      "metadata": {
        "id": "jJ71LkovP3nj",
        "colab_type": "text"
      },
      "source": [
        "### 3rd Model: Jaccard Similarity"
      ]
    },
    {
      "cell_type": "code",
      "metadata": {
        "id": "B41Kn17WP3nj",
        "colab_type": "code",
        "colab": {}
      },
      "source": [
        "def get_jaccard_sim(str1, str2):\n",
        "    a = set(str1.split(','))\n",
        "    b = set(str2.split(','))\n",
        "    c = a.intersection(b)\n",
        "    return(float(len(c)) / (len(a) + len(b) - len(c)))\n",
        "\n",
        "def jaccard_recommender(movie_title, number_of_hits=5):\n",
        "    movie = movies[movies.primaryTitle==movie_title]\n",
        "    keyword_string = movie.keywords.iloc[0]\n",
        "\n",
        "    jaccards = []\n",
        "    for movie in movies['keywords']:\n",
        "        jaccards.append(get_jaccard_sim(keyword_string, movie))\n",
        "    jaccards = pd.Series(jaccards)\n",
        "    jaccards_index = jaccards.nlargest(number_of_hits+1).index\n",
        "    matches = movies.loc[jaccards_index]\n",
        "    for match,score in zip(matches['primaryTitle'][1:],jaccards[jaccards_index][1:]) :\n",
        "        print(match,score )"
      ],
      "execution_count": 0,
      "outputs": []
    },
    {
      "cell_type": "code",
      "metadata": {
        "id": "Lhq0RdPRP3nk",
        "colab_type": "code",
        "colab": {
          "base_uri": "https://localhost:8080/",
          "height": 102
        },
        "outputId": "f4f51d20-0106-4ba1-88cd-d567bc4d421e"
      },
      "source": [
        "jaccard_recommender('The Shawshank Redemption')"
      ],
      "execution_count": 27,
      "outputs": [
        {
          "output_type": "stream",
          "text": [
            "Lock Up 0.07127882599580712\n",
            "The Getaway 0.064\n",
            "Boy A 0.0631768953068592\n",
            "Character 0.06126482213438735\n",
            "Call Northside 777 0.060674157303370786\n"
          ],
          "name": "stdout"
        }
      ]
    }
  ]
}