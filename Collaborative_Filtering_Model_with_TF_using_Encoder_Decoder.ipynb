{
  "nbformat": 4,
  "nbformat_minor": 0,
  "metadata": {
    "kernelspec": {
      "name": "python3",
      "display_name": "Python 3"
    },
    "language_info": {
      "codemirror_mode": {
        "name": "ipython",
        "version": 3
      },
      "file_extension": ".py",
      "mimetype": "text/x-python",
      "name": "python",
      "nbconvert_exporter": "python",
      "pygments_lexer": "ipython3",
      "version": "3.6.7"
    },
    "colab": {
      "name": "Collaborative Filtering Model with TF using Encoder Decoder.ipynb",
      "provenance": [],
      "include_colab_link": true
    },
    "accelerator": "GPU"
  },
  "cells": [
    {
      "cell_type": "markdown",
      "metadata": {
        "id": "view-in-github",
        "colab_type": "text"
      },
      "source": [
        "<a href=\"https://colab.research.google.com/github/navneetkrc/Recommender_systems/blob/master/Collaborative_Filtering_Model_with_TF_using_Encoder_Decoder.ipynb\" target=\"_parent\"><img src=\"https://colab.research.google.com/assets/colab-badge.svg\" alt=\"Open In Colab\"/></a>"
      ]
    },
    {
      "cell_type": "markdown",
      "metadata": {
        "id": "ElRIwGL9S6Ew",
        "colab_type": "text"
      },
      "source": [
        "This is colab implementation of collaboratory recommender system based on medium article by Susan Li.\n",
        "[original notebook](https://github.com/susanli2016/Machine-Learning-with-Python/blob/master/Collaborative%20Filtering%20Model%20with%20TensorFlow.ipynb)\n"
      ]
    },
    {
      "cell_type": "markdown",
      "metadata": {
        "id": "h7XrC8JlRiBn",
        "colab_type": "text"
      },
      "source": [
        "The collaborative filter approach focuses on finding users who have given similar ratings to the same books, thus creating a link between users, to whom will be suggested books that were reviewed in a positive way. In this way, we look for associations between users, not between books."
      ]
    },
    {
      "cell_type": "code",
      "metadata": {
        "id": "wVyi01emRiBo",
        "colab_type": "code",
        "colab": {}
      },
      "source": [
        "import numpy as np\n",
        "import pandas as pd\n",
        "import tensorflow as tf\n",
        "from sklearn.preprocessing import MinMaxScaler"
      ],
      "execution_count": 0,
      "outputs": []
    },
    {
      "cell_type": "code",
      "metadata": {
        "id": "qgiEA2EyRyDK",
        "colab_type": "code",
        "colab": {
          "base_uri": "https://localhost:8080/",
          "height": 204
        },
        "outputId": "2e8d0cf7-1016-4900-9898-331af023560a"
      },
      "source": [
        "!wget http://www2.informatik.uni-freiburg.de/~cziegler/BX/BX-CSV-Dump.zip"
      ],
      "execution_count": 2,
      "outputs": [
        {
          "output_type": "stream",
          "text": [
            "--2019-09-20 06:06:24--  http://www2.informatik.uni-freiburg.de/~cziegler/BX/BX-CSV-Dump.zip\n",
            "Resolving www2.informatik.uni-freiburg.de (www2.informatik.uni-freiburg.de)... 132.230.105.133\n",
            "Connecting to www2.informatik.uni-freiburg.de (www2.informatik.uni-freiburg.de)|132.230.105.133|:80... connected.\n",
            "HTTP request sent, awaiting response... 200 OK\n",
            "Length: 26085508 (25M) [application/zip]\n",
            "Saving to: ‘BX-CSV-Dump.zip’\n",
            "\n",
            "\rBX-CSV-Dump.zip       0%[                    ]       0  --.-KB/s               \rBX-CSV-Dump.zip      31%[=====>              ]   7.91M  39.5MB/s               \rBX-CSV-Dump.zip      94%[=================>  ]  23.55M  58.9MB/s               \rBX-CSV-Dump.zip     100%[===================>]  24.88M  60.4MB/s    in 0.4s    \n",
            "\n",
            "2019-09-20 06:06:24 (60.4 MB/s) - ‘BX-CSV-Dump.zip’ saved [26085508/26085508]\n",
            "\n"
          ],
          "name": "stdout"
        }
      ]
    },
    {
      "cell_type": "code",
      "metadata": {
        "id": "6ifmNMBkR3ny",
        "colab_type": "code",
        "colab": {
          "base_uri": "https://localhost:8080/",
          "height": 85
        },
        "outputId": "9928ab6b-116a-4443-e032-6a29a3777708"
      },
      "source": [
        "!unzip /content/BX-CSV-Dump.zip"
      ],
      "execution_count": 3,
      "outputs": [
        {
          "output_type": "stream",
          "text": [
            "Archive:  /content/BX-CSV-Dump.zip\n",
            "  inflating: BX-Book-Ratings.csv     \n",
            "  inflating: BX-Books.csv            \n",
            "  inflating: BX-Users.csv            \n"
          ],
          "name": "stdout"
        }
      ]
    },
    {
      "cell_type": "code",
      "metadata": {
        "id": "MSiIKs2LRiBr",
        "colab_type": "code",
        "colab": {
          "base_uri": "https://localhost:8080/",
          "height": 326
        },
        "outputId": "458cfecf-a489-49dd-f1aa-3f425a1c7563"
      },
      "source": [
        "rating = pd.read_csv('/content/BX-Book-Ratings.csv', sep=';', error_bad_lines=False, encoding=\"latin-1\")\n",
        "user = pd.read_csv('/content/BX-Users.csv', sep=';', error_bad_lines=False, encoding=\"latin-1\")\n",
        "book = pd.read_csv('/content/BX-Books.csv', sep=';', error_bad_lines=False, encoding=\"latin-1\")\n",
        "book_rating = pd.merge(rating, book, on='ISBN')\n",
        "cols = ['Year-Of-Publication', 'Publisher', 'Book-Author', 'Image-URL-S', 'Image-URL-M', 'Image-URL-L']\n",
        "book_rating.drop(cols, axis=1, inplace=True)\n",
        "book_rating.head()"
      ],
      "execution_count": 4,
      "outputs": [
        {
          "output_type": "stream",
          "text": [
            "b'Skipping line 6452: expected 8 fields, saw 9\\nSkipping line 43667: expected 8 fields, saw 10\\nSkipping line 51751: expected 8 fields, saw 9\\n'\n",
            "b'Skipping line 92038: expected 8 fields, saw 9\\nSkipping line 104319: expected 8 fields, saw 9\\nSkipping line 121768: expected 8 fields, saw 9\\n'\n",
            "b'Skipping line 144058: expected 8 fields, saw 9\\nSkipping line 150789: expected 8 fields, saw 9\\nSkipping line 157128: expected 8 fields, saw 9\\nSkipping line 180189: expected 8 fields, saw 9\\nSkipping line 185738: expected 8 fields, saw 9\\n'\n",
            "b'Skipping line 209388: expected 8 fields, saw 9\\nSkipping line 220626: expected 8 fields, saw 9\\nSkipping line 227933: expected 8 fields, saw 11\\nSkipping line 228957: expected 8 fields, saw 10\\nSkipping line 245933: expected 8 fields, saw 9\\nSkipping line 251296: expected 8 fields, saw 9\\nSkipping line 259941: expected 8 fields, saw 9\\nSkipping line 261529: expected 8 fields, saw 9\\n'\n",
            "/usr/local/lib/python3.6/dist-packages/IPython/core/interactiveshell.py:2718: DtypeWarning: Columns (3) have mixed types. Specify dtype option on import or set low_memory=False.\n",
            "  interactivity=interactivity, compiler=compiler, result=result)\n"
          ],
          "name": "stderr"
        },
        {
          "output_type": "execute_result",
          "data": {
            "text/html": [
              "<div>\n",
              "<style scoped>\n",
              "    .dataframe tbody tr th:only-of-type {\n",
              "        vertical-align: middle;\n",
              "    }\n",
              "\n",
              "    .dataframe tbody tr th {\n",
              "        vertical-align: top;\n",
              "    }\n",
              "\n",
              "    .dataframe thead th {\n",
              "        text-align: right;\n",
              "    }\n",
              "</style>\n",
              "<table border=\"1\" class=\"dataframe\">\n",
              "  <thead>\n",
              "    <tr style=\"text-align: right;\">\n",
              "      <th></th>\n",
              "      <th>User-ID</th>\n",
              "      <th>ISBN</th>\n",
              "      <th>Book-Rating</th>\n",
              "      <th>Book-Title</th>\n",
              "    </tr>\n",
              "  </thead>\n",
              "  <tbody>\n",
              "    <tr>\n",
              "      <th>0</th>\n",
              "      <td>276725</td>\n",
              "      <td>034545104X</td>\n",
              "      <td>0</td>\n",
              "      <td>Flesh Tones: A Novel</td>\n",
              "    </tr>\n",
              "    <tr>\n",
              "      <th>1</th>\n",
              "      <td>2313</td>\n",
              "      <td>034545104X</td>\n",
              "      <td>5</td>\n",
              "      <td>Flesh Tones: A Novel</td>\n",
              "    </tr>\n",
              "    <tr>\n",
              "      <th>2</th>\n",
              "      <td>6543</td>\n",
              "      <td>034545104X</td>\n",
              "      <td>0</td>\n",
              "      <td>Flesh Tones: A Novel</td>\n",
              "    </tr>\n",
              "    <tr>\n",
              "      <th>3</th>\n",
              "      <td>8680</td>\n",
              "      <td>034545104X</td>\n",
              "      <td>5</td>\n",
              "      <td>Flesh Tones: A Novel</td>\n",
              "    </tr>\n",
              "    <tr>\n",
              "      <th>4</th>\n",
              "      <td>10314</td>\n",
              "      <td>034545104X</td>\n",
              "      <td>9</td>\n",
              "      <td>Flesh Tones: A Novel</td>\n",
              "    </tr>\n",
              "  </tbody>\n",
              "</table>\n",
              "</div>"
            ],
            "text/plain": [
              "   User-ID        ISBN  Book-Rating            Book-Title\n",
              "0   276725  034545104X            0  Flesh Tones: A Novel\n",
              "1     2313  034545104X            5  Flesh Tones: A Novel\n",
              "2     6543  034545104X            0  Flesh Tones: A Novel\n",
              "3     8680  034545104X            5  Flesh Tones: A Novel\n",
              "4    10314  034545104X            9  Flesh Tones: A Novel"
            ]
          },
          "metadata": {
            "tags": []
          },
          "execution_count": 4
        }
      ]
    },
    {
      "cell_type": "code",
      "metadata": {
        "id": "lHAfEjcTRiBu",
        "colab_type": "code",
        "colab": {
          "base_uri": "https://localhost:8080/",
          "height": 142
        },
        "outputId": "f2bae8d1-a7ee-47f5-8f60-919b98ba3b83"
      },
      "source": [
        "book_rating.head(3)"
      ],
      "execution_count": 5,
      "outputs": [
        {
          "output_type": "execute_result",
          "data": {
            "text/html": [
              "<div>\n",
              "<style scoped>\n",
              "    .dataframe tbody tr th:only-of-type {\n",
              "        vertical-align: middle;\n",
              "    }\n",
              "\n",
              "    .dataframe tbody tr th {\n",
              "        vertical-align: top;\n",
              "    }\n",
              "\n",
              "    .dataframe thead th {\n",
              "        text-align: right;\n",
              "    }\n",
              "</style>\n",
              "<table border=\"1\" class=\"dataframe\">\n",
              "  <thead>\n",
              "    <tr style=\"text-align: right;\">\n",
              "      <th></th>\n",
              "      <th>User-ID</th>\n",
              "      <th>ISBN</th>\n",
              "      <th>Book-Rating</th>\n",
              "      <th>Book-Title</th>\n",
              "    </tr>\n",
              "  </thead>\n",
              "  <tbody>\n",
              "    <tr>\n",
              "      <th>0</th>\n",
              "      <td>276725</td>\n",
              "      <td>034545104X</td>\n",
              "      <td>0</td>\n",
              "      <td>Flesh Tones: A Novel</td>\n",
              "    </tr>\n",
              "    <tr>\n",
              "      <th>1</th>\n",
              "      <td>2313</td>\n",
              "      <td>034545104X</td>\n",
              "      <td>5</td>\n",
              "      <td>Flesh Tones: A Novel</td>\n",
              "    </tr>\n",
              "    <tr>\n",
              "      <th>2</th>\n",
              "      <td>6543</td>\n",
              "      <td>034545104X</td>\n",
              "      <td>0</td>\n",
              "      <td>Flesh Tones: A Novel</td>\n",
              "    </tr>\n",
              "  </tbody>\n",
              "</table>\n",
              "</div>"
            ],
            "text/plain": [
              "   User-ID        ISBN  Book-Rating            Book-Title\n",
              "0   276725  034545104X            0  Flesh Tones: A Novel\n",
              "1     2313  034545104X            5  Flesh Tones: A Novel\n",
              "2     6543  034545104X            0  Flesh Tones: A Novel"
            ]
          },
          "metadata": {
            "tags": []
          },
          "execution_count": 5
        }
      ]
    },
    {
      "cell_type": "code",
      "metadata": {
        "id": "TL1f8xLVRiBw",
        "colab_type": "code",
        "colab": {
          "base_uri": "https://localhost:8080/",
          "height": 204
        },
        "outputId": "a8cf87d8-cf08-4b50-bcee-dd346ab60211"
      },
      "source": [
        "rating_count = (book_rating.\n",
        "     groupby(by = ['Book-Title'])['Book-Rating'].\n",
        "     count().\n",
        "     reset_index().\n",
        "     rename(columns = {'Book-Rating': 'RatingCount_book'})\n",
        "     [['Book-Title', 'RatingCount_book']]\n",
        "    )\n",
        "rating_count.head()"
      ],
      "execution_count": 6,
      "outputs": [
        {
          "output_type": "execute_result",
          "data": {
            "text/html": [
              "<div>\n",
              "<style scoped>\n",
              "    .dataframe tbody tr th:only-of-type {\n",
              "        vertical-align: middle;\n",
              "    }\n",
              "\n",
              "    .dataframe tbody tr th {\n",
              "        vertical-align: top;\n",
              "    }\n",
              "\n",
              "    .dataframe thead th {\n",
              "        text-align: right;\n",
              "    }\n",
              "</style>\n",
              "<table border=\"1\" class=\"dataframe\">\n",
              "  <thead>\n",
              "    <tr style=\"text-align: right;\">\n",
              "      <th></th>\n",
              "      <th>Book-Title</th>\n",
              "      <th>RatingCount_book</th>\n",
              "    </tr>\n",
              "  </thead>\n",
              "  <tbody>\n",
              "    <tr>\n",
              "      <th>0</th>\n",
              "      <td>A Light in the Storm: The Civil War Diary of ...</td>\n",
              "      <td>4</td>\n",
              "    </tr>\n",
              "    <tr>\n",
              "      <th>1</th>\n",
              "      <td>Always Have Popsicles</td>\n",
              "      <td>1</td>\n",
              "    </tr>\n",
              "    <tr>\n",
              "      <th>2</th>\n",
              "      <td>Apple Magic (The Collector's series)</td>\n",
              "      <td>1</td>\n",
              "    </tr>\n",
              "    <tr>\n",
              "      <th>3</th>\n",
              "      <td>Ask Lily (Young Women of Faith: Lily Series, ...</td>\n",
              "      <td>1</td>\n",
              "    </tr>\n",
              "    <tr>\n",
              "      <th>4</th>\n",
              "      <td>Beyond IBM: Leadership Marketing and Finance ...</td>\n",
              "      <td>1</td>\n",
              "    </tr>\n",
              "  </tbody>\n",
              "</table>\n",
              "</div>"
            ],
            "text/plain": [
              "                                          Book-Title  RatingCount_book\n",
              "0   A Light in the Storm: The Civil War Diary of ...                 4\n",
              "1                              Always Have Popsicles                 1\n",
              "2               Apple Magic (The Collector's series)                 1\n",
              "3   Ask Lily (Young Women of Faith: Lily Series, ...                 1\n",
              "4   Beyond IBM: Leadership Marketing and Finance ...                 1"
            ]
          },
          "metadata": {
            "tags": []
          },
          "execution_count": 6
        }
      ]
    },
    {
      "cell_type": "code",
      "metadata": {
        "id": "dumZ0wnzRiBy",
        "colab_type": "code",
        "colab": {
          "base_uri": "https://localhost:8080/",
          "height": 204
        },
        "outputId": "2f297a42-e52e-4cab-d658-6a0be272ae07"
      },
      "source": [
        "threshold = 25\n",
        "rating_count = rating_count.query('RatingCount_book >= @threshold')\n",
        "rating_count.head()"
      ],
      "execution_count": 7,
      "outputs": [
        {
          "output_type": "execute_result",
          "data": {
            "text/html": [
              "<div>\n",
              "<style scoped>\n",
              "    .dataframe tbody tr th:only-of-type {\n",
              "        vertical-align: middle;\n",
              "    }\n",
              "\n",
              "    .dataframe tbody tr th {\n",
              "        vertical-align: top;\n",
              "    }\n",
              "\n",
              "    .dataframe thead th {\n",
              "        text-align: right;\n",
              "    }\n",
              "</style>\n",
              "<table border=\"1\" class=\"dataframe\">\n",
              "  <thead>\n",
              "    <tr style=\"text-align: right;\">\n",
              "      <th></th>\n",
              "      <th>Book-Title</th>\n",
              "      <th>RatingCount_book</th>\n",
              "    </tr>\n",
              "  </thead>\n",
              "  <tbody>\n",
              "    <tr>\n",
              "      <th>75</th>\n",
              "      <td>'Salem's Lot</td>\n",
              "      <td>47</td>\n",
              "    </tr>\n",
              "    <tr>\n",
              "      <th>203</th>\n",
              "      <td>10 Lb. Penalty</td>\n",
              "      <td>61</td>\n",
              "    </tr>\n",
              "    <tr>\n",
              "      <th>422</th>\n",
              "      <td>101 Dalmatians</td>\n",
              "      <td>37</td>\n",
              "    </tr>\n",
              "    <tr>\n",
              "      <th>673</th>\n",
              "      <td>14,000 Things to Be Happy About</td>\n",
              "      <td>28</td>\n",
              "    </tr>\n",
              "    <tr>\n",
              "      <th>697</th>\n",
              "      <td>16 Lighthouse Road</td>\n",
              "      <td>65</td>\n",
              "    </tr>\n",
              "  </tbody>\n",
              "</table>\n",
              "</div>"
            ],
            "text/plain": [
              "                          Book-Title  RatingCount_book\n",
              "75                      'Salem's Lot                47\n",
              "203                   10 Lb. Penalty                61\n",
              "422                   101 Dalmatians                37\n",
              "673  14,000 Things to Be Happy About                28\n",
              "697               16 Lighthouse Road                65"
            ]
          },
          "metadata": {
            "tags": []
          },
          "execution_count": 7
        }
      ]
    },
    {
      "cell_type": "code",
      "metadata": {
        "id": "ujYY4LqJRiB0",
        "colab_type": "code",
        "colab": {
          "base_uri": "https://localhost:8080/",
          "height": 142
        },
        "outputId": "beae0733-ce3f-4b22-c32f-cd3abfb42e26"
      },
      "source": [
        "book_rating.head(3)"
      ],
      "execution_count": 8,
      "outputs": [
        {
          "output_type": "execute_result",
          "data": {
            "text/html": [
              "<div>\n",
              "<style scoped>\n",
              "    .dataframe tbody tr th:only-of-type {\n",
              "        vertical-align: middle;\n",
              "    }\n",
              "\n",
              "    .dataframe tbody tr th {\n",
              "        vertical-align: top;\n",
              "    }\n",
              "\n",
              "    .dataframe thead th {\n",
              "        text-align: right;\n",
              "    }\n",
              "</style>\n",
              "<table border=\"1\" class=\"dataframe\">\n",
              "  <thead>\n",
              "    <tr style=\"text-align: right;\">\n",
              "      <th></th>\n",
              "      <th>User-ID</th>\n",
              "      <th>ISBN</th>\n",
              "      <th>Book-Rating</th>\n",
              "      <th>Book-Title</th>\n",
              "    </tr>\n",
              "  </thead>\n",
              "  <tbody>\n",
              "    <tr>\n",
              "      <th>0</th>\n",
              "      <td>276725</td>\n",
              "      <td>034545104X</td>\n",
              "      <td>0</td>\n",
              "      <td>Flesh Tones: A Novel</td>\n",
              "    </tr>\n",
              "    <tr>\n",
              "      <th>1</th>\n",
              "      <td>2313</td>\n",
              "      <td>034545104X</td>\n",
              "      <td>5</td>\n",
              "      <td>Flesh Tones: A Novel</td>\n",
              "    </tr>\n",
              "    <tr>\n",
              "      <th>2</th>\n",
              "      <td>6543</td>\n",
              "      <td>034545104X</td>\n",
              "      <td>0</td>\n",
              "      <td>Flesh Tones: A Novel</td>\n",
              "    </tr>\n",
              "  </tbody>\n",
              "</table>\n",
              "</div>"
            ],
            "text/plain": [
              "   User-ID        ISBN  Book-Rating            Book-Title\n",
              "0   276725  034545104X            0  Flesh Tones: A Novel\n",
              "1     2313  034545104X            5  Flesh Tones: A Novel\n",
              "2     6543  034545104X            0  Flesh Tones: A Novel"
            ]
          },
          "metadata": {
            "tags": []
          },
          "execution_count": 8
        }
      ]
    },
    {
      "cell_type": "code",
      "metadata": {
        "id": "SeacggjHRiB1",
        "colab_type": "code",
        "colab": {}
      },
      "source": [
        "user_rating = pd.merge(rating_count, book_rating, left_on='Book-Title', right_on='Book-Title', how='left')"
      ],
      "execution_count": 0,
      "outputs": []
    },
    {
      "cell_type": "code",
      "metadata": {
        "id": "sFh1EtvJRiB3",
        "colab_type": "code",
        "colab": {
          "base_uri": "https://localhost:8080/",
          "height": 142
        },
        "outputId": "e127245c-c14c-41df-d11b-38052d4ce414"
      },
      "source": [
        "user_rating.head(3)"
      ],
      "execution_count": 10,
      "outputs": [
        {
          "output_type": "execute_result",
          "data": {
            "text/html": [
              "<div>\n",
              "<style scoped>\n",
              "    .dataframe tbody tr th:only-of-type {\n",
              "        vertical-align: middle;\n",
              "    }\n",
              "\n",
              "    .dataframe tbody tr th {\n",
              "        vertical-align: top;\n",
              "    }\n",
              "\n",
              "    .dataframe thead th {\n",
              "        text-align: right;\n",
              "    }\n",
              "</style>\n",
              "<table border=\"1\" class=\"dataframe\">\n",
              "  <thead>\n",
              "    <tr style=\"text-align: right;\">\n",
              "      <th></th>\n",
              "      <th>Book-Title</th>\n",
              "      <th>RatingCount_book</th>\n",
              "      <th>User-ID</th>\n",
              "      <th>ISBN</th>\n",
              "      <th>Book-Rating</th>\n",
              "    </tr>\n",
              "  </thead>\n",
              "  <tbody>\n",
              "    <tr>\n",
              "      <th>0</th>\n",
              "      <td>'Salem's Lot</td>\n",
              "      <td>47</td>\n",
              "      <td>8936</td>\n",
              "      <td>067103975X</td>\n",
              "      <td>0</td>\n",
              "    </tr>\n",
              "    <tr>\n",
              "      <th>1</th>\n",
              "      <td>'Salem's Lot</td>\n",
              "      <td>47</td>\n",
              "      <td>172245</td>\n",
              "      <td>067103975X</td>\n",
              "      <td>0</td>\n",
              "    </tr>\n",
              "    <tr>\n",
              "      <th>2</th>\n",
              "      <td>'Salem's Lot</td>\n",
              "      <td>47</td>\n",
              "      <td>189835</td>\n",
              "      <td>067103975X</td>\n",
              "      <td>5</td>\n",
              "    </tr>\n",
              "  </tbody>\n",
              "</table>\n",
              "</div>"
            ],
            "text/plain": [
              "     Book-Title  RatingCount_book  User-ID        ISBN  Book-Rating\n",
              "0  'Salem's Lot                47     8936  067103975X            0\n",
              "1  'Salem's Lot                47   172245  067103975X            0\n",
              "2  'Salem's Lot                47   189835  067103975X            5"
            ]
          },
          "metadata": {
            "tags": []
          },
          "execution_count": 10
        }
      ]
    },
    {
      "cell_type": "code",
      "metadata": {
        "id": "3VLGoplDRiB5",
        "colab_type": "code",
        "colab": {
          "base_uri": "https://localhost:8080/",
          "height": 204
        },
        "outputId": "81137363-ba03-418b-8072-731097816f59"
      },
      "source": [
        "user_count = (user_rating.\n",
        "     groupby(by = ['User-ID'])['Book-Rating'].\n",
        "     count().\n",
        "     reset_index().\n",
        "     rename(columns = {'Book-Rating': 'RatingCount_user'})\n",
        "     [['User-ID', 'RatingCount_user']]\n",
        "    )\n",
        "user_count.head()"
      ],
      "execution_count": 11,
      "outputs": [
        {
          "output_type": "execute_result",
          "data": {
            "text/html": [
              "<div>\n",
              "<style scoped>\n",
              "    .dataframe tbody tr th:only-of-type {\n",
              "        vertical-align: middle;\n",
              "    }\n",
              "\n",
              "    .dataframe tbody tr th {\n",
              "        vertical-align: top;\n",
              "    }\n",
              "\n",
              "    .dataframe thead th {\n",
              "        text-align: right;\n",
              "    }\n",
              "</style>\n",
              "<table border=\"1\" class=\"dataframe\">\n",
              "  <thead>\n",
              "    <tr style=\"text-align: right;\">\n",
              "      <th></th>\n",
              "      <th>User-ID</th>\n",
              "      <th>RatingCount_user</th>\n",
              "    </tr>\n",
              "  </thead>\n",
              "  <tbody>\n",
              "    <tr>\n",
              "      <th>0</th>\n",
              "      <td>8</td>\n",
              "      <td>2</td>\n",
              "    </tr>\n",
              "    <tr>\n",
              "      <th>1</th>\n",
              "      <td>9</td>\n",
              "      <td>2</td>\n",
              "    </tr>\n",
              "    <tr>\n",
              "      <th>2</th>\n",
              "      <td>10</td>\n",
              "      <td>1</td>\n",
              "    </tr>\n",
              "    <tr>\n",
              "      <th>3</th>\n",
              "      <td>14</td>\n",
              "      <td>1</td>\n",
              "    </tr>\n",
              "    <tr>\n",
              "      <th>4</th>\n",
              "      <td>16</td>\n",
              "      <td>2</td>\n",
              "    </tr>\n",
              "  </tbody>\n",
              "</table>\n",
              "</div>"
            ],
            "text/plain": [
              "   User-ID  RatingCount_user\n",
              "0        8                 2\n",
              "1        9                 2\n",
              "2       10                 1\n",
              "3       14                 1\n",
              "4       16                 2"
            ]
          },
          "metadata": {
            "tags": []
          },
          "execution_count": 11
        }
      ]
    },
    {
      "cell_type": "code",
      "metadata": {
        "id": "-5M0ltxzRiB7",
        "colab_type": "code",
        "colab": {
          "base_uri": "https://localhost:8080/",
          "height": 204
        },
        "outputId": "7dd9ac40-f813-40e1-e479-a59c71cc2ba5"
      },
      "source": [
        "threshold = 20\n",
        "user_count = user_count.query('RatingCount_user >= @threshold')\n",
        "user_count.head()"
      ],
      "execution_count": 12,
      "outputs": [
        {
          "output_type": "execute_result",
          "data": {
            "text/html": [
              "<div>\n",
              "<style scoped>\n",
              "    .dataframe tbody tr th:only-of-type {\n",
              "        vertical-align: middle;\n",
              "    }\n",
              "\n",
              "    .dataframe tbody tr th {\n",
              "        vertical-align: top;\n",
              "    }\n",
              "\n",
              "    .dataframe thead th {\n",
              "        text-align: right;\n",
              "    }\n",
              "</style>\n",
              "<table border=\"1\" class=\"dataframe\">\n",
              "  <thead>\n",
              "    <tr style=\"text-align: right;\">\n",
              "      <th></th>\n",
              "      <th>User-ID</th>\n",
              "      <th>RatingCount_user</th>\n",
              "    </tr>\n",
              "  </thead>\n",
              "  <tbody>\n",
              "    <tr>\n",
              "      <th>52</th>\n",
              "      <td>243</td>\n",
              "      <td>68</td>\n",
              "    </tr>\n",
              "    <tr>\n",
              "      <th>54</th>\n",
              "      <td>254</td>\n",
              "      <td>139</td>\n",
              "    </tr>\n",
              "    <tr>\n",
              "      <th>89</th>\n",
              "      <td>487</td>\n",
              "      <td>21</td>\n",
              "    </tr>\n",
              "    <tr>\n",
              "      <th>96</th>\n",
              "      <td>507</td>\n",
              "      <td>61</td>\n",
              "    </tr>\n",
              "    <tr>\n",
              "      <th>115</th>\n",
              "      <td>638</td>\n",
              "      <td>51</td>\n",
              "    </tr>\n",
              "  </tbody>\n",
              "</table>\n",
              "</div>"
            ],
            "text/plain": [
              "     User-ID  RatingCount_user\n",
              "52       243                68\n",
              "54       254               139\n",
              "89       487                21\n",
              "96       507                61\n",
              "115      638                51"
            ]
          },
          "metadata": {
            "tags": []
          },
          "execution_count": 12
        }
      ]
    },
    {
      "cell_type": "code",
      "metadata": {
        "id": "zrDt8-CGRiB9",
        "colab_type": "code",
        "colab": {}
      },
      "source": [
        "combined = user_rating.merge(user_count, left_on = 'User-ID', right_on = 'User-ID', how = 'inner')"
      ],
      "execution_count": 0,
      "outputs": []
    },
    {
      "cell_type": "code",
      "metadata": {
        "id": "hjXwIas2RiB_",
        "colab_type": "code",
        "colab": {
          "base_uri": "https://localhost:8080/",
          "height": 142
        },
        "outputId": "e91c34fa-e3c4-41d5-c39d-f6db6f579b66"
      },
      "source": [
        "combined.head(3)"
      ],
      "execution_count": 14,
      "outputs": [
        {
          "output_type": "execute_result",
          "data": {
            "text/html": [
              "<div>\n",
              "<style scoped>\n",
              "    .dataframe tbody tr th:only-of-type {\n",
              "        vertical-align: middle;\n",
              "    }\n",
              "\n",
              "    .dataframe tbody tr th {\n",
              "        vertical-align: top;\n",
              "    }\n",
              "\n",
              "    .dataframe thead th {\n",
              "        text-align: right;\n",
              "    }\n",
              "</style>\n",
              "<table border=\"1\" class=\"dataframe\">\n",
              "  <thead>\n",
              "    <tr style=\"text-align: right;\">\n",
              "      <th></th>\n",
              "      <th>Book-Title</th>\n",
              "      <th>RatingCount_book</th>\n",
              "      <th>User-ID</th>\n",
              "      <th>ISBN</th>\n",
              "      <th>Book-Rating</th>\n",
              "      <th>RatingCount_user</th>\n",
              "    </tr>\n",
              "  </thead>\n",
              "  <tbody>\n",
              "    <tr>\n",
              "      <th>0</th>\n",
              "      <td>'Salem's Lot</td>\n",
              "      <td>47</td>\n",
              "      <td>8936</td>\n",
              "      <td>067103975X</td>\n",
              "      <td>0</td>\n",
              "      <td>177</td>\n",
              "    </tr>\n",
              "    <tr>\n",
              "      <th>1</th>\n",
              "      <td>1st to Die: A Novel</td>\n",
              "      <td>509</td>\n",
              "      <td>8936</td>\n",
              "      <td>0446610038</td>\n",
              "      <td>0</td>\n",
              "      <td>177</td>\n",
              "    </tr>\n",
              "    <tr>\n",
              "      <th>2</th>\n",
              "      <td>A Case of Need</td>\n",
              "      <td>236</td>\n",
              "      <td>8936</td>\n",
              "      <td>0451210638</td>\n",
              "      <td>0</td>\n",
              "      <td>177</td>\n",
              "    </tr>\n",
              "  </tbody>\n",
              "</table>\n",
              "</div>"
            ],
            "text/plain": [
              "            Book-Title  RatingCount_book  ...  Book-Rating RatingCount_user\n",
              "0         'Salem's Lot                47  ...            0              177\n",
              "1  1st to Die: A Novel               509  ...            0              177\n",
              "2       A Case of Need               236  ...            0              177\n",
              "\n",
              "[3 rows x 6 columns]"
            ]
          },
          "metadata": {
            "tags": []
          },
          "execution_count": 14
        }
      ]
    },
    {
      "cell_type": "code",
      "metadata": {
        "id": "p1d3zoUVRiCA",
        "colab_type": "code",
        "colab": {
          "base_uri": "https://localhost:8080/",
          "height": 34
        },
        "outputId": "21af160b-bc34-4830-f886-51db805550ab"
      },
      "source": [
        "combined.shape"
      ],
      "execution_count": 15,
      "outputs": [
        {
          "output_type": "execute_result",
          "data": {
            "text/plain": [
              "(263467, 6)"
            ]
          },
          "metadata": {
            "tags": []
          },
          "execution_count": 15
        }
      ]
    },
    {
      "cell_type": "code",
      "metadata": {
        "id": "HrxBmiLSRiCC",
        "colab_type": "code",
        "colab": {
          "base_uri": "https://localhost:8080/",
          "height": 51
        },
        "outputId": "37c04ad2-5dd2-48e5-ea08-7ebff8630ab2"
      },
      "source": [
        "print('Number of unique books: ', combined['Book-Title'].nunique())\n",
        "print('Number of unique users: ', combined['User-ID'].nunique())"
      ],
      "execution_count": 16,
      "outputs": [
        {
          "output_type": "stream",
          "text": [
            "Number of unique books:  5850\n",
            "Number of unique users:  3192\n"
          ],
          "name": "stdout"
        }
      ]
    },
    {
      "cell_type": "markdown",
      "metadata": {
        "id": "MM2JdWu-RiCE",
        "colab_type": "text"
      },
      "source": [
        "Normalize the ratings."
      ]
    },
    {
      "cell_type": "code",
      "metadata": {
        "id": "nAlccISlRiCE",
        "colab_type": "code",
        "colab": {}
      },
      "source": [
        "scaler = MinMaxScaler()\n",
        "combined['Book-Rating'] = combined['Book-Rating'].values.astype(float)\n",
        "rating_scaled = pd.DataFrame(scaler.fit_transform(combined['Book-Rating'].values.reshape(-1,1)))\n",
        "combined['Book-Rating'] = rating_scaled"
      ],
      "execution_count": 0,
      "outputs": []
    },
    {
      "cell_type": "markdown",
      "metadata": {
        "id": "qdsBSq1IRiCG",
        "colab_type": "text"
      },
      "source": [
        "Abd build the user book matrix."
      ]
    },
    {
      "cell_type": "code",
      "metadata": {
        "id": "oTINyg-jRiCG",
        "colab_type": "code",
        "colab": {
          "base_uri": "https://localhost:8080/",
          "height": 71
        },
        "outputId": "4439a870-e537-49d7-b73a-e61a03e99bee"
      },
      "source": [
        "combined = combined.drop_duplicates(['User-ID', 'Book-Title'])\n",
        "user_book_matrix = combined.pivot(index='User-ID', columns='Book-Title', values='Book-Rating')\n",
        "user_book_matrix.fillna(0, inplace=True)\n",
        "\n",
        "users = user_book_matrix.index.tolist()\n",
        "books = user_book_matrix.columns.tolist()\n",
        "\n",
        "user_book_matrix = user_book_matrix.as_matrix()"
      ],
      "execution_count": 18,
      "outputs": [
        {
          "output_type": "stream",
          "text": [
            "/usr/local/lib/python3.6/dist-packages/ipykernel_launcher.py:8: FutureWarning: Method .as_matrix will be removed in a future version. Use .values instead.\n",
            "  \n"
          ],
          "name": "stderr"
        }
      ]
    },
    {
      "cell_type": "markdown",
      "metadata": {
        "id": "rJaNq7eZRiCI",
        "colab_type": "text"
      },
      "source": [
        "tf.placeholder only available in v1, so we have to work around. "
      ]
    },
    {
      "cell_type": "code",
      "metadata": {
        "id": "Mb_4zOegRiCJ",
        "colab_type": "code",
        "colab": {
          "base_uri": "https://localhost:8080/",
          "height": 88
        },
        "outputId": "a3ab8418-4872-4a44-9d60-9fce20b4c908"
      },
      "source": [
        "import tensorflow.compat.v1 as tf\n",
        "tf.disable_v2_behavior()"
      ],
      "execution_count": 19,
      "outputs": [
        {
          "output_type": "stream",
          "text": [
            "WARNING:tensorflow:From /usr/local/lib/python3.6/dist-packages/tensorflow/python/compat/v2_compat.py:61: disable_resource_variables (from tensorflow.python.ops.variable_scope) is deprecated and will be removed in a future version.\n",
            "Instructions for updating:\n",
            "non-resource variables are not supported in the long term\n"
          ],
          "name": "stdout"
        }
      ]
    },
    {
      "cell_type": "markdown",
      "metadata": {
        "id": "RP_OIOMuRiCK",
        "colab_type": "text"
      },
      "source": [
        "We will initialize the TensorFlow placeholder. Then, weights and biases are randomly initialized, the following code are taken from the book: Python Machine Learning Cook Book - Second Edition"
      ]
    },
    {
      "cell_type": "code",
      "metadata": {
        "id": "VvMnd5p9RiCL",
        "colab_type": "code",
        "colab": {}
      },
      "source": [
        "num_input = combined['Book-Title'].nunique()\n",
        "num_hidden_1 = 10\n",
        "num_hidden_2 = 5\n",
        "\n",
        "X = tf.placeholder(tf.float64, [None, num_input])\n",
        "\n",
        "weights = {\n",
        "    'encoder_h1': tf.Variable(tf.random_normal([num_input, num_hidden_1], dtype=tf.float64)),\n",
        "    'encoder_h2': tf.Variable(tf.random_normal([num_hidden_1, num_hidden_2], dtype=tf.float64)),\n",
        "    'decoder_h1': tf.Variable(tf.random_normal([num_hidden_2, num_hidden_1], dtype=tf.float64)),\n",
        "    'decoder_h2': tf.Variable(tf.random_normal([num_hidden_1, num_input], dtype=tf.float64)),\n",
        "}\n",
        "\n",
        "biases = {\n",
        "    'encoder_b1': tf.Variable(tf.random_normal([num_hidden_1], dtype=tf.float64)),\n",
        "    'encoder_b2': tf.Variable(tf.random_normal([num_hidden_2], dtype=tf.float64)),\n",
        "    'decoder_b1': tf.Variable(tf.random_normal([num_hidden_1], dtype=tf.float64)),\n",
        "    'decoder_b2': tf.Variable(tf.random_normal([num_input], dtype=tf.float64)),\n",
        "}"
      ],
      "execution_count": 0,
      "outputs": []
    },
    {
      "cell_type": "markdown",
      "metadata": {
        "id": "N6ao60lORiCM",
        "colab_type": "text"
      },
      "source": [
        "Now, we can build the encoder and decoder model, as follows:"
      ]
    },
    {
      "cell_type": "code",
      "metadata": {
        "id": "8shdKV1QRiCO",
        "colab_type": "code",
        "colab": {}
      },
      "source": [
        "def encoder(x):\n",
        "    layer_1 = tf.nn.sigmoid(tf.add(tf.matmul(x, weights['encoder_h1']), biases['encoder_b1']))\n",
        "    layer_2 = tf.nn.sigmoid(tf.add(tf.matmul(layer_1, weights['encoder_h2']), biases['encoder_b2']))\n",
        "    return layer_2\n",
        "\n",
        "def decoder(x):\n",
        "    layer_1 = tf.nn.sigmoid(tf.add(tf.matmul(x, weights['decoder_h1']), biases['decoder_b1']))\n",
        "    layer_2 = tf.nn.sigmoid(tf.add(tf.matmul(layer_1, weights['decoder_h2']), biases['decoder_b2']))\n",
        "    return layer_2"
      ],
      "execution_count": 0,
      "outputs": []
    },
    {
      "cell_type": "markdown",
      "metadata": {
        "id": "JPzXDegeRiCQ",
        "colab_type": "text"
      },
      "source": [
        "We will construct the model and the predictions"
      ]
    },
    {
      "cell_type": "code",
      "metadata": {
        "id": "CK4lPIN3RiCR",
        "colab_type": "code",
        "colab": {}
      },
      "source": [
        "encoder_op = encoder(X)\n",
        "decoder_op = decoder(encoder_op)\n",
        "\n",
        "y_pred = decoder_op\n",
        "\n",
        "y_true = X"
      ],
      "execution_count": 0,
      "outputs": []
    },
    {
      "cell_type": "markdown",
      "metadata": {
        "id": "SSmYv3RHRiCU",
        "colab_type": "text"
      },
      "source": [
        "define loss function and optimizer, and minimize the squared error, and define the evaluation metrics"
      ]
    },
    {
      "cell_type": "code",
      "metadata": {
        "id": "Tz4VHJggRiCU",
        "colab_type": "code",
        "colab": {
          "base_uri": "https://localhost:8080/",
          "height": 190
        },
        "outputId": "ecc6f138-a8ba-4fe7-a54a-50712aceff32"
      },
      "source": [
        "loss = tf.losses.mean_squared_error(y_true, y_pred)\n",
        "optimizer = tf.train.RMSPropOptimizer(0.03).minimize(loss)\n",
        "eval_x = tf.placeholder(tf.int32, )\n",
        "eval_y = tf.placeholder(tf.int32, )\n",
        "pre, pre_op = tf.metrics.precision(labels=eval_x, predictions=eval_y)"
      ],
      "execution_count": 23,
      "outputs": [
        {
          "output_type": "stream",
          "text": [
            "WARNING:tensorflow:From /usr/local/lib/python3.6/dist-packages/tensorflow/python/ops/losses/losses_impl.py:121: add_dispatch_support.<locals>.wrapper (from tensorflow.python.ops.array_ops) is deprecated and will be removed in a future version.\n",
            "Instructions for updating:\n",
            "Use tf.where in 2.0, which has the same broadcast rule as np.where\n",
            "WARNING:tensorflow:From /usr/local/lib/python3.6/dist-packages/tensorflow/python/training/rmsprop.py:119: calling Ones.__init__ (from tensorflow.python.ops.init_ops) with dtype is deprecated and will be removed in a future version.\n",
            "Instructions for updating:\n",
            "Call initializer instance with the dtype argument instead of passing it to the constructor\n",
            "WARNING:tensorflow:From /usr/local/lib/python3.6/dist-packages/tensorflow/python/ops/metrics_impl.py:2027: div (from tensorflow.python.ops.math_ops) is deprecated and will be removed in a future version.\n",
            "Instructions for updating:\n",
            "Deprecated in favor of operator or tf.math.divide.\n"
          ],
          "name": "stdout"
        }
      ]
    },
    {
      "cell_type": "markdown",
      "metadata": {
        "id": "HPw99bluRiCW",
        "colab_type": "text"
      },
      "source": [
        "Initialize the variables. Because TensorFlow uses computational graphs for its operations, placeholders and variables must be initialized."
      ]
    },
    {
      "cell_type": "code",
      "metadata": {
        "id": "VVIcP2-ARiCX",
        "colab_type": "code",
        "colab": {}
      },
      "source": [
        "init = tf.global_variables_initializer()\n",
        "local_init = tf.local_variables_initializer()\n",
        "pred_data = pd.DataFrame()"
      ],
      "execution_count": 0,
      "outputs": []
    },
    {
      "cell_type": "markdown",
      "metadata": {
        "id": "ChFbChbDRiCZ",
        "colab_type": "text"
      },
      "source": [
        "We can finally start to train our model.\n",
        "\n",
        "We split training data into batches, and we feed the network with them.\n",
        "\n",
        "We train our model with vectors of user ratings, each vector represents a user and each column a book, and entries are ratings that the user gave to books. \n",
        "\n",
        "After a few trials, I discovered that training model for 5 epochs with a batch size of 10 would be consum enough memory. This means that the entire training set will feed our neural network 20 times, every time using 50 users."
      ]
    },
    {
      "cell_type": "code",
      "metadata": {
        "scrolled": false,
        "id": "lH5T8mL6RiCa",
        "colab_type": "code",
        "colab": {
          "base_uri": "https://localhost:8080/",
          "height": 1000
        },
        "outputId": "906bdf0d-1efb-4b30-c4f6-426afc729fc5"
      },
      "source": [
        "with tf.Session() as session:\n",
        "    epochs = 100\n",
        "    batch_size = 35\n",
        "\n",
        "    session.run(init)\n",
        "    session.run(local_init)\n",
        "\n",
        "    num_batches = int(user_book_matrix.shape[0] / batch_size)\n",
        "    user_book_matrix = np.array_split(user_book_matrix, num_batches)\n",
        "    \n",
        "    for i in range(epochs):\n",
        "\n",
        "        avg_cost = 0\n",
        "        for batch in user_book_matrix:\n",
        "            _, l = session.run([optimizer, loss], feed_dict={X: batch})\n",
        "            avg_cost += l\n",
        "\n",
        "        avg_cost /= num_batches\n",
        "\n",
        "        print(\"epoch: {} Loss: {}\".format(i + 1, avg_cost))\n",
        "\n",
        "    user_book_matrix = np.concatenate(user_book_matrix, axis=0)\n",
        "\n",
        "    preds = session.run(decoder_op, feed_dict={X: user_book_matrix})\n",
        "\n",
        "    pred_data = pred_data.append(pd.DataFrame(preds))\n",
        "\n",
        "    pred_data = pred_data.stack().reset_index(name='Book-Rating')\n",
        "    pred_data.columns = ['User-ID', 'Book-Title', 'Book-Rating']\n",
        "    pred_data['User-ID'] = pred_data['User-ID'].map(lambda value: users[value])\n",
        "    pred_data['Book-Title'] = pred_data['Book-Title'].map(lambda value: books[value])\n",
        "    \n",
        "    keys = ['User-ID', 'Book-Title']\n",
        "    index_1 = pred_data.set_index(keys).index\n",
        "    index_2 = combined.set_index(keys).index\n",
        "\n",
        "    top_ten_ranked = pred_data[~index_1.isin(index_2)]\n",
        "    top_ten_ranked = top_ten_ranked.sort_values(['User-ID', 'Book-Rating'], ascending=[True, False])\n",
        "    top_ten_ranked = top_ten_ranked.groupby('User-ID').head(10)"
      ],
      "execution_count": 25,
      "outputs": [
        {
          "output_type": "stream",
          "text": [
            "epoch: 1 Loss: 0.32466490681354815\n",
            "epoch: 2 Loss: 0.2815089245418926\n",
            "epoch: 3 Loss: 0.07397989453850212\n",
            "epoch: 4 Loss: 0.004011785547545815\n",
            "epoch: 5 Loss: 0.0034141011310966462\n",
            "epoch: 6 Loss: 0.003323120421955137\n",
            "epoch: 7 Loss: 0.0032846039726531933\n",
            "epoch: 8 Loss: 0.0032619239230241093\n",
            "epoch: 9 Loss: 0.0031687126221176198\n",
            "epoch: 10 Loss: 0.00306888923796078\n",
            "epoch: 11 Loss: 0.0030611163404371056\n",
            "epoch: 12 Loss: 0.003055261546530976\n",
            "epoch: 13 Loss: 0.0030506344622123864\n",
            "epoch: 14 Loss: 0.003046881288525413\n",
            "epoch: 15 Loss: 0.0030437747303109905\n",
            "epoch: 16 Loss: 0.0030411578098230147\n",
            "epoch: 17 Loss: 0.0030389154396419015\n",
            "epoch: 18 Loss: 0.0030369515451449123\n",
            "epoch: 19 Loss: 0.0030351344631616393\n",
            "epoch: 20 Loss: 0.0030145291366952135\n",
            "epoch: 21 Loss: 0.0028637325913123375\n",
            "epoch: 22 Loss: 0.0028615900210442616\n",
            "epoch: 23 Loss: 0.0028605115571785924\n",
            "epoch: 24 Loss: 0.0028595666012184305\n",
            "epoch: 25 Loss: 0.0028587155860265367\n",
            "epoch: 26 Loss: 0.00285794095975439\n",
            "epoch: 27 Loss: 0.002857229978122472\n",
            "epoch: 28 Loss: 0.0028565707104792307\n",
            "epoch: 29 Loss: 0.0028559477170826968\n",
            "epoch: 30 Loss: 0.0028553290924589548\n",
            "epoch: 31 Loss: 0.002854558401280543\n",
            "epoch: 32 Loss: 0.0027768983810137096\n",
            "epoch: 33 Loss: 0.00268412927411251\n",
            "epoch: 34 Loss: 0.00268334538066903\n",
            "epoch: 35 Loss: 0.0026829046859907415\n",
            "epoch: 36 Loss: 0.00268253961137936\n",
            "epoch: 37 Loss: 0.0026822163209134896\n",
            "epoch: 38 Loss: 0.0026819199492520355\n",
            "epoch: 39 Loss: 0.0026816439822541327\n",
            "epoch: 40 Loss: 0.002681385536401809\n",
            "epoch: 41 Loss: 0.0026811427273019986\n",
            "epoch: 42 Loss: 0.00268091415669155\n",
            "epoch: 43 Loss: 0.002680698602849229\n",
            "epoch: 44 Loss: 0.002680495010361403\n",
            "epoch: 45 Loss: 0.0026803023660309858\n",
            "epoch: 46 Loss: 0.002680119842157832\n",
            "epoch: 47 Loss: 0.0026799466545376315\n",
            "epoch: 48 Loss: 0.0026797820509483036\n",
            "epoch: 49 Loss: 0.0026796254672232893\n",
            "epoch: 50 Loss: 0.002679476271393699\n",
            "epoch: 51 Loss: 0.002679333964536724\n",
            "epoch: 52 Loss: 0.0026791981257662015\n",
            "epoch: 53 Loss: 0.0026790682484835876\n",
            "epoch: 54 Loss: 0.0026789440064701243\n",
            "epoch: 55 Loss: 0.002678825021056192\n",
            "epoch: 56 Loss: 0.002678710928923645\n",
            "epoch: 57 Loss: 0.0026786015074761523\n",
            "epoch: 58 Loss: 0.002678496479107947\n",
            "epoch: 59 Loss: 0.002678395506086667\n",
            "epoch: 60 Loss: 0.0026782983683745613\n",
            "epoch: 61 Loss: 0.002678204931646258\n",
            "epoch: 62 Loss: 0.0026781148888723374\n",
            "epoch: 63 Loss: 0.002678028100610271\n",
            "epoch: 64 Loss: 0.0026779444197417945\n",
            "epoch: 65 Loss: 0.0026778636070398185\n",
            "epoch: 66 Loss: 0.0026777854872417155\n",
            "epoch: 67 Loss: 0.0026777099771936844\n",
            "epoch: 68 Loss: 0.0026776369566425353\n",
            "epoch: 69 Loss: 0.002677566224739856\n",
            "epoch: 70 Loss: 0.0026774976753046386\n",
            "epoch: 71 Loss: 0.0026774311868044045\n",
            "epoch: 72 Loss: 0.002677366725977633\n",
            "epoch: 73 Loss: 0.0026773040791830192\n",
            "epoch: 74 Loss: 0.002677243236186249\n",
            "epoch: 75 Loss: 0.002677184038355455\n",
            "epoch: 76 Loss: 0.0026771264153297295\n",
            "epoch: 77 Loss: 0.0026770702430180143\n",
            "epoch: 78 Loss: 0.002677015484320921\n",
            "epoch: 79 Loss: 0.002676962007471657\n",
            "epoch: 80 Loss: 0.002676909743388603\n",
            "epoch: 81 Loss: 0.0026768586038008004\n",
            "epoch: 82 Loss: 0.0026768085029958695\n",
            "epoch: 83 Loss: 0.002676759347585695\n",
            "epoch: 84 Loss: 0.0026767109878934347\n",
            "epoch: 85 Loss: 0.0026766633893782785\n",
            "epoch: 86 Loss: 0.0026766163946876486\n",
            "epoch: 87 Loss: 0.0026765699027576943\n",
            "epoch: 88 Loss: 0.0026765237843802015\n",
            "epoch: 89 Loss: 0.0026764778962747736\n",
            "epoch: 90 Loss: 0.0026764321092331966\n",
            "epoch: 91 Loss: 0.002676386395111107\n",
            "epoch: 92 Loss: 0.0026763407539085043\n",
            "epoch: 93 Loss: 0.0026762952790135046\n",
            "epoch: 94 Loss: 0.0026762504284116593\n",
            "epoch: 95 Loss: 0.002676206771386685\n",
            "epoch: 96 Loss: 0.002676165089584314\n",
            "epoch: 97 Loss: 0.0026761258435486763\n",
            "epoch: 98 Loss: 0.0026760889821082026\n",
            "epoch: 99 Loss: 0.0026760541253139846\n",
            "epoch: 100 Loss: 0.002676020692368703\n"
          ],
          "name": "stdout"
        }
      ]
    },
    {
      "cell_type": "code",
      "metadata": {
        "id": "ryZCP5OKRiCb",
        "colab_type": "code",
        "colab": {
          "base_uri": "https://localhost:8080/",
          "height": 359
        },
        "outputId": "869357b1-9225-4162-83c4-469b1fcaf2fc"
      },
      "source": [
        "top_ten_ranked.loc[top_ten_ranked['User-ID'] == 278582]"
      ],
      "execution_count": 26,
      "outputs": [
        {
          "output_type": "execute_result",
          "data": {
            "text/html": [
              "<div>\n",
              "<style scoped>\n",
              "    .dataframe tbody tr th:only-of-type {\n",
              "        vertical-align: middle;\n",
              "    }\n",
              "\n",
              "    .dataframe tbody tr th {\n",
              "        vertical-align: top;\n",
              "    }\n",
              "\n",
              "    .dataframe thead th {\n",
              "        text-align: right;\n",
              "    }\n",
              "</style>\n",
              "<table border=\"1\" class=\"dataframe\">\n",
              "  <thead>\n",
              "    <tr style=\"text-align: right;\">\n",
              "      <th></th>\n",
              "      <th>User-ID</th>\n",
              "      <th>Book-Title</th>\n",
              "      <th>Book-Rating</th>\n",
              "    </tr>\n",
              "  </thead>\n",
              "  <tbody>\n",
              "    <tr>\n",
              "      <th>18660405</th>\n",
              "      <td>278582</td>\n",
              "      <td>The Lovely Bones: A Novel</td>\n",
              "      <td>0.073564</td>\n",
              "    </tr>\n",
              "    <tr>\n",
              "      <th>18659952</th>\n",
              "      <td>278582</td>\n",
              "      <td>The Da Vinci Code</td>\n",
              "      <td>0.061104</td>\n",
              "    </tr>\n",
              "    <tr>\n",
              "      <th>18657487</th>\n",
              "      <td>278582</td>\n",
              "      <td>Harry Potter and the Chamber of Secrets (Book 2)</td>\n",
              "      <td>0.047640</td>\n",
              "    </tr>\n",
              "    <tr>\n",
              "      <th>18660710</th>\n",
              "      <td>278582</td>\n",
              "      <td>The Secret Life of Bees</td>\n",
              "      <td>0.046663</td>\n",
              "    </tr>\n",
              "    <tr>\n",
              "      <th>18657491</th>\n",
              "      <td>278582</td>\n",
              "      <td>Harry Potter and the Prisoner of Azkaban (Book 3)</td>\n",
              "      <td>0.044984</td>\n",
              "    </tr>\n",
              "    <tr>\n",
              "      <th>18658056</th>\n",
              "      <td>278582</td>\n",
              "      <td>Life of Pi</td>\n",
              "      <td>0.042347</td>\n",
              "    </tr>\n",
              "    <tr>\n",
              "      <th>18656352</th>\n",
              "      <td>278582</td>\n",
              "      <td>Bridget Jones's Diary</td>\n",
              "      <td>0.041328</td>\n",
              "    </tr>\n",
              "    <tr>\n",
              "      <th>18657493</th>\n",
              "      <td>278582</td>\n",
              "      <td>Harry Potter and the Sorcerer's Stone (Harry P...</td>\n",
              "      <td>0.040124</td>\n",
              "    </tr>\n",
              "    <tr>\n",
              "      <th>18660634</th>\n",
              "      <td>278582</td>\n",
              "      <td>The Red Tent (Bestselling Backlist)</td>\n",
              "      <td>0.039477</td>\n",
              "    </tr>\n",
              "    <tr>\n",
              "      <th>18657489</th>\n",
              "      <td>278582</td>\n",
              "      <td>Harry Potter and the Goblet of Fire (Book 4)</td>\n",
              "      <td>0.038597</td>\n",
              "    </tr>\n",
              "  </tbody>\n",
              "</table>\n",
              "</div>"
            ],
            "text/plain": [
              "          User-ID  ... Book-Rating\n",
              "18660405   278582  ...    0.073564\n",
              "18659952   278582  ...    0.061104\n",
              "18657487   278582  ...    0.047640\n",
              "18660710   278582  ...    0.046663\n",
              "18657491   278582  ...    0.044984\n",
              "18658056   278582  ...    0.042347\n",
              "18656352   278582  ...    0.041328\n",
              "18657493   278582  ...    0.040124\n",
              "18660634   278582  ...    0.039477\n",
              "18657489   278582  ...    0.038597\n",
              "\n",
              "[10 rows x 3 columns]"
            ]
          },
          "metadata": {
            "tags": []
          },
          "execution_count": 26
        }
      ]
    },
    {
      "cell_type": "code",
      "metadata": {
        "id": "a4_v_J70RiCd",
        "colab_type": "code",
        "colab": {
          "base_uri": "https://localhost:8080/",
          "height": 1000
        },
        "outputId": "af2c99d9-6963-4459-ec47-4153874abe4c"
      },
      "source": [
        "book_rating.loc[book_rating['User-ID'] == 278582].sort_values(by=['Book-Rating'], ascending=False)"
      ],
      "execution_count": 27,
      "outputs": [
        {
          "output_type": "execute_result",
          "data": {
            "text/html": [
              "<div>\n",
              "<style scoped>\n",
              "    .dataframe tbody tr th:only-of-type {\n",
              "        vertical-align: middle;\n",
              "    }\n",
              "\n",
              "    .dataframe tbody tr th {\n",
              "        vertical-align: top;\n",
              "    }\n",
              "\n",
              "    .dataframe thead th {\n",
              "        text-align: right;\n",
              "    }\n",
              "</style>\n",
              "<table border=\"1\" class=\"dataframe\">\n",
              "  <thead>\n",
              "    <tr style=\"text-align: right;\">\n",
              "      <th></th>\n",
              "      <th>User-ID</th>\n",
              "      <th>ISBN</th>\n",
              "      <th>Book-Rating</th>\n",
              "      <th>Book-Title</th>\n",
              "    </tr>\n",
              "  </thead>\n",
              "  <tbody>\n",
              "    <tr>\n",
              "      <th>174885</th>\n",
              "      <td>278582</td>\n",
              "      <td>0226848620</td>\n",
              "      <td>10</td>\n",
              "      <td>Chinese Bell Murders (Judge Dee Mysteries)</td>\n",
              "    </tr>\n",
              "    <tr>\n",
              "      <th>176582</th>\n",
              "      <td>278582</td>\n",
              "      <td>157566254X</td>\n",
              "      <td>10</td>\n",
              "      <td>Skin Deep, Blood Red</td>\n",
              "    </tr>\n",
              "    <tr>\n",
              "      <th>40008</th>\n",
              "      <td>278582</td>\n",
              "      <td>0441478123</td>\n",
              "      <td>10</td>\n",
              "      <td>The Left Hand of Darkness (Remembering Tomorrow)</td>\n",
              "    </tr>\n",
              "    <tr>\n",
              "      <th>174861</th>\n",
              "      <td>278582</td>\n",
              "      <td>0061044725</td>\n",
              "      <td>10</td>\n",
              "      <td>Search the Shadows</td>\n",
              "    </tr>\n",
              "    <tr>\n",
              "      <th>58156</th>\n",
              "      <td>278582</td>\n",
              "      <td>0451202503</td>\n",
              "      <td>10</td>\n",
              "      <td>The Songcatcher: A Ballad Novel</td>\n",
              "    </tr>\n",
              "    <tr>\n",
              "      <th>64570</th>\n",
              "      <td>278582</td>\n",
              "      <td>1400034779</td>\n",
              "      <td>10</td>\n",
              "      <td>The No. 1 Ladies' Detective Agency (Today Show...</td>\n",
              "    </tr>\n",
              "    <tr>\n",
              "      <th>175958</th>\n",
              "      <td>278582</td>\n",
              "      <td>0345350499</td>\n",
              "      <td>10</td>\n",
              "      <td>The Mists of Avalon</td>\n",
              "    </tr>\n",
              "    <tr>\n",
              "      <th>176314</th>\n",
              "      <td>278582</td>\n",
              "      <td>0449223558</td>\n",
              "      <td>9</td>\n",
              "      <td>Murdering Mr. Monti: A Merry Little Tale of Se...</td>\n",
              "    </tr>\n",
              "    <tr>\n",
              "      <th>174877</th>\n",
              "      <td>278582</td>\n",
              "      <td>0140277471</td>\n",
              "      <td>9</td>\n",
              "      <td>Blanche Cleans Up</td>\n",
              "    </tr>\n",
              "    <tr>\n",
              "      <th>176438</th>\n",
              "      <td>278582</td>\n",
              "      <td>0515136557</td>\n",
              "      <td>8</td>\n",
              "      <td>The Cat Who Brought Down the House</td>\n",
              "    </tr>\n",
              "    <tr>\n",
              "      <th>176503</th>\n",
              "      <td>278582</td>\n",
              "      <td>0671877445</td>\n",
              "      <td>8</td>\n",
              "      <td>Cetaganda (Bujold, Lois Mcmaster. Vorkosigan A...</td>\n",
              "    </tr>\n",
              "    <tr>\n",
              "      <th>176484</th>\n",
              "      <td>278582</td>\n",
              "      <td>055327239X</td>\n",
              "      <td>8</td>\n",
              "      <td>Service of All the Dead</td>\n",
              "    </tr>\n",
              "    <tr>\n",
              "      <th>176187</th>\n",
              "      <td>278582</td>\n",
              "      <td>0425191583</td>\n",
              "      <td>8</td>\n",
              "      <td>Imitation in Death (Eve Dallas Mysteries (Pape...</td>\n",
              "    </tr>\n",
              "    <tr>\n",
              "      <th>175949</th>\n",
              "      <td>278582</td>\n",
              "      <td>0345348176</td>\n",
              "      <td>8</td>\n",
              "      <td>From Doon With Death</td>\n",
              "    </tr>\n",
              "    <tr>\n",
              "      <th>176263</th>\n",
              "      <td>278582</td>\n",
              "      <td>0449003183</td>\n",
              "      <td>8</td>\n",
              "      <td>Brunswick Gardens (Charlotte &amp;amp; Thomas Pitt...</td>\n",
              "    </tr>\n",
              "    <tr>\n",
              "      <th>176290</th>\n",
              "      <td>278582</td>\n",
              "      <td>0449206874</td>\n",
              "      <td>8</td>\n",
              "      <td>One Fine Day the Rabbi Bought a Cross</td>\n",
              "    </tr>\n",
              "    <tr>\n",
              "      <th>176305</th>\n",
              "      <td>278582</td>\n",
              "      <td>0449217213</td>\n",
              "      <td>8</td>\n",
              "      <td>Incident at Badamya</td>\n",
              "    </tr>\n",
              "    <tr>\n",
              "      <th>174882</th>\n",
              "      <td>278582</td>\n",
              "      <td>0141001976</td>\n",
              "      <td>8</td>\n",
              "      <td>Blanche Passes Go</td>\n",
              "    </tr>\n",
              "    <tr>\n",
              "      <th>176584</th>\n",
              "      <td>278582</td>\n",
              "      <td>1890208442</td>\n",
              "      <td>8</td>\n",
              "      <td>Daddy's Gone A-Hunting (Wesley Farrell Novels)</td>\n",
              "    </tr>\n",
              "    <tr>\n",
              "      <th>176572</th>\n",
              "      <td>278582</td>\n",
              "      <td>0804109818</td>\n",
              "      <td>8</td>\n",
              "      <td>The Jewel That Was Ours</td>\n",
              "    </tr>\n",
              "    <tr>\n",
              "      <th>23996</th>\n",
              "      <td>278582</td>\n",
              "      <td>0449221512</td>\n",
              "      <td>8</td>\n",
              "      <td>I Is for Innocent</td>\n",
              "    </tr>\n",
              "    <tr>\n",
              "      <th>60802</th>\n",
              "      <td>278582</td>\n",
              "      <td>0671001795</td>\n",
              "      <td>8</td>\n",
              "      <td>Two for the Dough</td>\n",
              "    </tr>\n",
              "    <tr>\n",
              "      <th>108791</th>\n",
              "      <td>278582</td>\n",
              "      <td>0345440064</td>\n",
              "      <td>8</td>\n",
              "      <td>Death of a Stranger</td>\n",
              "    </tr>\n",
              "    <tr>\n",
              "      <th>176517</th>\n",
              "      <td>278582</td>\n",
              "      <td>0743406583</td>\n",
              "      <td>7</td>\n",
              "      <td>Maggody and the Moonbeams</td>\n",
              "    </tr>\n",
              "    <tr>\n",
              "      <th>174895</th>\n",
              "      <td>278582</td>\n",
              "      <td>0312957785</td>\n",
              "      <td>7</td>\n",
              "      <td>The Venus Throw</td>\n",
              "    </tr>\n",
              "    <tr>\n",
              "      <th>175303</th>\n",
              "      <td>278582</td>\n",
              "      <td>0312980140</td>\n",
              "      <td>7</td>\n",
              "      <td>Seven Up (A Stephanie Plum Novel)</td>\n",
              "    </tr>\n",
              "    <tr>\n",
              "      <th>175596</th>\n",
              "      <td>278582</td>\n",
              "      <td>0312983867</td>\n",
              "      <td>7</td>\n",
              "      <td>Hard Eight : A Stephanie Plum Novel (A Stephan...</td>\n",
              "    </tr>\n",
              "    <tr>\n",
              "      <th>176171</th>\n",
              "      <td>278582</td>\n",
              "      <td>0425190927</td>\n",
              "      <td>7</td>\n",
              "      <td>The Wife Test</td>\n",
              "    </tr>\n",
              "    <tr>\n",
              "      <th>176139</th>\n",
              "      <td>278582</td>\n",
              "      <td>0425163717</td>\n",
              "      <td>7</td>\n",
              "      <td>Holiday in Death</td>\n",
              "    </tr>\n",
              "    <tr>\n",
              "      <th>176562</th>\n",
              "      <td>278582</td>\n",
              "      <td>0743480562</td>\n",
              "      <td>6</td>\n",
              "      <td>CSI, Miami: Heat Wave</td>\n",
              "    </tr>\n",
              "    <tr>\n",
              "      <th>176567</th>\n",
              "      <td>278582</td>\n",
              "      <td>0765344513</td>\n",
              "      <td>6</td>\n",
              "      <td>Over the Wine-Dark Sea (Hellenistic Seafaring ...</td>\n",
              "    </tr>\n",
              "    <tr>\n",
              "      <th>175905</th>\n",
              "      <td>278582</td>\n",
              "      <td>0312991460</td>\n",
              "      <td>6</td>\n",
              "      <td>To the Nines (A Stephanie Plum Novel)</td>\n",
              "    </tr>\n",
              "    <tr>\n",
              "      <th>176255</th>\n",
              "      <td>278582</td>\n",
              "      <td>0425193772</td>\n",
              "      <td>5</td>\n",
              "      <td>Indigo Dying</td>\n",
              "    </tr>\n",
              "    <tr>\n",
              "      <th>175763</th>\n",
              "      <td>278582</td>\n",
              "      <td>0312990456</td>\n",
              "      <td>5</td>\n",
              "      <td>One for the Money (A Stephanie Plum Novel)</td>\n",
              "    </tr>\n",
              "    <tr>\n",
              "      <th>175506</th>\n",
              "      <td>278582</td>\n",
              "      <td>0312983298</td>\n",
              "      <td>3</td>\n",
              "      <td>Full Speed (Janet Evanovich's Full Series)</td>\n",
              "    </tr>\n",
              "    <tr>\n",
              "      <th>174867</th>\n",
              "      <td>278582</td>\n",
              "      <td>0061063746</td>\n",
              "      <td>2</td>\n",
              "      <td>Hang Loose</td>\n",
              "    </tr>\n",
              "    <tr>\n",
              "      <th>176571</th>\n",
              "      <td>278582</td>\n",
              "      <td>076534503X</td>\n",
              "      <td>0</td>\n",
              "      <td>The Gryphon's Skull (Hellenistic Seafaring Adv...</td>\n",
              "    </tr>\n",
              "    <tr>\n",
              "      <th>176389</th>\n",
              "      <td>278582</td>\n",
              "      <td>048627263X</td>\n",
              "      <td>0</td>\n",
              "      <td>Flatland: A Romance of Many Dimensions (Dover ...</td>\n",
              "    </tr>\n",
              "    <tr>\n",
              "      <th>176565</th>\n",
              "      <td>278582</td>\n",
              "      <td>0743497988</td>\n",
              "      <td>0</td>\n",
              "      <td>Law and Order Deadline : An Original Law and O...</td>\n",
              "    </tr>\n",
              "    <tr>\n",
              "      <th>176486</th>\n",
              "      <td>278582</td>\n",
              "      <td>0553574027</td>\n",
              "      <td>0</td>\n",
              "      <td>Antarctica</td>\n",
              "    </tr>\n",
              "    <tr>\n",
              "      <th>176579</th>\n",
              "      <td>278582</td>\n",
              "      <td>1555971792</td>\n",
              "      <td>0</td>\n",
              "      <td>The Body in Four Parts</td>\n",
              "    </tr>\n",
              "    <tr>\n",
              "      <th>176385</th>\n",
              "      <td>278582</td>\n",
              "      <td>0451208498</td>\n",
              "      <td>0</td>\n",
              "      <td>Thieves' Paradise</td>\n",
              "    </tr>\n",
              "    <tr>\n",
              "      <th>176524</th>\n",
              "      <td>278582</td>\n",
              "      <td>0743448677</td>\n",
              "      <td>0</td>\n",
              "      <td>Without Pity : Ann Rule's Most Dangerous Killers</td>\n",
              "    </tr>\n",
              "    <tr>\n",
              "      <th>14574</th>\n",
              "      <td>278582</td>\n",
              "      <td>0312966970</td>\n",
              "      <td>0</td>\n",
              "      <td>Four To Score (A Stephanie Plum Novel)</td>\n",
              "    </tr>\n",
              "    <tr>\n",
              "      <th>176331</th>\n",
              "      <td>278582</td>\n",
              "      <td>0451205146</td>\n",
              "      <td>0</td>\n",
              "      <td>Black Hawk Down (Movie Tie-in)</td>\n",
              "    </tr>\n",
              "    <tr>\n",
              "      <th>17190</th>\n",
              "      <td>278582</td>\n",
              "      <td>0553581112</td>\n",
              "      <td>0</td>\n",
              "      <td>Justice Hall: A Mary Russell Novel (Mary Russe...</td>\n",
              "    </tr>\n",
              "    <tr>\n",
              "      <th>175758</th>\n",
              "      <td>278582</td>\n",
              "      <td>0312985649</td>\n",
              "      <td>0</td>\n",
              "      <td>A Grave Denied (A Kate Shugak Novel)</td>\n",
              "    </tr>\n",
              "    <tr>\n",
              "      <th>175103</th>\n",
              "      <td>278582</td>\n",
              "      <td>0312976275</td>\n",
              "      <td>0</td>\n",
              "      <td>Hot Six : A Stephanie Plum Novel (A Stephanie ...</td>\n",
              "    </tr>\n",
              "    <tr>\n",
              "      <th>174902</th>\n",
              "      <td>278582</td>\n",
              "      <td>0312971346</td>\n",
              "      <td>0</td>\n",
              "      <td>High Five (A Stephanie Plum Novel)</td>\n",
              "    </tr>\n",
              "    <tr>\n",
              "      <th>174891</th>\n",
              "      <td>278582</td>\n",
              "      <td>0312851561</td>\n",
              "      <td>0</td>\n",
              "      <td>The Sword of Samurai Cat (Tor Fantasy)</td>\n",
              "    </tr>\n",
              "    <tr>\n",
              "      <th>174890</th>\n",
              "      <td>278582</td>\n",
              "      <td>0312168586</td>\n",
              "      <td>0</td>\n",
              "      <td>Great Harry</td>\n",
              "    </tr>\n",
              "    <tr>\n",
              "      <th>174869</th>\n",
              "      <td>278582</td>\n",
              "      <td>0140250360</td>\n",
              "      <td>0</td>\n",
              "      <td>Blanche Among the Talented Tenth</td>\n",
              "    </tr>\n",
              "    <tr>\n",
              "      <th>174852</th>\n",
              "      <td>278582</td>\n",
              "      <td>0061032484</td>\n",
              "      <td>0</td>\n",
              "      <td>Children of the Storm</td>\n",
              "    </tr>\n",
              "    <tr>\n",
              "      <th>174815</th>\n",
              "      <td>278582</td>\n",
              "      <td>0060549270</td>\n",
              "      <td>0</td>\n",
              "      <td>A Greek God at the Ladies' Club (Avon Romance)</td>\n",
              "    </tr>\n",
              "    <tr>\n",
              "      <th>174814</th>\n",
              "      <td>278582</td>\n",
              "      <td>0060534397</td>\n",
              "      <td>0</td>\n",
              "      <td>All Shall Be Well</td>\n",
              "    </tr>\n",
              "    <tr>\n",
              "      <th>174809</th>\n",
              "      <td>278582</td>\n",
              "      <td>0060534389</td>\n",
              "      <td>0</td>\n",
              "      <td>A Share in Death</td>\n",
              "    </tr>\n",
              "    <tr>\n",
              "      <th>116741</th>\n",
              "      <td>278582</td>\n",
              "      <td>0380817152</td>\n",
              "      <td>0</td>\n",
              "      <td>The Golden One : A Novel of Suspense</td>\n",
              "    </tr>\n",
              "    <tr>\n",
              "      <th>46554</th>\n",
              "      <td>278582</td>\n",
              "      <td>0312966091</td>\n",
              "      <td>0</td>\n",
              "      <td>Three To Get Deadly : A Stephanie Plum Novel (...</td>\n",
              "    </tr>\n",
              "    <tr>\n",
              "      <th>24674</th>\n",
              "      <td>278582</td>\n",
              "      <td>0425175405</td>\n",
              "      <td>0</td>\n",
              "      <td>Black Notice</td>\n",
              "    </tr>\n",
              "    <tr>\n",
              "      <th>175760</th>\n",
              "      <td>278582</td>\n",
              "      <td>0312986327</td>\n",
              "      <td>0</td>\n",
              "      <td>Out on a Limb (A Claire Malloy Mystery)</td>\n",
              "    </tr>\n",
              "  </tbody>\n",
              "</table>\n",
              "</div>"
            ],
            "text/plain": [
              "        User-ID  ...                                         Book-Title\n",
              "174885   278582  ...         Chinese Bell Murders (Judge Dee Mysteries)\n",
              "176582   278582  ...                               Skin Deep, Blood Red\n",
              "40008    278582  ...   The Left Hand of Darkness (Remembering Tomorrow)\n",
              "174861   278582  ...                                 Search the Shadows\n",
              "58156    278582  ...                    The Songcatcher: A Ballad Novel\n",
              "64570    278582  ...  The No. 1 Ladies' Detective Agency (Today Show...\n",
              "175958   278582  ...                                The Mists of Avalon\n",
              "176314   278582  ...  Murdering Mr. Monti: A Merry Little Tale of Se...\n",
              "174877   278582  ...                                  Blanche Cleans Up\n",
              "176438   278582  ...                 The Cat Who Brought Down the House\n",
              "176503   278582  ...  Cetaganda (Bujold, Lois Mcmaster. Vorkosigan A...\n",
              "176484   278582  ...                            Service of All the Dead\n",
              "176187   278582  ...  Imitation in Death (Eve Dallas Mysteries (Pape...\n",
              "175949   278582  ...                               From Doon With Death\n",
              "176263   278582  ...  Brunswick Gardens (Charlotte &amp; Thomas Pitt...\n",
              "176290   278582  ...              One Fine Day the Rabbi Bought a Cross\n",
              "176305   278582  ...                                Incident at Badamya\n",
              "174882   278582  ...                                  Blanche Passes Go\n",
              "176584   278582  ...     Daddy's Gone A-Hunting (Wesley Farrell Novels)\n",
              "176572   278582  ...                            The Jewel That Was Ours\n",
              "23996    278582  ...                                  I Is for Innocent\n",
              "60802    278582  ...                                  Two for the Dough\n",
              "108791   278582  ...                                Death of a Stranger\n",
              "176517   278582  ...                          Maggody and the Moonbeams\n",
              "174895   278582  ...                                    The Venus Throw\n",
              "175303   278582  ...                  Seven Up (A Stephanie Plum Novel)\n",
              "175596   278582  ...  Hard Eight : A Stephanie Plum Novel (A Stephan...\n",
              "176171   278582  ...                                      The Wife Test\n",
              "176139   278582  ...                                   Holiday in Death\n",
              "176562   278582  ...                              CSI, Miami: Heat Wave\n",
              "176567   278582  ...  Over the Wine-Dark Sea (Hellenistic Seafaring ...\n",
              "175905   278582  ...              To the Nines (A Stephanie Plum Novel)\n",
              "176255   278582  ...                                       Indigo Dying\n",
              "175763   278582  ...         One for the Money (A Stephanie Plum Novel)\n",
              "175506   278582  ...         Full Speed (Janet Evanovich's Full Series)\n",
              "174867   278582  ...                                         Hang Loose\n",
              "176571   278582  ...  The Gryphon's Skull (Hellenistic Seafaring Adv...\n",
              "176389   278582  ...  Flatland: A Romance of Many Dimensions (Dover ...\n",
              "176565   278582  ...  Law and Order Deadline : An Original Law and O...\n",
              "176486   278582  ...                                         Antarctica\n",
              "176579   278582  ...                             The Body in Four Parts\n",
              "176385   278582  ...                                  Thieves' Paradise\n",
              "176524   278582  ...   Without Pity : Ann Rule's Most Dangerous Killers\n",
              "14574    278582  ...             Four To Score (A Stephanie Plum Novel)\n",
              "176331   278582  ...                     Black Hawk Down (Movie Tie-in)\n",
              "17190    278582  ...  Justice Hall: A Mary Russell Novel (Mary Russe...\n",
              "175758   278582  ...               A Grave Denied (A Kate Shugak Novel)\n",
              "175103   278582  ...  Hot Six : A Stephanie Plum Novel (A Stephanie ...\n",
              "174902   278582  ...                 High Five (A Stephanie Plum Novel)\n",
              "174891   278582  ...             The Sword of Samurai Cat (Tor Fantasy)\n",
              "174890   278582  ...                                        Great Harry\n",
              "174869   278582  ...                   Blanche Among the Talented Tenth\n",
              "174852   278582  ...                              Children of the Storm\n",
              "174815   278582  ...     A Greek God at the Ladies' Club (Avon Romance)\n",
              "174814   278582  ...                                  All Shall Be Well\n",
              "174809   278582  ...                                   A Share in Death\n",
              "116741   278582  ...               The Golden One : A Novel of Suspense\n",
              "46554    278582  ...  Three To Get Deadly : A Stephanie Plum Novel (...\n",
              "24674    278582  ...                                       Black Notice\n",
              "175760   278582  ...            Out on a Limb (A Claire Malloy Mystery)\n",
              "\n",
              "[60 rows x 4 columns]"
            ]
          },
          "metadata": {
            "tags": []
          },
          "execution_count": 27
        }
      ]
    },
    {
      "cell_type": "code",
      "metadata": {
        "id": "AmvvnSF_RiCe",
        "colab_type": "code",
        "colab": {}
      },
      "source": [
        ""
      ],
      "execution_count": 0,
      "outputs": []
    }
  ]
}