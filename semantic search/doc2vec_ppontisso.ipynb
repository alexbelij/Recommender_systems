{
  "nbformat": 4,
  "nbformat_minor": 0,
  "metadata": {
    "kernelspec": {
      "name": "python3",
      "display_name": "Python 3"
    },
    "language_info": {
      "codemirror_mode": {
        "name": "ipython",
        "version": 3
      },
      "file_extension": ".py",
      "mimetype": "text/x-python",
      "name": "python",
      "nbconvert_exporter": "python",
      "pygments_lexer": "ipython3",
      "version": "3.6.1"
    },
    "colab": {
      "name": "doc2vec_ppontisso.ipynb",
      "version": "0.3.2",
      "provenance": [],
      "toc_visible": true,
      "machine_shape": "hm",
      "include_colab_link": true
    },
    "accelerator": "GPU"
  },
  "cells": [
    {
      "cell_type": "markdown",
      "metadata": {
        "id": "view-in-github",
        "colab_type": "text"
      },
      "source": [
        "<a href=\"https://colab.research.google.com/github/navneetkrc/Recommender_systems/blob/master/semantic%20search/doc2vec_ppontisso.ipynb\" target=\"_parent\"><img src=\"https://colab.research.google.com/assets/colab-badge.svg\" alt=\"Open In Colab\"/></a>"
      ]
    },
    {
      "cell_type": "markdown",
      "metadata": {
        "_cell_guid": "ecf2d083-6906-45fa-9c60-df66372fd81f",
        "_uuid": "92204e609cf358a48438edb251a22a0201923254",
        "id": "DrTOVVI389jV",
        "colab_type": "text"
      },
      "source": [
        "# How to make a search engine on Movies Description"
      ]
    },
    {
      "cell_type": "markdown",
      "metadata": {
        "id": "rm2JKnUrmd11",
        "colab_type": "text"
      },
      "source": [
        "##Google Colab and Install Dependencies"
      ]
    },
    {
      "cell_type": "code",
      "metadata": {
        "id": "BUVew-NK9Etr",
        "colab_type": "code",
        "colab": {
          "base_uri": "https://localhost:8080/",
          "height": 122
        },
        "outputId": "5212e22e-1bfe-4ffd-d130-55a5e2144b48"
      },
      "source": [
        "from google.colab import drive\n",
        "drive.mount('/content/drive')"
      ],
      "execution_count": 1,
      "outputs": [
        {
          "output_type": "stream",
          "text": [
            "Go to this URL in a browser: https://accounts.google.com/o/oauth2/auth?client_id=947318989803-6bn6qk8qdgf4n4g3pfee6491hc0brc4i.apps.googleusercontent.com&redirect_uri=urn%3Aietf%3Awg%3Aoauth%3A2.0%3Aoob&scope=email%20https%3A%2F%2Fwww.googleapis.com%2Fauth%2Fdocs.test%20https%3A%2F%2Fwww.googleapis.com%2Fauth%2Fdrive%20https%3A%2F%2Fwww.googleapis.com%2Fauth%2Fdrive.photos.readonly%20https%3A%2F%2Fwww.googleapis.com%2Fauth%2Fpeopleapi.readonly&response_type=code\n",
            "\n",
            "Enter your authorization code:\n",
            "··········\n",
            "Mounted at /content/drive\n"
          ],
          "name": "stdout"
        }
      ]
    },
    {
      "cell_type": "code",
      "metadata": {
        "id": "suk78C5l9Up0",
        "colab_type": "code",
        "colab": {}
      },
      "source": [
        "!pip install langdetect"
      ],
      "execution_count": 0,
      "outputs": []
    },
    {
      "cell_type": "code",
      "metadata": {
        "id": "aEJJiMEBeQ_z",
        "colab_type": "code",
        "colab": {}
      },
      "source": [
        "!wget https://s3.amazonaws.com/dl4j-distribution/GoogleNews-vectors-negative300.bin.gz\n",
        "!gunzip GoogleNews-vectors-negative300.bin\n"
      ],
      "execution_count": 0,
      "outputs": []
    },
    {
      "cell_type": "markdown",
      "metadata": {
        "id": "yQ-N72Q789jV",
        "colab_type": "text"
      },
      "source": [
        "In this notebook, you will learn how to :\n",
        "\n",
        "1. [Create a Doc2Vec model that represents words and documents into numerical vectors](#creating)\n",
        "\n",
        "2. [Find words related to other words](#words)\n",
        "3. [Find the document that has the closest meaning to a list of key words like in a search engine](#docs)\n",
        "\n",
        "4. [Create a TF-IDF search engine](#tfidf)\n",
        "\n",
        "\n",
        "\n",
        "<div class=\"alert alert-warning\">\n",
        "To run this notebook, you will need :\n",
        "<ul>\n",
        "<li>to run on **python 3.6.2**</li>\n",
        "<li>to have **gensim** installed. Run '**pip install gensim**' in the python environment you are using for this notebook.</li>\n",
        "<li>to have **langdetect** installed. Run '**pip install langdetect**' in the python environment you are using for this notebook.</li>\n",
        "</ul>\n",
        "\n",
        "</div>\n",
        "\n",
        "We will start by importing what we need and downloading the files with the movies description.\n",
        "\n",
        "The dataset comes from a kaggle dataset : https://www.kaggle.com/rounakbanik/the-movies-dataset/data"
      ]
    },
    {
      "cell_type": "code",
      "metadata": {
        "_cell_guid": "631a5f46-877b-41cb-9785-3f87831577b1",
        "_uuid": "461cc3b1bf67fb4984fd6dcf230b595f08e41105",
        "id": "E6L3Awqt89jW",
        "colab_type": "code",
        "colab": {}
      },
      "source": [
        "import numpy as np\n",
        "import pandas as pd\n",
        "import matplotlib.pyplot as plt\n",
        "%matplotlib inline\n",
        "\n",
        "from gensim.models import Doc2Vec\n",
        "from collections import namedtuple\n",
        "import gensim.utils\n",
        "from langdetect import detect\n",
        "import re\n",
        "import string"
      ],
      "execution_count": 0,
      "outputs": []
    },
    {
      "cell_type": "code",
      "metadata": {
        "scrolled": true,
        "id": "Uk9HZKy389ja",
        "colab_type": "code",
        "colab": {
          "base_uri": "https://localhost:8080/",
          "height": 204
        },
        "outputId": "f907f7a6-26d7-4e9d-8179-91bf298a1f93"
      },
      "source": [
        "imdbdata=pd.read_csv('/content/drive/My Drive/MLAI_Datasets/Document similarity research/movies_ppontisso_doc2vec.csv')\n",
        "data = np.array(imdbdata.overview)\n",
        "titles=np.array(imdbdata.original_title)\n",
        "\n",
        "imdbdata.head()"
      ],
      "execution_count": 5,
      "outputs": [
        {
          "output_type": "execute_result",
          "data": {
            "text/html": [
              "<div>\n",
              "<style scoped>\n",
              "    .dataframe tbody tr th:only-of-type {\n",
              "        vertical-align: middle;\n",
              "    }\n",
              "\n",
              "    .dataframe tbody tr th {\n",
              "        vertical-align: top;\n",
              "    }\n",
              "\n",
              "    .dataframe thead th {\n",
              "        text-align: right;\n",
              "    }\n",
              "</style>\n",
              "<table border=\"1\" class=\"dataframe\">\n",
              "  <thead>\n",
              "    <tr style=\"text-align: right;\">\n",
              "      <th></th>\n",
              "      <th>overview</th>\n",
              "      <th>original_title</th>\n",
              "    </tr>\n",
              "  </thead>\n",
              "  <tbody>\n",
              "    <tr>\n",
              "      <th>0</th>\n",
              "      <td>Led by Woody, Andy's toys live happily in his ...</td>\n",
              "      <td>Toy Story</td>\n",
              "    </tr>\n",
              "    <tr>\n",
              "      <th>1</th>\n",
              "      <td>When siblings Judy and Peter discover an encha...</td>\n",
              "      <td>Jumanji</td>\n",
              "    </tr>\n",
              "    <tr>\n",
              "      <th>2</th>\n",
              "      <td>A family wedding reignites the ancient feud be...</td>\n",
              "      <td>Grumpier Old Men</td>\n",
              "    </tr>\n",
              "    <tr>\n",
              "      <th>3</th>\n",
              "      <td>Cheated on, mistreated and stepped on, the wom...</td>\n",
              "      <td>Waiting to Exhale</td>\n",
              "    </tr>\n",
              "    <tr>\n",
              "      <th>4</th>\n",
              "      <td>Just when George Banks has recovered from his ...</td>\n",
              "      <td>Father of the Bride Part II</td>\n",
              "    </tr>\n",
              "  </tbody>\n",
              "</table>\n",
              "</div>"
            ],
            "text/plain": [
              "                                            overview               original_title\n",
              "0  Led by Woody, Andy's toys live happily in his ...                    Toy Story\n",
              "1  When siblings Judy and Peter discover an encha...                      Jumanji\n",
              "2  A family wedding reignites the ancient feud be...             Grumpier Old Men\n",
              "3  Cheated on, mistreated and stepped on, the wom...            Waiting to Exhale\n",
              "4  Just when George Banks has recovered from his ...  Father of the Bride Part II"
            ]
          },
          "metadata": {
            "tags": []
          },
          "execution_count": 5
        }
      ]
    },
    {
      "cell_type": "markdown",
      "metadata": {
        "_cell_guid": "4048fc6a-45ae-45c0-9bcd-ec03c052cfb0",
        "_uuid": "eb0ae6b4fe1db43931c21ac366ae3aa1f7f721fb",
        "collapsed": true,
        "id": "d-gffAT-89jc",
        "colab_type": "text"
      },
      "source": [
        "## Text preprocessing\n",
        "\n",
        "In order to build the doc2vec model we need to clean the data that we have. We will remove documents that are not strings, that are too short and that are not written in english.\n",
        "Then, we will remove punctuation, and lowercase every word.\n",
        "We will build the list **alldocs** that contains every documents cleaned."
      ]
    },
    {
      "cell_type": "code",
      "metadata": {
        "_cell_guid": "ca3b00dd-71ff-4e7e-a149-d341419f796c",
        "_uuid": "9e70b2660d580eb945a6e0ac1448f07074d0aaf7",
        "id": "9ER25MmZ89jc",
        "colab_type": "code",
        "colab": {}
      },
      "source": [
        "SentimentDocument = namedtuple('SentimentDocument', 'words tags title original_number')\n",
        "n=0\n",
        "alldocs = []  # Will hold all docs in original order\n",
        "\n",
        "regex = re.compile('[%s]' % re.escape(string.punctuation)) #to remove punctuation\n",
        "\n",
        "for line_no, line in enumerate(data):\n",
        "    if (type(line)==str):\n",
        "        if (len(line)>150):\n",
        "            if (detect(line) == 'en') :\n",
        "                line = regex.sub('', line)\n",
        "                tokens = gensim.utils.to_unicode(line).lower().split()\n",
        "                words = tokens[0:]\n",
        "                tags = [n]\n",
        "                title = titles[line_no]\n",
        "                alldocs.append(SentimentDocument(words, tags, title, line_no))\n",
        "                n=n+1    "
      ],
      "execution_count": 0,
      "outputs": []
    },
    {
      "cell_type": "markdown",
      "metadata": {
        "id": "nuFSv-p789je",
        "colab_type": "text"
      },
      "source": [
        "Some insights on the dataset :"
      ]
    },
    {
      "cell_type": "code",
      "metadata": {
        "id": "mkbiZf1w89jf",
        "colab_type": "code",
        "colab": {
          "base_uri": "https://localhost:8080/",
          "height": 463
        },
        "outputId": "451d2bf1-cc51-4132-a929-c156d427d2b3"
      },
      "source": [
        "l = []\n",
        "for doc in alldocs:\n",
        "    l.append(len(doc.words))\n",
        "\n",
        "print('Number of Documents : ', len(alldocs))\n",
        "print('Mean length of documents : ', np.mean(l))\n",
        "\n",
        "plt.figure (figsize=(20, 6))\n",
        "plt.bar(range(0, len(l)), l)\n",
        "plt.xlabel('Documents')\n",
        "plt.ylabel('Length of the description')"
      ],
      "execution_count": 7,
      "outputs": [
        {
          "output_type": "stream",
          "text": [
            "Number of Documents :  34178\n",
            "Mean length of documents :  65.90962022353561\n"
          ],
          "name": "stdout"
        },
        {
          "output_type": "execute_result",
          "data": {
            "text/plain": [
              "Text(0, 0.5, 'Length of the description')"
            ]
          },
          "metadata": {
            "tags": []
          },
          "execution_count": 7
        },
        {
          "output_type": "display_data",
          "data": {
            "image/png": "[encoded data removed]",
            "text/plain": [
              "<Figure size 1440x432 with 1 Axes>"
            ]
          },
          "metadata": {
            "tags": []
          }
        }
      ]
    },
    {
      "cell_type": "code",
      "metadata": {
        "id": "TPR81fzJ89jh",
        "colab_type": "code",
        "colab": {
          "base_uri": "https://localhost:8080/",
          "height": 88
        },
        "outputId": "4a73631e-19bb-447a-9df2-ede196d6a318"
      },
      "source": [
        "# An example of how the list alldocs is build\n",
        "\n",
        "index = 0\n",
        "doc = alldocs[index]\n",
        "print(doc, '\\n')\n",
        "print(data[doc.original_number])"
      ],
      "execution_count": 8,
      "outputs": [
        {
          "output_type": "stream",
          "text": [
            "SentimentDocument(words=['led', 'by', 'woody', 'andys', 'toys', 'live', 'happily', 'in', 'his', 'room', 'until', 'andys', 'birthday', 'brings', 'buzz', 'lightyear', 'onto', 'the', 'scene', 'afraid', 'of', 'losing', 'his', 'place', 'in', 'andys', 'heart', 'woody', 'plots', 'against', 'buzz', 'but', 'when', 'circumstances', 'separate', 'buzz', 'and', 'woody', 'from', 'their', 'owner', 'the', 'duo', 'eventually', 'learns', 'to', 'put', 'aside', 'their', 'differences'], tags=[0], title='Toy Story', original_number=0) \n",
            "\n",
            "Led by Woody, Andy's toys live happily in his room until Andy's birthday brings Buzz Lightyear onto the scene. Afraid of losing his place in Andy's heart, Woody plots against Buzz. But when circumstances separate Buzz and Woody from their owner, the duo eventually learns to put aside their differences.\n"
          ],
          "name": "stdout"
        }
      ]
    },
    {
      "cell_type": "markdown",
      "metadata": {
        "id": "B0rMI0vn89ji",
        "colab_type": "text"
      },
      "source": [
        "## <a id=\"creating\"></a> Creating and training the Doc2Vec model\n",
        "\n",
        "We create the Distributed Memory model with a size of 300 ( that means that the vectors will be of size 300). The window size is 10. We do not take in account words that are seen less than 10 times in the entire corpus with the variable *min_count*. Setting the variable *dbow_words* to 1 means that we are also training to represents words with numerical vectors.\n",
        "\n",
        "We then train our model over 100 epochs with a lerning rate of 0.01.\n",
        "\n",
        "Full documentation can be found here :\n",
        "<li> gensim : https://radimrehurek.com/gensim/ </li>\n",
        "<li> Doc2Vec : https://radimrehurek.com/gensim/models/doc2vec.html </li>\n",
        "<li> A great article introducing the concepts behind Doc2Vec : https://medium.com/scaleabout/a-gentle-introduction-to-doc2vec-db3e8c0cce5e </li>\n",
        "<li> Detailed scientific paper : https://cs.stanford.edu/~quocle/paragraph_vector.pdf </li>\n"
      ]
    },
    {
      "cell_type": "code",
      "metadata": {
        "_cell_guid": "3fc47183-c884-4bef-9383-21231d52430c",
        "_uuid": "f8bd956e9ff7bc99f388c3ded7a927c0b05ada63",
        "id": "ZO_h-EWm89jj",
        "colab_type": "code",
        "colab": {
          "base_uri": "https://localhost:8080/",
          "height": 71
        },
        "outputId": "04a63795-2a26-4bb9-f545-c8740f52d58c"
      },
      "source": [
        "# PV-DM\n",
        "model = Doc2Vec(dm=1, size=300,window=10,hs=0,min_count=10,dbow_words=1,sample=1e-5)\n",
        "\n",
        "# build the vocabulary \n",
        "model.build_vocab(alldocs)"
      ],
      "execution_count": 9,
      "outputs": [
        {
          "output_type": "stream",
          "text": [
            "/usr/local/lib/python3.6/dist-packages/gensim/models/doc2vec.py:570: UserWarning: The parameter `size` is deprecated, will be removed in 4.0.0, use `vector_size` instead.\n",
            "  warnings.warn(\"The parameter `size` is deprecated, will be removed in 4.0.0, use `vector_size` instead.\")\n"
          ],
          "name": "stderr"
        }
      ]
    },
    {
      "cell_type": "code",
      "metadata": {
        "_cell_guid": "8e62a5d0-741d-4644-9f38-3ae01088d40e",
        "_uuid": "72ff0acf1b30b343245108858206ab867b8aaf52",
        "id": "emoDx2P689jl",
        "colab_type": "code",
        "colab": {}
      },
      "source": [
        "model.train(alldocs, total_examples=model.corpus_count, epochs=100, start_alpha=0.01, end_alpha=0.01)"
      ],
      "execution_count": 0,
      "outputs": []
    },
    {
      "cell_type": "markdown",
      "metadata": {
        "id": "KgqqXGl_89jn",
        "colab_type": "text"
      },
      "source": [
        "We can save and load models with the lines below."
      ]
    },
    {
      "cell_type": "code",
      "metadata": {
        "_cell_guid": "4f29a0ca-7d95-45e2-b30a-08e80a849d27",
        "_uuid": "c13199e4db1ef943421c059dc8c58ad4c6244e31",
        "id": "YCGu3yuM89jn",
        "colab_type": "code",
        "colab": {
          "base_uri": "https://localhost:8080/",
          "height": 71
        },
        "outputId": "02ff5aaa-c59d-4f2a-9a7f-ef4cbead40fa"
      },
      "source": [
        "model.save(\"model\")\n",
        "#Doc2Vec.load(\"model\")"
      ],
      "execution_count": 11,
      "outputs": [
        {
          "output_type": "stream",
          "text": [
            "/usr/local/lib/python3.6/dist-packages/smart_open/smart_open_lib.py:398: UserWarning: This function is deprecated, use smart_open.open instead. See the migration notes for details: https://github.com/RaRe-Technologies/smart_open/blob/master/README.rst#migrating-to-the-new-open-function\n",
            "  'See the migration notes for details: %s' % _MIGRATION_NOTES_URL\n"
          ],
          "name": "stderr"
        }
      ]
    },
    {
      "cell_type": "markdown",
      "metadata": {
        "_cell_guid": "5c7a4693-66e6-4213-b940-b3f5078ee094",
        "_uuid": "80fe102b1b5cad2b555c67b495c1e8cd6fb76fb9",
        "id": "1yISS_q489jp",
        "colab_type": "text"
      },
      "source": [
        "## <a id=\"words\"></a>Evaluating words embedding\n",
        "\n",
        "We will evaluate our model with some examples by showing the closest words to the words love, war and space.\n",
        "\n",
        "As the process of training a neural network does not always come to the same model, if the results do not make sense, you might consider creating the model and training it again.\n",
        "\n"
      ]
    },
    {
      "cell_type": "code",
      "metadata": {
        "id": "sTR-L5wb89jq",
        "colab_type": "code",
        "colab": {
          "base_uri": "https://localhost:8080/",
          "height": 187
        },
        "outputId": "65706fc4-8780-4132-8461-1900020cef59"
      },
      "source": [
        "model.wv.most_similar_cosmul(positive = [\"love\"])"
      ],
      "execution_count": 12,
      "outputs": [
        {
          "output_type": "execute_result",
          "data": {
            "text/plain": [
              "[('falls', 0.8499882817268372),\n",
              " ('madly', 0.8301708698272705),\n",
              " ('fall', 0.8096950054168701),\n",
              " ('falling', 0.7869731783866882),\n",
              " ('triangle', 0.7867960929870605),\n",
              " ('unrequited', 0.769425630569458),\n",
              " ('passionately', 0.75719153881073),\n",
              " ('fallen', 0.749366044998169),\n",
              " ('starcrossed', 0.74753338098526),\n",
              " ('romantic', 0.7471452951431274)]"
            ]
          },
          "metadata": {
            "tags": []
          },
          "execution_count": 12
        }
      ]
    },
    {
      "cell_type": "code",
      "metadata": {
        "id": "lPFKUzxO89jr",
        "colab_type": "code",
        "colab": {
          "base_uri": "https://localhost:8080/",
          "height": 187
        },
        "outputId": "a5e29e7b-726f-42a7-8328-8a983b882215"
      },
      "source": [
        "model.wv.most_similar_cosmul(positive = [\"war\"])"
      ],
      "execution_count": 13,
      "outputs": [
        {
          "output_type": "execute_result",
          "data": {
            "text/plain": [
              "[('ii', 0.897708535194397),\n",
              " ('civil', 0.8802070021629333),\n",
              " ('wartime', 0.8271792531013489),\n",
              " ('vietnam', 0.8244421482086182),\n",
              " ('frontline', 0.8229382634162903),\n",
              " ('soldier', 0.8197277188301086),\n",
              " ('gis', 0.8176930546760559),\n",
              " ('trenches', 0.8176276087760925),\n",
              " ('soldiers', 0.8169530034065247),\n",
              " ('ww', 0.8157222867012024)]"
            ]
          },
          "metadata": {
            "tags": []
          },
          "execution_count": 13
        }
      ]
    },
    {
      "cell_type": "code",
      "metadata": {
        "id": "j_1McQxp89jt",
        "colab_type": "code",
        "colab": {
          "base_uri": "https://localhost:8080/",
          "height": 187
        },
        "outputId": "d4e09c0e-b0ab-490e-946e-8a9c63bbff5d"
      },
      "source": [
        "model.wv.most_similar_cosmul(positive = [\"space\"])"
      ],
      "execution_count": 14,
      "outputs": [
        {
          "output_type": "execute_result",
          "data": {
            "text/plain": [
              "[('earth', 0.9020761251449585),\n",
              " ('mars', 0.9004756212234497),\n",
              " ('astronauts', 0.8947000503540039),\n",
              " ('astronaut', 0.8915897607803345),\n",
              " ('planet', 0.8899945020675659),\n",
              " ('outer', 0.8896733522415161),\n",
              " ('spaceship', 0.8842900395393372),\n",
              " ('asteroid', 0.8812389373779297),\n",
              " ('nasa', 0.8778526782989502),\n",
              " ('spacecraft', 0.8755676746368408)]"
            ]
          },
          "metadata": {
            "tags": []
          },
          "execution_count": 14
        }
      ]
    },
    {
      "cell_type": "markdown",
      "metadata": {
        "id": "f2TlxF8Z89jv",
        "colab_type": "text"
      },
      "source": [
        "The cell below show that the relationship of gender is understood by the model as we almost have the equation ** man - woman = king - queen**"
      ]
    },
    {
      "cell_type": "code",
      "metadata": {
        "_cell_guid": "95ad0282-82d0-405c-a3cf-c89181ede396",
        "_uuid": "8eeef245456e23f217b986b52051f360eca2b546",
        "id": "TcVtQqkf89jv",
        "colab_type": "code",
        "colab": {
          "base_uri": "https://localhost:8080/",
          "height": 187
        },
        "outputId": "2b27f400-315b-4001-b306-5190c95b2566"
      },
      "source": [
        "model.wv.most_similar_cosmul(negative = [\"man\"], positive = [\"king\",\"woman\"])"
      ],
      "execution_count": 15,
      "outputs": [
        {
          "output_type": "execute_result",
          "data": {
            "text/plain": [
              "[('queen', 0.9113978147506714),\n",
              " ('empress', 0.8882024884223938),\n",
              " ('throne', 0.8738961219787598),\n",
              " ('countess', 0.8721811771392822),\n",
              " ('crowned', 0.8703632950782776),\n",
              " ('princess', 0.8688785433769226),\n",
              " ('palace', 0.8680239319801331),\n",
              " ('convent', 0.8624883890151978),\n",
              " ('pauline', 0.858596920967102),\n",
              " ('musketeers', 0.8466302156448364)]"
            ]
          },
          "metadata": {
            "tags": []
          },
          "execution_count": 15
        }
      ]
    },
    {
      "cell_type": "markdown",
      "metadata": {
        "id": "OSRQ59vy89jy",
        "colab_type": "text"
      },
      "source": [
        "The results on the word embeddings are satisfying as we have coherent outputs.\n",
        "\n",
        "## <a id=\"docs\"></a>Evaluating documents embedding\n",
        "\n",
        "We will evaluate our model of documents embedding with some examples by showing the closest documents to key words ( here called tokens). We expect the documents to have similar meanings than the key words. In this way, the model act as a search engine."
      ]
    },
    {
      "cell_type": "code",
      "metadata": {
        "id": "CCbqsiFd89jz",
        "colab_type": "code",
        "colab": {
          "base_uri": "https://localhost:8080/",
          "height": 139
        },
        "outputId": "b66377d0-72b6-4caa-e135-95b5ea5929cc"
      },
      "source": [
        "# Closest document to the word \"war\"\n",
        "\n",
        "tokens = \"war\"\n",
        "\n",
        "new_vector = model.infer_vector(tokens.split() ,alpha=0.001 ,steps = 5)\n",
        "tagsim = model.docvecs.most_similar([new_vector])[0]\n",
        "\n",
        "docsim = alldocs[tagsim[0] ]\n",
        "\n",
        "print(\"Document : \", data[docsim.original_number], \"\\n\")\n",
        "print(\"Titre : \", docsim.title)\n",
        "print(\"Distance : \", tagsim[1])"
      ],
      "execution_count": 16,
      "outputs": [
        {
          "output_type": "stream",
          "text": [
            "Document :  The citizens of Tokyo panic when they see UFOs in the sky. The aliens are benign, however, and have come to warn of a meteor on a collision course with Earth. As the meteor approaches, the Earth's atmosphere begins to heat up, and mankind must race to construct a weapon to destroy it. \n",
            "\n",
            "Titre :  Uchûjin Tôkyô ni arawaru\n",
            "Distance :  0.5931428074836731\n"
          ],
          "name": "stdout"
        },
        {
          "output_type": "stream",
          "text": [
            "/usr/local/lib/python3.6/dist-packages/gensim/matutils.py:737: FutureWarning: Conversion of the second argument of issubdtype from `int` to `np.signedinteger` is deprecated. In future, it will be treated as `np.int64 == np.dtype(int).type`.\n",
            "  if np.issubdtype(vec.dtype, np.int):\n"
          ],
          "name": "stderr"
        }
      ]
    },
    {
      "cell_type": "markdown",
      "metadata": {
        "id": "3CNhIN8l89j1",
        "colab_type": "text"
      },
      "source": [
        "We show the closest document to the key words, the farest document and a document in the middle."
      ]
    },
    {
      "cell_type": "code",
      "metadata": {
        "_cell_guid": "1b8e22de-6612-486e-99ef-058b70d35e1b",
        "_uuid": "ea4c4be94897fc5049409cc54ced7b87994ff16b",
        "id": "Hlu6LaMH89j1",
        "colab_type": "code",
        "colab": {
          "base_uri": "https://localhost:8080/",
          "height": 156
        },
        "outputId": "41eed413-3be6-4c4d-d825-e886ddaa31f3"
      },
      "source": [
        "# Closest document to the word \"love\"\n",
        "\n",
        "tokens = \"love\"\n",
        "\n",
        "new_vector = model.infer_vector(tokens.split() ,alpha=0.001 ,steps = 5)\n",
        "sims = model.docvecs.most_similar([new_vector], topn=model.docvecs.count) # get *all* similar documents\n",
        "\n",
        "print(\"Most : \" , data[alldocs[sims[0][0]].original_number], \"\\n\") \n",
        "print(\"Median : \" , data[alldocs[sims[17000][0]].original_number], \"\\n\")\n",
        "print(\"Least : \" , data[alldocs[sims[-1][0]].original_number])"
      ],
      "execution_count": 17,
      "outputs": [
        {
          "output_type": "stream",
          "text": [
            "/usr/local/lib/python3.6/dist-packages/gensim/matutils.py:737: FutureWarning: Conversion of the second argument of issubdtype from `int` to `np.signedinteger` is deprecated. In future, it will be treated as `np.int64 == np.dtype(int).type`.\n",
            "  if np.issubdtype(vec.dtype, np.int):\n"
          ],
          "name": "stderr"
        },
        {
          "output_type": "stream",
          "text": [
            "Most :  Examines the diversity of human sexual and gender variance around the globe, with commentary by scientific experts and first-hand accounts of people who do not conform to a simple male/female binary. \n",
            "\n",
            "Median :  Story starts with a summer fling between a provincial guy and a big-city girl. The holiday is over, the beauty returns to the city and receives a marriage proposal from a rich admirer. The provincial boy comes back being unable to let her go. Things get messy when their passion oversteps all the limits. Soon contemporary Romeo and Juliet get confused about what is really important turning into consuming 'Locust': overwhelming love they have leads them to commit brutal murders. \n",
            "\n",
            "Least :  This classic western masterpiece is an epic film about a widow whose land and life are in danger as the railroad is getting closer and closer to taking them over. A mysterious harmonica player joins forces with a desperado to protect the woman and her land.\n"
          ],
          "name": "stdout"
        }
      ]
    },
    {
      "cell_type": "markdown",
      "metadata": {
        "id": "vrin2vNr89j4",
        "colab_type": "text"
      },
      "source": [
        "In this example, in terms of reviewer tone, movie genre, etc... the MOST cosine-similar documents seem more like the key words than the MEDIAN or LEAST"
      ]
    },
    {
      "cell_type": "code",
      "metadata": {
        "id": "nC-fvv8989j4",
        "colab_type": "code",
        "colab": {
          "base_uri": "https://localhost:8080/",
          "height": 190
        },
        "outputId": "c2b22031-5a32-4630-ac2b-875bb8896ad7"
      },
      "source": [
        "doc = np.random.randint(model.docvecs.count)\n",
        "\n",
        "sims = model.docvecs.most_similar(doc, topn=model.docvecs.count) # get *all* similar documents\n",
        "\n",
        "print(\"Target : \", data[alldocs[doc] .original_number], \"\\n\" )\n",
        "print(\"Most : \" , data[alldocs[sims[0][0]].original_number], \"\\n\")\n",
        "print(\"Median : \" , data[alldocs[sims[34000][0]].original_number], \"\\n\")\n",
        "print(\"Least : \" , data[alldocs[sims[-1][0]].original_number])\n"
      ],
      "execution_count": 18,
      "outputs": [
        {
          "output_type": "stream",
          "text": [
            "Target :  Kirby Dick's provocative documentary investigates the secretive and inconsistent process by which the Motion Picture Association of America rates films, revealing the organization's underhanded efforts to control culture. Dick questions whether certain studios get preferential treatment and exposes the discrepancies in how the MPAA views sex and violence. \n",
            "\n",
            "Most :  This film explores the evolution of propaganda and public relations in the United States, with an emphasis on the elitist theory of democracy and the relationship between war, propaganda and class. Includes original interviews with a number of dissident scholars including Noam Chomsky, Howard Zinn, Michael Parenti, Peter Phillips (Project Censored), John Stauber (PR Watch), Christopher Simpson (The Science of Coercion) and others. A deep, richly illustrated study of the nature and history of propaganda, featuring some of the world’s most insightful critics, Psywar exposes the propaganda system, providing crucial background and insight into the control of information and thought. \n",
            "\n",
            "Median :  This is rural France. It's the summer of 1943, the weather is fine and sunny and life is sweet. On one of these beautiful days, Nanette, a fourteen-year-old peasant girl, meets a slightly injured young man near the farm she lives on. Her life is about to change forever. \n",
            "\n",
            "Least :  The whole clique of Cruchot's police station is retired. Now he lives with his rich wife in her castle - and is bored almost to death. He fights with the butler, because he isn't even allowed to do the simple works. But when one of the clique suffers from amnesia after an accident, all of the others reunite and kidnap him, to take him on a tour to their old working places and through their memories. In their old uniforms they turn St. Tropez upside down.\n"
          ],
          "name": "stdout"
        },
        {
          "output_type": "stream",
          "text": [
            "/usr/local/lib/python3.6/dist-packages/gensim/matutils.py:737: FutureWarning: Conversion of the second argument of issubdtype from `int` to `np.signedinteger` is deprecated. In future, it will be treated as `np.int64 == np.dtype(int).type`.\n",
            "  if np.issubdtype(vec.dtype, np.int):\n"
          ],
          "name": "stderr"
        }
      ]
    },
    {
      "cell_type": "markdown",
      "metadata": {
        "id": "Aj4bGXRs89j6",
        "colab_type": "text"
      },
      "source": [
        "Usually the MOST cosine-similar documents usually seem more like the TARGET than the MEDIAN or LEAST"
      ]
    },
    {
      "cell_type": "markdown",
      "metadata": {
        "_cell_guid": "d6666cff-2ff4-4bc7-a50d-7f61cd5e57b5",
        "_uuid": "2bc413a5e42337f9f33c58d9aa51ba35e6bb8cef",
        "id": "mWpH2JAa89j7",
        "colab_type": "text"
      },
      "source": [
        " ## Pre-trained word embeddings\n",
        " \n",
        " It is possible to use pre-trained word embeddings for your model. Indeed, there is a word2vec model available here (https://code.google.com/archive/p/word2vec). This model is trained by google but might not be well suited for the problem you want to solve. "
      ]
    },
    {
      "cell_type": "code",
      "metadata": {
        "id": "qSl7l6_wIqw4",
        "colab_type": "code",
        "colab": {}
      },
      "source": [
        ""
      ],
      "execution_count": 0,
      "outputs": []
    },
    {
      "cell_type": "code",
      "metadata": {
        "_cell_guid": "f86b9e2f-0360-4a61-b353-9cc7e0471a60",
        "_uuid": "393e48277e0aaa610cad6ebc6a54886c0b7ae6cd",
        "id": "vv4CUuSG89j7",
        "colab_type": "code",
        "colab": {
          "base_uri": "https://localhost:8080/",
          "height": 88
        },
        "outputId": "3ebca1ba-efce-41c8-feb4-70a598c59e2f"
      },
      "source": [
        "# PV-DBOW (with negative sampling)\n",
        "model_pre_trained = Doc2Vec(dm=0,vector_size=300, window=15,hs=0,negative=5,min_count=10,dbow_words=1,sample=1e-5)\n",
        "\n",
        "# build the vocabulary \n",
        "model_pre_trained.build_vocab(alldocs)\n",
        "\n",
        "# use pre-trained word vectors from google\n",
        "model_pre_trained.wv.load_word2vec_format('/content/GoogleNews-vectors-negative300.bin', binary=True)\n"
      ],
      "execution_count": 19,
      "outputs": [
        {
          "output_type": "stream",
          "text": [
            "/usr/local/lib/python3.6/dist-packages/smart_open/smart_open_lib.py:398: UserWarning: This function is deprecated, use smart_open.open instead. See the migration notes for details: https://github.com/RaRe-Technologies/smart_open/blob/master/README.rst#migrating-to-the-new-open-function\n",
            "  'See the migration notes for details: %s' % _MIGRATION_NOTES_URL\n"
          ],
          "name": "stderr"
        },
        {
          "output_type": "execute_result",
          "data": {
            "text/plain": [
              "<gensim.models.keyedvectors.Word2VecKeyedVectors at 0x7fc4eb7552e8>"
            ]
          },
          "metadata": {
            "tags": []
          },
          "execution_count": 19
        }
      ]
    },
    {
      "cell_type": "code",
      "metadata": {
        "_cell_guid": "36e7f4c1-3eb1-49cf-9389-d653042222ff",
        "_uuid": "3ffbedd7915d2e26db833ed4ea133c57e73fb747",
        "scrolled": false,
        "id": "NQLPKUyR89j_",
        "colab_type": "code",
        "colab": {}
      },
      "source": [
        "model_pre_trained.train(alldocs, total_examples=model.corpus_count, epochs=100)"
      ],
      "execution_count": 0,
      "outputs": []
    },
    {
      "cell_type": "markdown",
      "metadata": {
        "_cell_guid": "62b8fc44-1a94-4608-9b88-0de6b66d3be4",
        "_uuid": "f8aadd752db5259e3ee00c4127c5be07148a0453",
        "collapsed": true,
        "id": "CWJxoGnr89kB",
        "colab_type": "text"
      },
      "source": [
        "## <a id=\"tfidf\"></a>Creating the TF-IDF model\n",
        "\n",
        "We create the TF-IDF model from the list alldocs with the module TfidfModel from gensim.\n",
        "\n",
        "\n",
        "Full documentation can be found here :\n",
        "<li> gensim : https://radimrehurek.com/gensim/ </li>\n",
        "<li> Tf-Idf : https://radimrehurek.com/gensim/models/tfidfmodel.html </li>"
      ]
    },
    {
      "cell_type": "code",
      "metadata": {
        "_cell_guid": "052ac363-a61e-4995-842e-1de38251c922",
        "_uuid": "36fffa7369a33971f577610fbe19dab4e12fc495",
        "id": "iVfcIc_S89kC",
        "colab_type": "code",
        "colab": {}
      },
      "source": [
        "from gensim.models import TfidfModel\n",
        "from gensim.corpora import Dictionary\n",
        "from gensim import similarities \n",
        "\n",
        "dct = Dictionary(doc.words for doc in alldocs)  # fit dictionary\n",
        "corpus = [dct.doc2bow(line.words) for line in alldocs]  # convert dataset to BoW format\n",
        "model_tfidf = TfidfModel(corpus)  # fit model"
      ],
      "execution_count": 0,
      "outputs": []
    },
    {
      "cell_type": "code",
      "metadata": {
        "id": "Atzb2tIF89kE",
        "colab_type": "code",
        "colab": {
          "base_uri": "https://localhost:8080/",
          "height": 71
        },
        "outputId": "1282736b-bb89-457c-a164-64aa0d4f7495"
      },
      "source": [
        "# for example \n",
        " \n",
        "index = 0\n",
        "print(\"Document \",index, \" : \", data[alldocs[index].original_number] ) \n",
        "print(\"Bag of words representation of document \", index, \" : \", corpus[index])"
      ],
      "execution_count": 22,
      "outputs": [
        {
          "output_type": "stream",
          "text": [
            "Document  0  :  Led by Woody, Andy's toys live happily in his room until Andy's birthday brings Buzz Lightyear onto the scene. Afraid of losing his place in Andy's heart, Woody plots against Buzz. But when circumstances separate Buzz and Woody from their owner, the duo eventually learns to put aside their differences.\n",
            "Bag of words representation of document  0  :  [(0, 1), (1, 1), (2, 1), (3, 3), (4, 1), (5, 1), (6, 1), (7, 1), (8, 3), (9, 1), (10, 1), (11, 1), (12, 1), (13, 1), (14, 1), (15, 1), (16, 1), (17, 2), (18, 2), (19, 1), (20, 1), (21, 1), (22, 1), (23, 1), (24, 1), (25, 1), (26, 1), (27, 1), (28, 1), (29, 1), (30, 1), (31, 1), (32, 1), (33, 2), (34, 2), (35, 1), (36, 1), (37, 1), (38, 1), (39, 3)]\n"
          ],
          "name": "stdout"
        }
      ]
    },
    {
      "cell_type": "markdown",
      "metadata": {
        "id": "0Ihm4OPv89kG",
        "colab_type": "text"
      },
      "source": [
        "## Creating Similarity matrix between a list of key words and all the documents\n",
        "\n",
        "We create a matrix similarity thet represents the similarity between the list of key words and the documents."
      ]
    },
    {
      "cell_type": "code",
      "metadata": {
        "_cell_guid": "3887f564-f139-4edb-a38f-74e7a5c70490",
        "_uuid": "2e25899e5994ad9580355b03888a1a093256bfc5",
        "id": "vh2y40zo89kH",
        "colab_type": "code",
        "colab": {
          "base_uri": "https://localhost:8080/",
          "height": 71
        },
        "outputId": "b236b4bf-fa95-4a91-e901-23686a8b0290"
      },
      "source": [
        "#Create similarity matrix between doc and tokens\n",
        "tokens = \"love\".split()\n",
        "index = similarities.MatrixSimilarity([dct.doc2bow(tokens)],num_features=len(dct))"
      ],
      "execution_count": 23,
      "outputs": [
        {
          "output_type": "stream",
          "text": [
            "/usr/local/lib/python3.6/dist-packages/gensim/matutils.py:737: FutureWarning: Conversion of the second argument of issubdtype from `int` to `np.signedinteger` is deprecated. In future, it will be treated as `np.int64 == np.dtype(int).type`.\n",
            "  if np.issubdtype(vec.dtype, np.int):\n"
          ],
          "name": "stderr"
        }
      ]
    },
    {
      "cell_type": "markdown",
      "metadata": {
        "id": "8tOrAew789kK",
        "colab_type": "text"
      },
      "source": [
        "We just use the document with the higher score of similarity."
      ]
    },
    {
      "cell_type": "code",
      "metadata": {
        "_cell_guid": "ff1d9477-926f-4fcd-98d8-e1acbaf586f6",
        "_uuid": "7bb787ed8102a74835e7b80274f1aff8ad136408",
        "id": "x8KnQZy989kK",
        "colab_type": "code",
        "colab": {
          "base_uri": "https://localhost:8080/",
          "height": 88
        },
        "outputId": "8aaff97f-7d5e-4e23-9a4d-af5f3e22adf5"
      },
      "source": [
        "similarity=np.zeros((len(alldocs)))\n",
        "maxsim = 0\n",
        "for id, doc in enumerate(alldocs):\n",
        "    similarity[id] = index[dct.doc2bow(doc.words)]\n",
        "    \n",
        "docsim= alldocs[np.argmax(similarity)] \n",
        "print(data[docsim.original_number])\n",
        "print(tagsim)\n",
        "print(docsim.title)"
      ],
      "execution_count": 24,
      "outputs": [
        {
          "output_type": "stream",
          "text": [
            "Out of Love encapsulates the sweltering and devastating dynamics of love in the turbulent relationship between Varya and Nikolai, where genuine love and hope contend with destruction and despair.\n",
            "(15146, 0.5931428074836731)\n",
            "Out of Love\n"
          ],
          "name": "stdout"
        }
      ]
    },
    {
      "cell_type": "markdown",
      "metadata": {
        "collapsed": true,
        "id": "TsFQHQJF89kM",
        "colab_type": "text"
      },
      "source": [
        "The output is coherent with the input as there is the word **love** 3 times in the document.\n",
        "\n",
        "# Conclusion \n",
        "\n",
        "There are a lot of differences between the Doc2Vec search engine and the TF-IDF search engine. The TF-IDF model look only for the words listed in the key words that matches with the words in the document. This model is performing only if you look for documents that matches exactly the list of key words. But this model do not take into account the meaning of the words and the semantic proximity that can exist between 2 words. That is what is trying to achieve the Doc2Vec model. The goal is to create a model that represents meaning similarity between words and documents. The downside is that the model is more complex to create and depends on the data that is given and the tuning of hyper-parameters."
      ]
    }
  ]
}