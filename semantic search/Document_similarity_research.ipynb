{
  "nbformat": 4,
  "nbformat_minor": 0,
  "metadata": {
    "kernelspec": {
      "name": "python2",
      "display_name": "Python 2"
    },
    "language_info": {
      "codemirror_mode": {
        "name": "ipython",
        "version": 2
      },
      "file_extension": ".py",
      "mimetype": "text/x-python",
      "name": "python",
      "nbconvert_exporter": "python",
      "pygments_lexer": "ipython2",
      "version": "2.7.15"
    },
    "colab": {
      "name": "Document_similarity_research.ipynb",
      "version": "0.3.2",
      "provenance": [],
      "toc_visible": true,
      "include_colab_link": true
    },
    "accelerator": "GPU"
  },
  "cells": [
    {
      "cell_type": "markdown",
      "metadata": {
        "id": "view-in-github",
        "colab_type": "text"
      },
      "source": [
        "<a href=\"https://colab.research.google.com/github/navneetkrc/Recommender_systems/blob/master/semantic%20search/Document_similarity_research.ipynb\" target=\"_parent\"><img src=\"https://colab.research.google.com/assets/colab-badge.svg\" alt=\"Open In Colab\"/></a>"
      ]
    },
    {
      "cell_type": "code",
      "metadata": {
        "id": "YhYfRdsZ6GRg",
        "colab_type": "code",
        "outputId": "54f29a49-779b-42db-e3b0-415937844f0e",
        "colab": {
          "base_uri": "https://localhost:8080/",
          "height": 122
        }
      },
      "source": [
        "from google.colab import drive\n",
        "drive.mount('/content/drive')"
      ],
      "execution_count": 0,
      "outputs": [
        {
          "output_type": "stream",
          "text": [
            "Go to this URL in a browser: https://accounts.google.com/o/oauth2/auth?client_id=947318989803-6bn6qk8qdgf4n4g3pfee6491hc0brc4i.apps.googleusercontent.com&redirect_uri=urn%3Aietf%3Awg%3Aoauth%3A2.0%3Aoob&scope=email%20https%3A%2F%2Fwww.googleapis.com%2Fauth%2Fdocs.test%20https%3A%2F%2Fwww.googleapis.com%2Fauth%2Fdrive%20https%3A%2F%2Fwww.googleapis.com%2Fauth%2Fdrive.photos.readonly%20https%3A%2F%2Fwww.googleapis.com%2Fauth%2Fpeopleapi.readonly&response_type=code\n",
            "\n",
            "Enter your authorization code:\n",
            "··········\n",
            "Mounted at /content/drive\n"
          ],
          "name": "stdout"
        }
      ]
    },
    {
      "cell_type": "code",
      "metadata": {
        "id": "nCe-xDTs5QM-",
        "colab_type": "code",
        "outputId": "256b298e-a8d5-430d-ea20-ca6b86febe30",
        "colab": {
          "base_uri": "https://localhost:8080/",
          "height": 224
        }
      },
      "source": [
        "import nltk\n",
        "nltk.download('punkt')\n",
        "from nltk.corpus import stopwords\n",
        "!pip install stop_words"
      ],
      "execution_count": 0,
      "outputs": [
        {
          "output_type": "stream",
          "text": [
            "[nltk_data] Downloading package punkt to /root/nltk_data...\n",
            "[nltk_data]   Unzipping tokenizers/punkt.zip.\n",
            "Collecting stop_words\n",
            "  Downloading https://files.pythonhosted.org/packages/1c/cb/d58290804b7a4c5daa42abbbe2a93c477ae53e45541b1825e86f0dfaaf63/stop-words-2018.7.23.tar.gz\n",
            "Building wheels for collected packages: stop-words\n",
            "  Building wheel for stop-words (setup.py) ... \u001b[?25l\u001b[?25hdone\n",
            "  Created wheel for stop-words: filename=stop_words-2018.7.23-cp27-none-any.whl size=32916 sha256=1887d6d3c276e0964d7d458f10c6b7d787e6d5072e374618739ff6c061f08ef5\n",
            "  Stored in directory: /root/.cache/pip/wheels/75/37/6a/2b295e03bd07290f0da95c3adb9a74ba95fbc333aa8b0c7c78\n",
            "Successfully built stop-words\n",
            "Installing collected packages: stop-words\n",
            "Successfully installed stop-words-2018.7.23\n"
          ],
          "name": "stdout"
        }
      ]
    },
    {
      "cell_type": "code",
      "metadata": {
        "id": "a15Pc4gr2r8r",
        "colab_type": "code",
        "colab": {}
      },
      "source": [
        "# import dependencies\n",
        "%matplotlib inline\n",
        "import pandas as pd\n",
        "import numpy as np\n",
        "import nltk\n",
        "from nltk.corpus import stopwords\n",
        "import gensim\n",
        "from gensim.models import LdaModel, Word2Vec\n",
        "from gensim import models, corpora, similarities\n",
        "import re\n",
        "from nltk.stem.porter import PorterStemmer\n",
        "import time\n",
        "from nltk import FreqDist\n",
        "from scipy.stats import entropy\n",
        "import matplotlib.pyplot as plt\n",
        "from matplotlib.pyplot import savefig\n",
        "import seaborn as sns\n",
        "import stop_words\n",
        "from scipy.stats import wasserstein_distance\n",
        "from pyemd import emd\n",
        "from scipy.spatial.distance import cosine\n",
        "sns.set_style(\"darkgrid\")"
      ],
      "execution_count": 0,
      "outputs": []
    },
    {
      "cell_type": "markdown",
      "metadata": {
        "id": "6S9TzseX2r8u",
        "colab_type": "text"
      },
      "source": [
        "### Data Import"
      ]
    },
    {
      "cell_type": "code",
      "metadata": {
        "id": "gzMvrzuv2r8v",
        "colab_type": "code",
        "outputId": "42a5e629-fc7a-4e3c-aaa4-22ef34f8fcf9",
        "colab": {
          "base_uri": "https://localhost:8080/",
          "height": 442
        }
      },
      "source": [
        "filepath = \"/content/drive/My Drive/MLAI_Datasets/Document similarity research/fake_Document_similarity_research.csv\"\n",
        "df = pd.read_csv(filepath, usecols = ['uuid','author','title','text','language','site_url','country'])\n",
        "df = df[df.language == 'english']\n",
        "df = df[df['text'].map(type) == str]\n",
        "df['title'].fillna(value=\"\", inplace=True)\n",
        "df.dropna(axis=0, inplace=True, subset=['text'])\n",
        "# shuffle the data\n",
        "df = df.sample(frac=1.0)\n",
        "df.reset_index(drop=True,inplace=True)\n",
        "df.head()"
      ],
      "execution_count": 0,
      "outputs": [
        {
          "output_type": "execute_result",
          "data": {
            "text/html": [
              "<div>\n",
              "<style scoped>\n",
              "    .dataframe tbody tr th:only-of-type {\n",
              "        vertical-align: middle;\n",
              "    }\n",
              "\n",
              "    .dataframe tbody tr th {\n",
              "        vertical-align: top;\n",
              "    }\n",
              "\n",
              "    .dataframe thead th {\n",
              "        text-align: right;\n",
              "    }\n",
              "</style>\n",
              "<table border=\"1\" class=\"dataframe\">\n",
              "  <thead>\n",
              "    <tr style=\"text-align: right;\">\n",
              "      <th></th>\n",
              "      <th>uuid</th>\n",
              "      <th>author</th>\n",
              "      <th>title</th>\n",
              "      <th>text</th>\n",
              "      <th>language</th>\n",
              "      <th>site_url</th>\n",
              "      <th>country</th>\n",
              "    </tr>\n",
              "  </thead>\n",
              "  <tbody>\n",
              "    <tr>\n",
              "      <th>0</th>\n",
              "      <td>69f7083afcc364378a76c5a67d1be7b1cf79e437</td>\n",
              "      <td>Robert Spencer</td>\n",
              "      <td>Selective Outrage Over SPLC’s 'Anti-Muslim Ext...</td>\n",
              "      <td>Search Selective Outrage Over SPLC’s 'Anti-Mus...</td>\n",
              "      <td>english</td>\n",
              "      <td>frontpagemag.com</td>\n",
              "      <td>US</td>\n",
              "    </tr>\n",
              "    <tr>\n",
              "      <th>1</th>\n",
              "      <td>cbd5f52e70642cb8c1a4dcb8bb91ad04865135c6</td>\n",
              "      <td>EdJenner</td>\n",
              "      <td>Artificial Intelligence System Predicts Trump ...</td>\n",
              "      <td>An artificial intelligence system that correct...</td>\n",
              "      <td>english</td>\n",
              "      <td>dailywire.com</td>\n",
              "      <td>US</td>\n",
              "    </tr>\n",
              "    <tr>\n",
              "      <th>2</th>\n",
              "      <td>97177f939b988cbef405337d86fb8eacd4e56999</td>\n",
              "      <td>NaN</td>\n",
              "      <td>Trump’s Thanksgiving Message From Three Years ...</td>\n",
              "      <td>Share on Facebook \\nIf there’s one thing we as...</td>\n",
              "      <td>english</td>\n",
              "      <td>newcenturytimes.com</td>\n",
              "      <td>US</td>\n",
              "    </tr>\n",
              "    <tr>\n",
              "      <th>3</th>\n",
              "      <td>efaad85e548ac02bc35af465b023389a5461dfe6</td>\n",
              "      <td>Jerri-Lynn Scofield</td>\n",
              "      <td>Solution for Syria Requires United States to C...</td>\n",
              "      <td>by Jerri-Lynn Scofield \\nJerri-Lynn here. Norm...</td>\n",
              "      <td>english</td>\n",
              "      <td>nakedcapitalism.com</td>\n",
              "      <td>US</td>\n",
              "    </tr>\n",
              "    <tr>\n",
              "      <th>4</th>\n",
              "      <td>8646c688ac4b2d7958fdea5acdc4ad1183f7f585</td>\n",
              "      <td>Starkman</td>\n",
              "      <td>Police Turn In Badges Rather Than Incite Viole...</td>\n",
              "      <td>At least two police officers turned in their b...</td>\n",
              "      <td>english</td>\n",
              "      <td>topinfopost.com</td>\n",
              "      <td>US</td>\n",
              "    </tr>\n",
              "  </tbody>\n",
              "</table>\n",
              "</div>"
            ],
            "text/plain": [
              "                                       uuid  ... country\n",
              "0  69f7083afcc364378a76c5a67d1be7b1cf79e437  ...      US\n",
              "1  cbd5f52e70642cb8c1a4dcb8bb91ad04865135c6  ...      US\n",
              "2  97177f939b988cbef405337d86fb8eacd4e56999  ...      US\n",
              "3  efaad85e548ac02bc35af465b023389a5461dfe6  ...      US\n",
              "4  8646c688ac4b2d7958fdea5acdc4ad1183f7f585  ...      US\n",
              "\n",
              "[5 rows x 7 columns]"
            ]
          },
          "metadata": {
            "tags": []
          },
          "execution_count": 4
        }
      ]
    },
    {
      "cell_type": "code",
      "metadata": {
        "id": "UjXEBb9f2r8z",
        "colab_type": "code",
        "colab": {}
      },
      "source": [
        "def initial_clean(text):\n",
        "    text = re.sub(\"((\\S+)?(http(s)?)(\\S+))|((\\S+)?(www)(\\S+))|((\\S+)?(\\@)(\\S+)?)\", \" \", text)\n",
        "    text = re.sub(\"[^a-zA-Z ]\", \"\", text)\n",
        "    text = text.lower() # lower case the text\n",
        "    text = nltk.word_tokenize(text)\n",
        "    return text\n",
        "\n",
        "stop_words = stop_words.get_stop_words('english')\n",
        "def remove_stop_words(text):\n",
        "    return [word for word in text if word not in stop_words]\n",
        "\n",
        "stemmer = PorterStemmer()\n",
        "def stem_words(text):\n",
        "    try:\n",
        "        text = [stemmer.stem(word) for word in text]\n",
        "        text = [word for word in text if len(word) > 1] # make sure we have no 1 letter words\n",
        "    except IndexError: # the word \"oed\" broke this, so needed try except\n",
        "        pass\n",
        "    return text\n",
        "\n",
        "def apply_all(text):\n",
        "    return stem_words(remove_stop_words(initial_clean(text)))"
      ],
      "execution_count": 0,
      "outputs": []
    },
    {
      "cell_type": "code",
      "metadata": {
        "id": "2MaY-Jmu2r82",
        "colab_type": "code",
        "outputId": "edc501ce-09d2-4718-f574-9eed1db490a9",
        "colab": {
          "base_uri": "https://localhost:8080/",
          "height": 34
        }
      },
      "source": [
        "# clean text and title and create new column \"tokenized\"\n",
        "#%time\n",
        "t1 = time.time()\n",
        "df['tokenized'] = df['text'].apply(apply_all) + df['title'].apply(apply_all)\n",
        "t2 = time.time()\n",
        "print(\"Time to clean and tokenize\", len(df), \"articles:\", (t2-t1)/60, \"min\")"
      ],
      "execution_count": 0,
      "outputs": [
        {
          "output_type": "stream",
          "text": [
            "('Time to clean and tokenize', 12357, 'articles:', 4.468412085374196, 'min')\n"
          ],
          "name": "stdout"
        }
      ]
    },
    {
      "cell_type": "code",
      "metadata": {
        "id": "KSsgagIK2r84",
        "colab_type": "code",
        "outputId": "4d9ce0ac-061e-4396-8b06-5d14ffe196a6",
        "colab": {
          "base_uri": "https://localhost:8080/",
          "height": 34
        }
      },
      "source": [
        "# first get a list of all words\n",
        "all_words = [word for item in df['tokenized'].tolist() for word in item]\n",
        "# use nltk fdist to get a frequency distribution of all words\n",
        "fdist = FreqDist(all_words)\n",
        "len(fdist) # number of unique words"
      ],
      "execution_count": 0,
      "outputs": [
        {
          "output_type": "execute_result",
          "data": {
            "text/plain": [
              "96283"
            ]
          },
          "metadata": {
            "tags": []
          },
          "execution_count": 7
        }
      ]
    },
    {
      "cell_type": "code",
      "metadata": {
        "id": "_1RygbSi2r86",
        "colab_type": "code",
        "outputId": "fe393155-7efb-4acf-9580-6e4829b4c751",
        "colab": {
          "base_uri": "https://localhost:8080/",
          "height": 187
        }
      },
      "source": [
        "# choose k and visually inspect the bottom 10 words of the top k\n",
        "k = 50000\n",
        "top_k_words = fdist.most_common(k)\n",
        "top_k_words[-10:]"
      ],
      "execution_count": 0,
      "outputs": [
        {
          "output_type": "execute_result",
          "data": {
            "text/plain": [
              "[('dovethat', 1),\n",
              " (u'goalori', 1),\n",
              " (u'wardgetti', 1),\n",
              " (u'persion', 1),\n",
              " (u'daycaus', 1),\n",
              " (u'rainmak', 1),\n",
              " ('amazondotcon', 1),\n",
              " ('socialistmarxist', 1),\n",
              " (u'solubil', 1),\n",
              " (u'geographicaccord', 1)]"
            ]
          },
          "metadata": {
            "tags": []
          },
          "execution_count": 8
        }
      ]
    },
    {
      "cell_type": "code",
      "metadata": {
        "id": "1DoGmw8O2r87",
        "colab_type": "code",
        "outputId": "48ae4479-d5b0-4d60-efc1-e4744c39145c",
        "colab": {
          "base_uri": "https://localhost:8080/",
          "height": 187
        }
      },
      "source": [
        "# choose k and visually inspect the bottom 10 words of the top k\n",
        "k = 15000\n",
        "top_k_words = fdist.most_common(k)\n",
        "top_k_words[-10:]"
      ],
      "execution_count": 0,
      "outputs": [
        {
          "output_type": "execute_result",
          "data": {
            "text/plain": [
              "[('nikita', 13),\n",
              " ('ith', 13),\n",
              " ('fatherson', 13),\n",
              " (u'bilingu', 13),\n",
              " ('postcivil', 13),\n",
              " (u'blot', 13),\n",
              " (u'psychoanalysi', 13),\n",
              " (u'languish', 13),\n",
              " ('mckesson', 13),\n",
              " (u'uncompromis', 13)]"
            ]
          },
          "metadata": {
            "tags": []
          },
          "execution_count": 9
        }
      ]
    },
    {
      "cell_type": "code",
      "metadata": {
        "id": "C06u6GgO2r89",
        "colab_type": "code",
        "colab": {}
      },
      "source": [
        "# define a function only to keep words in the top k words\n",
        "top_k_words,_ = zip(*fdist.most_common(k))\n",
        "top_k_words = set(top_k_words)\n",
        "def keep_top_k_words(text):\n",
        "    return [word for word in text if word in top_k_words]"
      ],
      "execution_count": 0,
      "outputs": []
    },
    {
      "cell_type": "code",
      "metadata": {
        "id": "R6bV33vo2r8_",
        "colab_type": "code",
        "colab": {}
      },
      "source": [
        "df['tokenized'] = df['tokenized'].apply(keep_top_k_words)"
      ],
      "execution_count": 0,
      "outputs": []
    },
    {
      "cell_type": "code",
      "metadata": {
        "id": "StUW9Y6h2r9C",
        "colab_type": "code",
        "outputId": "9e654099-275b-441d-a393-d41bf2269fb3",
        "colab": {
          "base_uri": "https://localhost:8080/",
          "height": 54
        }
      },
      "source": [
        "# document length\n",
        "doc_lengths = df['tokenized'].apply(lambda x: len(x)).tolist()\n",
        "\n",
        "#df.drop(labels='doc_len', axis=1, inplace=True)\n",
        "\n",
        "print(\"length of list:\",len(doc_lengths),\n",
        "      \"average document length\", np.average(doc_lengths),\n",
        "      \"minimum document length\", min(doc_lengths),\n",
        "      \"maximum document length\", max(doc_lengths))"
      ],
      "execution_count": 0,
      "outputs": [
        {
          "output_type": "stream",
          "text": [
            "('length of list:', 12357, 'average document length', 349.3714493809177, 'minimum document length', 0, 'maximum document length', 11839)\n"
          ],
          "name": "stdout"
        }
      ]
    },
    {
      "cell_type": "code",
      "metadata": {
        "id": "xp2xSvLQ2r9F",
        "colab_type": "code",
        "outputId": "14809ad8-ea23-43c3-ee9a-f2b64a9a993c",
        "colab": {
          "base_uri": "https://localhost:8080/",
          "height": 495
        }
      },
      "source": [
        "# plot a histogram of document length\n",
        "num_bins = 1000\n",
        "fig, ax = plt.subplots(figsize=(12,6));\n",
        "# the histogram of the data\n",
        "n, bins, patches = ax.hist(doc_lengths, num_bins, normed=1)\n",
        "ax.set_xlabel('Document Length (tokens)', fontsize=15)\n",
        "ax.set_ylabel('Normed Frequency', fontsize=15)\n",
        "ax.grid()\n",
        "ax.set_xticks(np.logspace(start=np.log10(50),stop=np.log10(2000),num=8, base=10.0))\n",
        "plt.xlim(0,2000)\n",
        "ax.plot([np.average(doc_lengths) for i in np.linspace(0.0,0.0035,100)], np.linspace(0.0,0.0035,100), '-',\n",
        "        label='average doc length')\n",
        "ax.legend()\n",
        "ax.grid()\n",
        "fig.tight_layout()\n",
        "plt.show()"
      ],
      "execution_count": 0,
      "outputs": [
        {
          "output_type": "stream",
          "text": [
            "/usr/local/lib/python2.7/dist-packages/matplotlib/axes/_axes.py:6571: UserWarning: The 'normed' kwarg is deprecated, and has been replaced by the 'density' kwarg.\n",
            "  warnings.warn(\"The 'normed' kwarg is deprecated, and has been \"\n"
          ],
          "name": "stderr"
        },
        {
          "output_type": "display_data",
          "data": {
            "image/png": "[encoded data removed]",
            "text/plain": [
              "<Figure size 864x432 with 1 Axes>"
            ]
          },
          "metadata": {
            "tags": []
          }
        }
      ]
    },
    {
      "cell_type": "code",
      "metadata": {
        "id": "-bll6Oga2r9H",
        "colab_type": "code",
        "outputId": "fc9ff724-694a-4307-8a0f-df4175e82b81",
        "colab": {
          "base_uri": "https://localhost:8080/",
          "height": 34
        }
      },
      "source": [
        "# only keep articles with more than 30 tokens, otherwise too short\n",
        "df = df[df['tokenized'].map(len) >= 40]\n",
        "# make sure all tokenized items are lists\n",
        "df = df[df['tokenized'].map(type) == list]\n",
        "df.reset_index(drop=True,inplace=True)\n",
        "print(\"After cleaning and excluding short aticles, the dataframe now has:\", len(df), \"articles\")"
      ],
      "execution_count": 0,
      "outputs": [
        {
          "output_type": "stream",
          "text": [
            "('After cleaning and excluding short aticles, the dataframe now has:', 10835, 'articles')\n"
          ],
          "name": "stdout"
        }
      ]
    },
    {
      "cell_type": "code",
      "metadata": {
        "id": "2w0rr3vM2r9I",
        "colab_type": "code",
        "outputId": "c0057691-5a49-46af-b99f-5cff078e5af4",
        "colab": {
          "base_uri": "https://localhost:8080/",
          "height": 34
        }
      },
      "source": [
        "# create a mask of binary values\n",
        "msk = np.random.rand(len(df)) < 0.999\n",
        "msk"
      ],
      "execution_count": 0,
      "outputs": [
        {
          "output_type": "execute_result",
          "data": {
            "text/plain": [
              "array([ True,  True,  True, ...,  True,  True,  True])"
            ]
          },
          "metadata": {
            "tags": []
          },
          "execution_count": 15
        }
      ]
    },
    {
      "cell_type": "code",
      "metadata": {
        "id": "jgpw26Q02r9K",
        "colab_type": "code",
        "colab": {}
      },
      "source": [
        "train_df = df[msk]\n",
        "train_df.reset_index(drop=True,inplace=True)\n",
        "\n",
        "test_df = df[~msk]\n",
        "test_df.reset_index(drop=True,inplace=True)"
      ],
      "execution_count": 0,
      "outputs": []
    },
    {
      "cell_type": "code",
      "metadata": {
        "id": "pGODp7Od2r9M",
        "colab_type": "code",
        "outputId": "9ae32db2-fe35-48f1-b648-11be3064edac",
        "colab": {
          "base_uri": "https://localhost:8080/",
          "height": 34
        }
      },
      "source": [
        "print(len(df),len(train_df),len(test_df))"
      ],
      "execution_count": 0,
      "outputs": [
        {
          "output_type": "stream",
          "text": [
            "(10835, 10822, 13)\n"
          ],
          "name": "stdout"
        }
      ]
    },
    {
      "cell_type": "code",
      "metadata": {
        "id": "rMNqwDob2r9P",
        "colab_type": "code",
        "colab": {}
      },
      "source": [
        "def train_lda(data):\n",
        "    \"\"\"\n",
        "    This function trains the lda model\n",
        "    We setup parameters like number of topics, the chunksize to use in Hoffman method\n",
        "    We also do 2 passes of the data since this is a small dataset, so we want the distributions to stabilize\n",
        "    \"\"\"\n",
        "    num_topics = 100\n",
        "    chunksize = 300\n",
        "    dictionary = corpora.Dictionary(data['tokenized'])\n",
        "    corpus = [dictionary.doc2bow(doc) for doc in data['tokenized']]\n",
        "    t1 = time.time()\n",
        "    # low alpha means each document is only represented by a small number of topics, and vice versa\n",
        "    # low eta means each topic is only represented by a small number of words, and vice versa\n",
        "    lda = LdaModel(corpus=corpus, num_topics=num_topics, id2word=dictionary,\n",
        "                   alpha=1e-2, eta=0.5e-2, chunksize=chunksize, minimum_probability=0.0, passes=2)\n",
        "    t2 = time.time()\n",
        "    print(\"Time to train LDA model on \", len(df), \"articles: \", (t2-t1)/60, \"min\")\n",
        "    return dictionary,corpus,lda"
      ],
      "execution_count": 0,
      "outputs": []
    },
    {
      "cell_type": "code",
      "metadata": {
        "id": "bCpVVlBK2r9R",
        "colab_type": "code",
        "outputId": "3d68612c-eb77-4c10-a020-340abfc44a11",
        "colab": {
          "base_uri": "https://localhost:8080/",
          "height": 88
        }
      },
      "source": [
        "dictionary,corpus,lda = train_lda(train_df)"
      ],
      "execution_count": 0,
      "outputs": [
        {
          "output_type": "stream",
          "text": [
            "/usr/local/lib/python2.7/dist-packages/gensim/models/ldamodel.py:1023: RuntimeWarning: divide by zero encountered in log\n",
            "  diff = np.log(self.expElogbeta)\n"
          ],
          "name": "stderr"
        },
        {
          "output_type": "stream",
          "text": [
            "('Time to train LDA model on ', 10835, 'articles: ', 1.6954107642173768, 'min')\n"
          ],
          "name": "stdout"
        }
      ]
    },
    {
      "cell_type": "code",
      "metadata": {
        "id": "nATfcbrx2r9T",
        "colab_type": "code",
        "outputId": "0de5cd83-e053-4250-f920-b87aea3e5d32",
        "colab": {
          "base_uri": "https://localhost:8080/",
          "height": 377
        }
      },
      "source": [
        "# show_topics method shows the the top num_words contributing to num_topics number of random topics\n",
        "lda.show_topics(num_topics=10, num_words=20)"
      ],
      "execution_count": 0,
      "outputs": [
        {
          "output_type": "execute_result",
          "data": {
            "text/plain": [
              "[(65,\n",
              "  u'0.056*\"devic\" + 0.033*\"use\" + 0.024*\"phone\" + 0.024*\"batteri\" + 0.021*\"test\" + 0.020*\"teenag\" + 0.016*\"call\" + 0.016*\"mask\" + 0.014*\"servic\" + 0.013*\"wear\" + 0.013*\"walk\" + 0.011*\"star\" + 0.011*\"smoke\" + 0.011*\"code\" + 0.009*\"onlin\" + 0.008*\"wire\" + 0.008*\"can\" + 0.008*\"fame\" + 0.008*\"found\" + 0.008*\"lock\"'),\n",
              " (50,\n",
              "  u'0.027*\"war\" + 0.016*\"peopl\" + 0.012*\"state\" + 0.011*\"us\" + 0.011*\"nation\" + 0.009*\"world\" + 0.009*\"american\" + 0.007*\"countri\" + 0.006*\"power\" + 0.006*\"peac\" + 0.006*\"america\" + 0.005*\"right\" + 0.005*\"govern\" + 0.005*\"one\" + 0.005*\"leader\" + 0.005*\"unit\" + 0.004*\"will\" + 0.004*\"polit\" + 0.004*\"mani\" + 0.004*\"militari\"'),\n",
              " (0,\n",
              "  u'0.170*\"dog\" + 0.097*\"chicken\" + 0.077*\"anim\" + 0.068*\"petit\" + 0.049*\"pet\" + 0.040*\"meat\" + 0.039*\"unwant\" + 0.033*\"cat\" + 0.031*\"christma\" + 0.029*\"festiv\" + 0.029*\"kenyan\" + 0.028*\"punch\" + 0.027*\"kenya\" + 0.024*\"anniversari\" + 0.023*\"signatur\" + 0.022*\"chronicl\" + 0.019*\"nc\" + 0.013*\"malik\" + 0.012*\"amateur\" + 0.010*\"beaten\"'),\n",
              " (82,\n",
              "  u'0.061*\"obama\" + 0.010*\"presid\" + 0.009*\"white\" + 0.009*\"hous\" + 0.008*\"new\" + 0.007*\"us\" + 0.006*\"like\" + 0.006*\"administr\" + 0.005*\"barack\" + 0.005*\"state\" + 0.005*\"american\" + 0.005*\"steven\" + 0.004*\"democrat\" + 0.004*\"will\" + 0.004*\"obamacar\" + 0.004*\"look\" + 0.004*\"hillari\" + 0.003*\"caucu\" + 0.003*\"govern\" + 0.003*\"execut\"'),\n",
              " (3,\n",
              "  u'0.100*\"bill\" + 0.019*\"summit\" + 0.017*\"hemispher\" + 0.015*\"predatori\" + 0.013*\"restrict\" + 0.012*\"class\" + 0.011*\"cosbi\" + 0.011*\"order\" + 0.011*\"govern\" + 0.011*\"deal\" + 0.010*\"brazilian\" + 0.010*\"tent\" + 0.009*\"year\" + 0.009*\"selfdefens\" + 0.007*\"murder\" + 0.007*\"indiana\" + 0.007*\"ford\" + 0.007*\"deplor\" + 0.007*\"monopoli\" + 0.007*\"whatsoev\"'),\n",
              " (75,\n",
              "  u'0.030*\"drug\" + 0.026*\"medic\" + 0.022*\"doctor\" + 0.020*\"use\" + 0.011*\"research\" + 0.011*\"cancer\" + 0.010*\"studi\" + 0.010*\"mani\" + 0.009*\"medicin\" + 0.009*\"treatment\" + 0.009*\"health\" + 0.008*\"patient\" + 0.007*\"effect\" + 0.007*\"stoneheng\" + 0.007*\"year\" + 0.007*\"case\" + 0.007*\"report\" + 0.007*\"fda\" + 0.007*\"caus\" + 0.006*\"even\"'),\n",
              " (59,\n",
              "  u'0.051*\"david\" + 0.038*\"space\" + 0.032*\"moon\" + 0.028*\"alien\" + 0.027*\"duke\" + 0.024*\"imag\" + 0.019*\"credit\" + 0.018*\"novemb\" + 0.018*\"strang\" + 0.018*\"tall\" + 0.015*\"nasa\" + 0.015*\"day\" + 0.015*\"th\" + 0.015*\"pm\" + 0.013*\"state\" + 0.012*\"grey\" + 0.011*\"contra\" + 0.010*\"visual\" + 0.010*\"nobel\" + 0.010*\"et\"'),\n",
              " (55,\n",
              "  u'0.064*\"syria\" + 0.048*\"war\" + 0.038*\"us\" + 0.026*\"russia\" + 0.018*\"state\" + 0.017*\"zone\" + 0.016*\"militari\" + 0.015*\"assad\" + 0.015*\"syrian\" + 0.014*\"polici\" + 0.013*\"foreign\" + 0.012*\"obama\" + 0.012*\"russian\" + 0.010*\"conflict\" + 0.010*\"will\" + 0.009*\"world\" + 0.008*\"countri\" + 0.008*\"east\" + 0.007*\"unit\" + 0.007*\"forc\"'),\n",
              " (40,\n",
              "  u'0.082*\"fbi\" + 0.068*\"email\" + 0.066*\"clinton\" + 0.045*\"investig\" + 0.042*\"hillari\" + 0.034*\"comey\" + 0.022*\"server\" + 0.019*\"reopen\" + 0.018*\"new\" + 0.017*\"said\" + 0.017*\"weiner\" + 0.016*\"abedin\" + 0.014*\"huma\" + 0.012*\"friday\" + 0.011*\"anthoni\" + 0.010*\"elect\" + 0.010*\"director\" + 0.009*\"privat\" + 0.008*\"day\" + 0.008*\"laptop\"'),\n",
              " (17,\n",
              "  u'0.046*\"intellig\" + 0.041*\"secur\" + 0.040*\"agenc\" + 0.037*\"oper\" + 0.022*\"program\" + 0.020*\"spi\" + 0.019*\"use\" + 0.019*\"deep\" + 0.019*\"surveil\" + 0.016*\"nsa\" + 0.014*\"shadow\" + 0.014*\"system\" + 0.014*\"drone\" + 0.014*\"technolog\" + 0.013*\"suspens\" + 0.011*\"battlefield\" + 0.010*\"target\" + 0.010*\"firepow\" + 0.010*\"face\" + 0.010*\"contractor\"')]"
            ]
          },
          "metadata": {
            "tags": []
          },
          "execution_count": 20
        }
      ]
    },
    {
      "cell_type": "code",
      "metadata": {
        "id": "zAm-VDVm2r9V",
        "colab_type": "code",
        "outputId": "d08328d0-2fa1-4915-cbf0-9ac72183d6af",
        "colab": {
          "base_uri": "https://localhost:8080/",
          "height": 357
        }
      },
      "source": [
        "lda.show_topic(topicid=40, topn=20)"
      ],
      "execution_count": 0,
      "outputs": [
        {
          "output_type": "execute_result",
          "data": {
            "text/plain": [
              "[(u'fbi', 0.08191844),\n",
              " (u'email', 0.06762746),\n",
              " (u'clinton', 0.06617279),\n",
              " (u'investig', 0.045266856),\n",
              " (u'hillari', 0.041864336),\n",
              " (u'comey', 0.033624824),\n",
              " (u'server', 0.021987392),\n",
              " (u'reopen', 0.018617658),\n",
              " (u'new', 0.018184274),\n",
              " (u'said', 0.017065931),\n",
              " (u'weiner', 0.016832368),\n",
              " (u'abedin', 0.015566967),\n",
              " (u'huma', 0.014268426),\n",
              " (u'friday', 0.011529243),\n",
              " (u'anthoni', 0.010781611),\n",
              " (u'elect', 0.010011856),\n",
              " (u'director', 0.009510633),\n",
              " (u'privat', 0.0088113025),\n",
              " (u'day', 0.008227241),\n",
              " (u'laptop', 0.008114761)]"
            ]
          },
          "metadata": {
            "tags": []
          },
          "execution_count": 21
        }
      ]
    },
    {
      "cell_type": "code",
      "metadata": {
        "id": "cyZjPAQS2r9W",
        "colab_type": "code",
        "outputId": "9abd21ca-5154-4624-b8f2-efa4ec68c75c",
        "colab": {
          "base_uri": "https://localhost:8080/",
          "height": 34
        }
      },
      "source": [
        "random_article_index = np.random.randint(len(train_df))\n",
        "bow = dictionary.doc2bow(train_df.iloc[random_article_index,7])\n",
        "print(random_article_index)"
      ],
      "execution_count": 0,
      "outputs": [
        {
          "output_type": "stream",
          "text": [
            "881\n"
          ],
          "name": "stdout"
        }
      ]
    },
    {
      "cell_type": "code",
      "metadata": {
        "scrolled": true,
        "id": "B1UxaB8w2r9Z",
        "colab_type": "code",
        "outputId": "923c9d13-b6f2-44ea-f459-27fbacbea647",
        "colab": {
          "base_uri": "https://localhost:8080/",
          "height": 156
        }
      },
      "source": [
        "print(train_df.iloc[random_article_index,3])"
      ],
      "execution_count": 0,
      "outputs": [
        {
          "output_type": "stream",
          "text": [
            "Of course, when you think about it, it was inevitable, says some smart-arsed twat 10-11-16 \n",
            "THE election of Donald Trump was inevitable and obvious, according to some smug, smart-arsed twat. \n",
            "The twat, Martin Bishop, used words including ‘disenfranchised’, ‘swamped’ and ‘angry’ to bolster an argument which was later described as ‘obvious’ and ‘rubbish’. \n",
            "Bishop said: “White working class, ignored, globalisation, elite.” \n",
            "He added: “Politics of emotion, social media, ignored, globalised, ignored, elites, ignored, ignored, ignored. This doesn’t really affect me.” \n",
            "But Professor Henry Brubaker, from the Institute for Studies, said: “It’s because Hillary Clinton was a shit candidate. \n",
            "“Are we done?”\n"
          ],
          "name": "stdout"
        }
      ]
    },
    {
      "cell_type": "code",
      "metadata": {
        "id": "QHTm90T82r9c",
        "colab_type": "code",
        "colab": {}
      },
      "source": [
        "# get the topic contributions for the document chosen at random above\n",
        "doc_distribution = np.array([tup[1] for tup in lda.get_document_topics(bow=bow)])"
      ],
      "execution_count": 0,
      "outputs": []
    },
    {
      "cell_type": "code",
      "metadata": {
        "id": "j32cq7KV2r9e",
        "colab_type": "code",
        "outputId": "0565453d-5491-40df-945d-ea7d8d67a27e",
        "colab": {
          "base_uri": "https://localhost:8080/",
          "height": 441
        }
      },
      "source": [
        "# bar plot of topic distribution for this document\n",
        "fig, ax = plt.subplots(figsize=(12,6));\n",
        "# the histogram of the data\n",
        "patches = ax.bar(np.arange(len(doc_distribution)), doc_distribution)\n",
        "ax.set_xlabel('Topic ID', fontsize=15)\n",
        "ax.set_ylabel('Topic Contribution', fontsize=15)\n",
        "ax.set_title(\"Topic Distribution for Article \" + str(random_article_index), fontsize=20)\n",
        "ax.set_xticks(np.linspace(10,100,10))\n",
        "fig.tight_layout()\n",
        "plt.savefig(\"/content/drive/My Drive/MLAI_Datasets/Document similarity research/seen.png\")"
      ],
      "execution_count": 0,
      "outputs": [
        {
          "output_type": "display_data",
          "data": {
            "image/png": "[encoded data removed]",
            "text/plain": [
              "<Figure size 864x432 with 1 Axes>"
            ]
          },
          "metadata": {
            "tags": []
          }
        }
      ]
    },
    {
      "cell_type": "code",
      "metadata": {
        "id": "WOlSic6a2r9g",
        "colab_type": "code",
        "outputId": "b00fe576-113c-4439-d88a-22d166dae194",
        "colab": {
          "base_uri": "https://localhost:8080/",
          "height": 122
        }
      },
      "source": [
        "# print the top 5 contributing topics and their words\n",
        "for i in doc_distribution.argsort()[-5:][::-1]:\n",
        "    print(i, lda.show_topic(topicid=i, topn=10), \"\\n\")"
      ],
      "execution_count": 0,
      "outputs": [
        {
          "output_type": "stream",
          "text": [
            "(16, [(u'like', 0.016165443), (u'just', 0.015702471), (u'get', 0.01131482), (u'now', 0.0102346605), (u'one', 0.0096493475), (u'peopl', 0.009443871), (u'thing', 0.00832631), (u'watch', 0.008116787), (u'got', 0.0074431235), (u'even', 0.0074233115)], '\\n')\n",
            "(32, [(u'world', 0.026131548), (u'global', 0.01348267), (u'control', 0.012621056), (u'elit', 0.012251966), (u'human', 0.011935216), (u'will', 0.011487786), (u'mani', 0.008481873), (u'peopl', 0.00832548), (u'can', 0.008237773), (u'truth', 0.008063667)], '\\n')\n",
            "(61, [(u'trump', 0.21124241), (u'donald', 0.050858647), (u'elect', 0.01954465), (u'presid', 0.016511153), (u'will', 0.016502175), (u'support', 0.013287626), (u'said', 0.010646141), (u'campaign', 0.009928563), (u'republican', 0.0094451895), (u'say', 0.008032631)], '\\n')\n",
            "(49, [(u'clinton', 0.033717375), (u'hillari', 0.02742839), (u'presid', 0.013340732), (u'parti', 0.011836389), (u'democrat', 0.011687058), (u'polit', 0.011430869), (u'elect', 0.010584089), (u'candid', 0.008637876), (u'will', 0.008459954), (u'support', 0.008336099)], '\\n')\n",
            "(97, [(u'book', 0.080935985), (u'univers', 0.02464951), (u'professor', 0.020808907), (u'theori', 0.02037852), (u'peter', 0.018087402), (u'africa', 0.017361704), (u'western', 0.01635713), (u'histori', 0.014837917), (u'academ', 0.014762517), (u'south', 0.014078137)], '\\n')\n"
          ],
          "name": "stdout"
        }
      ]
    },
    {
      "cell_type": "code",
      "metadata": {
        "id": "aFqXnJAD2r9h",
        "colab_type": "code",
        "outputId": "baf21305-eeb4-4a6c-ea6a-7c3d3660af94",
        "colab": {
          "base_uri": "https://localhost:8080/",
          "height": 34
        }
      },
      "source": [
        "# select and article at random from test_df\n",
        "random_article_index = np.random.randint(len(test_df))\n",
        "print(random_article_index)\n",
        "#random_article_index = 11"
      ],
      "execution_count": 0,
      "outputs": [
        {
          "output_type": "stream",
          "text": [
            "5\n"
          ],
          "name": "stdout"
        }
      ]
    },
    {
      "cell_type": "code",
      "metadata": {
        "id": "cDv6nja72r9k",
        "colab_type": "code",
        "colab": {}
      },
      "source": [
        "new_bow = dictionary.doc2bow(test_df.iloc[random_article_index,7])"
      ],
      "execution_count": 0,
      "outputs": []
    },
    {
      "cell_type": "code",
      "metadata": {
        "id": "wUM9AirA2r9l",
        "colab_type": "code",
        "outputId": "d153adcf-b79d-420e-a307-28763c2fda82",
        "colab": {
          "base_uri": "https://localhost:8080/",
          "height": 479
        }
      },
      "source": [
        "print(test_df.iloc[random_article_index,3])"
      ],
      "execution_count": 0,
      "outputs": [
        {
          "output_type": "stream",
          "text": [
            " Why Trump Won and Why Clinton Lost\n",
            "Hillary Clintons stunning defeat reflected a gross misjudgment by the Democratic Party about the depth of populist anger against self-serving elites who have treated much of the country with disdain\n",
            "By Robert Parry November 10, 2016 \" Information Clearing House \" - \" Consortium News \" - In the end, Hillary Clinton became the face of a corrupt, arrogant and out-of-touch Establishment, while Donald Trump emerged as an almost perfectly imperfect vessel for a populist fury that had bubbled beneath the surface of America.\n",
            "There is clearly much to fear from a Trump presidency, especially coupled with continued Republican control of Congress. Trump and many Republicans have denied the reality of climate change; they favor more tax cuts for the rich; they want to deregulate Wall Street and other powerful industries  all policies that helped create the current mess that the United States and much of the world are now in.\n",
            "Further, Trumps personality is problematic to say the least. He lacks the knowledge and the temperament that one would like to see in a President  or even in a much less powerful public official. He appealed to racism, misogyny, white supremacy, bigotry toward immigrants and prejudice toward Muslims. He favors torture and wants a giant wall built across Americas southern border.\n",
            "But American voters chose him in part because they felt they needed a blunt instrument to smash the Establishment that has ruled and mis-ruled America for at least the past several decades. It is an Establishment that not only has grabbed for itself almost all the new wealth that the country has produced but has casually sent the U.S. military into wars of choice, as if the lives of working-class soldiers are of little value.\n",
            "On foreign policy, the Establishment had turned decision-making over to the neoconservatives and their liberal-interventionist sidekicks, a collection of haughty elitists who often subordinated American interests to those of Israel and Saudi Arabia, for political or financial advantage. The war choices of the neocon/liberal-hawk coalition have been disastrous  from Iraq to Afghanistan to Libya to Syria to Ukraine  yet this collection of know-it-alls never experiences accountability. The same people, including the medias armchair warriors and the think-tank scholars, bounce from one catastrophe to the next with no consequences for their fallacious group thinks. Most recently, they have ginned up a new costly and dangerous Cold War with Russia.\n",
            "For all his faults, Trump was one of the few major public figures who dared challenge the group thinks on the current hot spots of Syria and Russia. In response, Clinton and many Democrats chose to engage in a crude McCarthyism with Clinton even baiting Trump as Vladimir Putins puppet during the final presidential debate.\n",
            "It is somewhat remarkable that those tactics failed; that Trump talked about cooperation with Russia, rather than confrontation, and won. Trumps victory could mean that rather than escalating the New Cold War with Russia, there is the possibility of a ratcheting down of tensions.\n",
            "Repudiating the Neocons\n",
            "Thus, Trumps victory marks a repudiation of the neocon/liberal-hawk orthodoxy because the New Cold War was largely incubated in neocon/liberal-hawk think tanks, brought to life by likeminded officials in the U.S. State Department, and nourished by propaganda across the mainstream Western media.\n",
            "It was the West, not Russia, that provoked the confrontation over Ukraine by helping to install a fiercely anti-Russian regime on Russias borders. I know the mainstream Western media framed the story as Russian aggression but that was always a gross distortion.\n",
            "There were peaceful ways for settling the internal differences inside Ukraine without violating the democratic process, but U.S. neocons, such as Assistant Secretary of State Victoria Nuland, and wealthy neoliberals, such as financial speculator George Soros, pushed for a putsch that overthrew the elected President Viktor Yanukovych in February 2014.\n",
            "Putins response, including his acceptance of Crimeas overwhelming referendum to return to Russia and his support for ethnic Russian rebels in eastern Ukraine opposing the coup regime in Kiev, was a reaction to the Wests destabilizing and violent actions. Putin was not the instigator of the troubles.\n",
            "Similarly, in Syria, the Wests regime change strategy, which dates back to neocon planning in the mid-1990s, involved collaboration with Al Qaeda and other Islamic jihadists to remove the secular government of Bashar al-Assad. Again, Official Washington and the mainstream media portrayed the conflict as all Assads fault, but that wasnt the full picture.\n",
            "From the start of the Syrian conflict in 2011, U.S. allies, including Saudi Arabia, Qatar, Turkey and Israel, have been aiding the rebellion, with Turkey and the Gulf states funneling money and weapons to Al Qaedas Nusra Front and even to the Al Qaeda spinoff, Islamic State.\n",
            "Though President Barack Obama dragged his heels on the direct intervention advocated by then-Secretary of State Hillary Clinton, Obama eventually went in halfway, bending to political pressure by agreeing to train and arm so-called moderates who ended up fighting next to Al Qaedas Nusra Front and other jihadists in Ahrar al-Sham.\n",
            "Trump has been inarticulate and imprecise in describing what policies he would follow in Syria, besides suggesting that he would cooperate with the Russians in destroying Islamic State. But Trump didnt seem to understand the role of Al Qaeda in controlling east Aleppo and other Syrian territory.\n",
            "Uncharted Territory\n",
            "So, the American voters have plunged the United States and the world into uncharted territory behind a President-elect who lacks a depth of knowledge on a wide variety of issues. Who will guide a President Trump becomes the most pressing issue today.\n",
            "Will he rely on traditional Republicans who have done so much to mess up the country and the world or will he find some fresh-thinking realists who will realign policy with core American interests and values.\n",
            "For this dangerous and uncertain moment, the Democratic Party establishment deserves a large share of the blame. Despite signs that 2016 would be a year for an anti-Establishment candidate  possibly someone like Sen. Elizabeth Warren or Sen. Bernie Sanders  the Democratic leadership decided that it was Hillarys turn.\n",
            "Alternatives like Warren were discouraged from running so there could be a Clinton coronation. That left the 74-year-old socialist from Vermont as the only obstacle to Clintons nomination and it turned out that Sanders was a formidable challenger. But his candidacy was ultimately blocked by Democratic insiders, including the unelected super-delegates who gave Clinton an early and seemingly insurmountable lead.\n",
            "With blinders firmly in place, the Democrats yoked themselves to Clintons gilded carriage and tried to pull it all the way to the White House. But they ignored the fact that many Americans came to see Clinton as the personification of all that is wrong about the insular and corrupt world of Official Washington. And that has given us President-elect Trump.\n",
            "Investigative reporter Robert Parry broke many of the Iran-Contra stories for The Associated Press and Newsweek in the 1980s. You can buy his latest book, Americas Stolen Narrative, either in print here or as an e-book (from Amazon and barnesandnoble.com .\n",
            "Š 2016 Consortium News\n"
          ],
          "name": "stdout"
        }
      ]
    },
    {
      "cell_type": "code",
      "metadata": {
        "id": "uRjaDisR2r9m",
        "colab_type": "code",
        "colab": {}
      },
      "source": [
        "new_doc_distribution = np.array([tup[1] for tup in lda.get_document_topics(bow=new_bow)])\n",
        "#new_doc_distribution = doc_topic_dist[1271]"
      ],
      "execution_count": 0,
      "outputs": []
    },
    {
      "cell_type": "code",
      "metadata": {
        "id": "Tq6BFCFj2r9o",
        "colab_type": "code",
        "outputId": "07a48848-25af-405c-efb3-c33224bd6886",
        "colab": {
          "base_uri": "https://localhost:8080/",
          "height": 441
        }
      },
      "source": [
        "#Let's do the same visual analysis as before on this new unseen document\n",
        "\n",
        "# bar plot of topic distribution for this document\n",
        "fig, ax = plt.subplots(figsize=(12,6));\n",
        "# the histogram of the data\n",
        "patches = ax.bar(np.arange(len(new_doc_distribution)), new_doc_distribution)\n",
        "ax.set_xlabel('Topic ID', fontsize=15)\n",
        "ax.set_ylabel('Topic Contribution', fontsize=15)\n",
        "ax.set_title(\"Topic Distribution for an Unseen Article\", fontsize=20)\n",
        "ax.set_xticks(np.linspace(10,100,10))\n",
        "fig.tight_layout()\n",
        "plt.savefig(\"/content/drive/My Drive/MLAI_Datasets/Document similarity research/unseen.png\")"
      ],
      "execution_count": 0,
      "outputs": [
        {
          "output_type": "display_data",
          "data": {
            "image/png": "[encoded data removed]",
            "text/plain": [
              "<Figure size 864x432 with 1 Axes>"
            ]
          },
          "metadata": {
            "tags": []
          }
        }
      ]
    },
    {
      "cell_type": "code",
      "metadata": {
        "id": "vryz61Lf2r9p",
        "colab_type": "code",
        "outputId": "3d47f7a2-e936-4efb-b183-ba805937c49f",
        "colab": {
          "base_uri": "https://localhost:8080/",
          "height": 122
        }
      },
      "source": [
        "# print the top 8 contributing topics and their words\n",
        "for i in new_doc_distribution.argsort()[-5:][::-1]:\n",
        "    print(i, lda.show_topic(topicid=i, topn=10), \"\\n\")"
      ],
      "execution_count": 0,
      "outputs": [
        {
          "output_type": "stream",
          "text": [
            "(22, [(u'american', 0.033601776), (u'media', 0.023656972), (u'us', 0.018884545), (u'america', 0.01151536), (u'hillari', 0.009789413), (u'bush', 0.009542136), (u'washington', 0.008221529), (u'establish', 0.007914701), (u'corrupt', 0.007843035), (u'power', 0.0075757606)], '\\n')\n",
            "(2, [(u'polici', 0.011631197), (u'econom', 0.010741309), (u'polit', 0.010288197), (u'corpor', 0.008094699), (u'system', 0.006501416), (u'class', 0.005567315), (u'will', 0.005436389), (u'new', 0.00542367), (u'futur', 0.005022085), (u'progress', 0.0050134785)], '\\n')\n",
            "(55, [(u'syria', 0.06386071), (u'war', 0.048238806), (u'us', 0.037741724), (u'russia', 0.026324186), (u'state', 0.018404432), (u'zone', 0.016777648), (u'militari', 0.015633907), (u'assad', 0.015252479), (u'syrian', 0.015046479), (u'polici', 0.01399969)], '\\n')\n",
            "(49, [(u'clinton', 0.033717375), (u'hillari', 0.02742839), (u'presid', 0.013340732), (u'parti', 0.011836389), (u'democrat', 0.011687058), (u'polit', 0.011430869), (u'elect', 0.010584089), (u'candid', 0.008637876), (u'will', 0.008459954), (u'support', 0.008336099)], '\\n')\n",
            "(61, [(u'trump', 0.21124241), (u'donald', 0.050858647), (u'elect', 0.01954465), (u'presid', 0.016511153), (u'will', 0.016502175), (u'support', 0.013287626), (u'said', 0.010646141), (u'campaign', 0.009928563), (u'republican', 0.0094451895), (u'say', 0.008032631)], '\\n')\n"
          ],
          "name": "stdout"
        }
      ]
    },
    {
      "cell_type": "code",
      "metadata": {
        "id": "jOTfLCmD2r9s",
        "colab_type": "code",
        "outputId": "e15810dd-6094-4beb-86f2-c3e256ba303f",
        "colab": {
          "base_uri": "https://localhost:8080/",
          "height": 34
        }
      },
      "source": [
        "# we need to use nested list comprehension here\n",
        "# this may take 1-2 minutes...\n",
        "doc_topic_dist = np.array([[tup[1] for tup in lst] for lst in lda[corpus]])\n",
        "doc_topic_dist.shape"
      ],
      "execution_count": 0,
      "outputs": [
        {
          "output_type": "execute_result",
          "data": {
            "text/plain": [
              "(10822, 100)"
            ]
          },
          "metadata": {
            "tags": []
          },
          "execution_count": 33
        }
      ]
    },
    {
      "cell_type": "code",
      "metadata": {
        "id": "RVwLBIAE2r9w",
        "colab_type": "code",
        "colab": {}
      },
      "source": [
        "topics = lda.print_topics(num_topics=100, num_words=10)"
      ],
      "execution_count": 0,
      "outputs": []
    },
    {
      "cell_type": "code",
      "metadata": {
        "id": "e32Pv-yX2r90",
        "colab_type": "code",
        "colab": {}
      },
      "source": [
        "M = []\n",
        "for i in topics:\n",
        "    tops = i[1].split('+')\n",
        "    M.append([(float(j.split('*')[0]), j.split('*')[1].strip().strip('\"')) for j in tops])"
      ],
      "execution_count": 0,
      "outputs": []
    },
    {
      "cell_type": "code",
      "metadata": {
        "id": "gdn8Uu9L2r92",
        "colab_type": "code",
        "colab": {}
      },
      "source": [
        "unique_words = set()\n",
        "for i in M:\n",
        "    for prob, word in i:\n",
        "        unique_words.add(word)\n",
        "unique_words = list(unique_words)"
      ],
      "execution_count": 0,
      "outputs": []
    },
    {
      "cell_type": "code",
      "metadata": {
        "id": "Y4yYBzkD2r93",
        "colab_type": "code",
        "colab": {}
      },
      "source": [
        "topic_matrix = np.zeros((len(M), len(unique_words)), dtype=np.float64)"
      ],
      "execution_count": 0,
      "outputs": []
    },
    {
      "cell_type": "code",
      "metadata": {
        "id": "eac_Xa5v2r94",
        "colab_type": "code",
        "colab": {}
      },
      "source": [
        "for ind, i in enumerate(M):\n",
        "    for prob, word in i:\n",
        "        topic_matrix[ind, unique_words.index(word)] = prob"
      ],
      "execution_count": 0,
      "outputs": []
    },
    {
      "cell_type": "code",
      "metadata": {
        "id": "W5oObVlo2r97",
        "colab_type": "code",
        "colab": {}
      },
      "source": [
        "#Word2vec for given docs\n",
        "w2v_model = Word2Vec(sentences=df.tokenized, workers=4, size=100)"
      ],
      "execution_count": 0,
      "outputs": []
    },
    {
      "cell_type": "code",
      "metadata": {
        "id": "3-RSYxgJ2r9-",
        "colab_type": "code",
        "colab": {}
      },
      "source": [
        "word_sim_matrix = np.zeros((len(unique_words), len(unique_words)), dtype=np.float64)"
      ],
      "execution_count": 0,
      "outputs": []
    },
    {
      "cell_type": "code",
      "metadata": {
        "scrolled": true,
        "id": "VW-Oh-_E2r-C",
        "colab_type": "code",
        "colab": {}
      },
      "source": [
        "%%time\n",
        "metric_space = np.zeros((len(M), len(M)), dtype=np.float64)\n",
        "for i in xrange(len(M)):\n",
        "    for j in xrange(len(M)):\n",
        "        metric_space[i, j] = emd(topic_matrix[i], topic_matrix[j], word_sim_matrix)"
      ],
      "execution_count": 0,
      "outputs": []
    },
    {
      "cell_type": "code",
      "metadata": {
        "id": "NrqPCsu12r-D",
        "colab_type": "code",
        "colab": {}
      },
      "source": [
        "for i in xrange(len(unique_words)):\n",
        "    for j in xrange(len(unique_words)):\n",
        "        word_sim_matrix[i, j] = cosine(w2v_model[unique_words[i]], w2v_model[unique_words[j]])     "
      ],
      "execution_count": 0,
      "outputs": []
    },
    {
      "cell_type": "code",
      "metadata": {
        "id": "wQ8f8MWB2r-G",
        "colab_type": "code",
        "colab": {}
      },
      "source": [
        "metric_space.shape"
      ],
      "execution_count": 0,
      "outputs": []
    },
    {
      "cell_type": "code",
      "metadata": {
        "id": "kaQTlvva2r-I",
        "colab_type": "code",
        "colab": {}
      },
      "source": [
        "def jensen_shannon(query, matrix):\n",
        "    p = query[None,:].T \n",
        "    q = matrix.T \n",
        "    m = 0.5*(p + q)\n",
        "    return np.sqrt(0.5*(entropy(p,m) + entropy(q,m)))\n",
        "\n",
        "def emd_query(query, matrix):\n",
        "    return np.array([emd(query, lst, metric_space) for lst in matrix])"
      ],
      "execution_count": 0,
      "outputs": []
    },
    {
      "cell_type": "code",
      "metadata": {
        "id": "ohF0GB2O2r-J",
        "colab_type": "code",
        "colab": {}
      },
      "source": [
        "def get_most_similar_documents(query,matrix,k=10):\n",
        "    sims = jensen_shannon(query,matrix) # list of jensen shannon distances\n",
        "    #matrix = matrix.astype(np.float64)\n",
        "    #query = query.astype(np.float64)\n",
        "    #sims = emd_query(query, matrix)\n",
        "    print sims.argsort()[:k]\n",
        "    return sims.argsort()[:k] # the top k positional index of the smallest Jensen Shannon distances"
      ],
      "execution_count": 0,
      "outputs": []
    },
    {
      "cell_type": "code",
      "metadata": {
        "id": "Qa0QR78U2r-K",
        "colab_type": "code",
        "colab": {}
      },
      "source": [
        "# this is surprisingly fast\n",
        "most_sim_ids = get_most_similar_documents(doc_distribution,doc_topic_dist)\n",
        "most_sim_ids\n",
        "print train_df.loc[1058, \"text\"]"
      ],
      "execution_count": 0,
      "outputs": []
    },
    {
      "cell_type": "code",
      "metadata": {
        "id": "BXcKiRJ12r-O",
        "colab_type": "code",
        "colab": {}
      },
      "source": [
        "similar_bow = dictionary.doc2bow(train_df.iloc[1058,7])\n",
        "similar_distribution = np.array([tup[1] for tup in lda.get_document_topics(bow=similar_bow)])\n",
        "fig, ax = plt.subplots(figsize=(12,6));\n",
        "# the histogram of the data\n",
        "patches = ax.bar(np.arange(len(similar_distribution)), similar_distribution)\n",
        "ax.set_xlabel('Topic ID', fontsize=15)\n",
        "ax.set_ylabel('Topic Contribution', fontsize=15)\n",
        "ax.set_title(\"Topic Distribution for Similar Article (with Jenson Shannon)\", fontsize=20)\n",
        "ax.set_xticks(np.linspace(10,100,10))\n",
        "fig.tight_layout()\n",
        "#plt.show()\n",
        "plt.savefig(\"/Users/ankushbhatia/personal/seen_similar2.png\")"
      ],
      "execution_count": 0,
      "outputs": []
    },
    {
      "cell_type": "code",
      "metadata": {
        "id": "DkqeLw622r-S",
        "colab_type": "code",
        "colab": {}
      },
      "source": [
        "most_similar_df = train_df[train_df.index.isin(most_sim_ids)]\n",
        "for title in most_similar_df.text.tolist():\n",
        "    print title\n",
        "    print \"#\"*100"
      ],
      "execution_count": 0,
      "outputs": []
    },
    {
      "cell_type": "code",
      "metadata": {
        "id": "kVTnmslL2r-W",
        "colab_type": "code",
        "colab": {}
      },
      "source": [
        "fig, ax = plt.subplots(figsize=(12,6));\n",
        "patches = ax.bar(np.arange(len(new_doc_distribution)), doc_topic_dist[289])\n",
        "ax.set_xlabel('Topic ID', fontsize=15)\n",
        "ax.set_ylabel('Topic Contribution', fontsize=15)\n",
        "ax.set_title(\"Topic Distribution for an Unseen Article\", fontsize=20)\n",
        "ax.set_xticks(np.linspace(10,100,10))\n",
        "fig.tight_layout()\n",
        "plt.show()"
      ],
      "execution_count": 0,
      "outputs": []
    },
    {
      "cell_type": "code",
      "metadata": {
        "id": "OxzACArZ2r-Z",
        "colab_type": "code",
        "colab": {}
      },
      "source": [
        ""
      ],
      "execution_count": 0,
      "outputs": []
    },
    {
      "cell_type": "markdown",
      "metadata": {
        "id": "87pCrpBK2r-b",
        "colab_type": "text"
      },
      "source": [
        "# DOC2VEC Training"
      ]
    },
    {
      "cell_type": "code",
      "metadata": {
        "id": "uIVwVhC42r-c",
        "colab_type": "code",
        "colab": {}
      },
      "source": [
        "from gensim.models import doc2vec\n",
        "from collections import namedtuple"
      ],
      "execution_count": 0,
      "outputs": []
    },
    {
      "cell_type": "code",
      "metadata": {
        "id": "6jNMR6VH2r-d",
        "colab_type": "code",
        "colab": {}
      },
      "source": [
        "tagged_docs = []\n",
        "analyzedDocument = namedtuple('AnalyzedDocument', 'words tags')"
      ],
      "execution_count": 0,
      "outputs": []
    },
    {
      "cell_type": "code",
      "metadata": {
        "id": "K1wqwk7X2r-e",
        "colab_type": "code",
        "colab": {}
      },
      "source": [
        "for ind, tokens in enumerate(train_df['tokenized'].tolist()):\n",
        "    tags = [ind]\n",
        "    tagged_docs.append(analyzedDocument(tokens, tags))"
      ],
      "execution_count": 0,
      "outputs": []
    },
    {
      "cell_type": "code",
      "metadata": {
        "id": "XN8y7RLc2r-g",
        "colab_type": "code",
        "colab": {}
      },
      "source": [
        "%%time\n",
        "model = doc2vec.Doc2Vec(tagged_docs, size = 100, window = 300, workers = 4)"
      ],
      "execution_count": 0,
      "outputs": []
    },
    {
      "cell_type": "code",
      "metadata": {
        "id": "hUmppDTV2r-h",
        "colab_type": "code",
        "colab": {}
      },
      "source": [
        "model.docvecs.most_similar(8127)"
      ],
      "execution_count": 0,
      "outputs": []
    },
    {
      "cell_type": "code",
      "metadata": {
        "id": "LeGGi5XL2r-i",
        "colab_type": "code",
        "colab": {}
      },
      "source": [
        "print train_df.iloc[6434, 3]"
      ],
      "execution_count": 0,
      "outputs": []
    },
    {
      "cell_type": "code",
      "metadata": {
        "id": "pPLpha762r-j",
        "colab_type": "code",
        "colab": {}
      },
      "source": [
        "df['new_check'] = df.uuid.copy()"
      ],
      "execution_count": 0,
      "outputs": []
    },
    {
      "cell_type": "code",
      "metadata": {
        "id": "AWEMtwjQ2r-m",
        "colab_type": "code",
        "colab": {}
      },
      "source": [
        "train_df.index"
      ],
      "execution_count": 0,
      "outputs": []
    },
    {
      "cell_type": "code",
      "metadata": {
        "id": "ShOTpFVd2r-o",
        "colab_type": "code",
        "colab": {}
      },
      "source": [
        ""
      ],
      "execution_count": 0,
      "outputs": []
    }
  ]
}