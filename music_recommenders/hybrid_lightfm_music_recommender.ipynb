{
  "nbformat": 4,
  "nbformat_minor": 0,
  "metadata": {
    "colab": {
      "name": "hybrid_lightfm_music_recommender.ipynb",
      "version": "0.3.2",
      "provenance": [],
      "include_colab_link": true
    },
    "kernelspec": {
      "name": "python3",
      "display_name": "Python 3"
    },
    "accelerator": "GPU"
  },
  "cells": [
    {
      "cell_type": "markdown",
      "metadata": {
        "id": "view-in-github",
        "colab_type": "text"
      },
      "source": [
        "<a href=\"https://colab.research.google.com/github/navneetkrc/Recommender_systems/blob/master/music_recommenders/hybrid_lightfm_music_recommender.ipynb\" target=\"_parent\"><img src=\"https://colab.research.google.com/assets/colab-badge.svg\" alt=\"Open In Colab\"/></a>"
      ]
    },
    {
      "cell_type": "markdown",
      "metadata": {
        "id": "gCJ-oXobaJIJ",
        "colab_type": "text"
      },
      "source": [
        "##Import dependencies"
      ]
    },
    {
      "cell_type": "code",
      "metadata": {
        "id": "KnijIwJ-aH26",
        "colab_type": "code",
        "colab": {}
      },
      "source": [
        "import numpy as np\n",
        "import pandas as pd\n",
        "import seaborn as sns\n",
        "from scipy import sparse as sp\n",
        "from sklearn.metrics import pairwise as pw\n"
      ],
      "execution_count": 0,
      "outputs": []
    },
    {
      "cell_type": "code",
      "metadata": {
        "id": "6ruVAIm_ac--",
        "colab_type": "code",
        "outputId": "f9996449-2b85-4a8f-a743-404b05782f0a",
        "colab": {
          "base_uri": "https://localhost:8080/",
          "height": 153
        }
      },
      "source": [
        "!pip install lightfm\n",
        "\n",
        "from lightfm import LightFM\n",
        "from lightfm.evaluation import precision_at_k, recall_at_k, auc_score, reciprocal_rank"
      ],
      "execution_count": 0,
      "outputs": [
        {
          "output_type": "stream",
          "text": [
            "Requirement already satisfied: lightfm in /usr/local/lib/python3.6/dist-packages (1.15)\n",
            "Requirement already satisfied: numpy in /usr/local/lib/python3.6/dist-packages (from lightfm) (1.16.4)\n",
            "Requirement already satisfied: requests in /usr/local/lib/python3.6/dist-packages (from lightfm) (2.21.0)\n",
            "Requirement already satisfied: scipy>=0.17.0 in /usr/local/lib/python3.6/dist-packages (from lightfm) (1.3.1)\n",
            "Requirement already satisfied: urllib3<1.25,>=1.21.1 in /usr/local/lib/python3.6/dist-packages (from requests->lightfm) (1.24.3)\n",
            "Requirement already satisfied: chardet<3.1.0,>=3.0.2 in /usr/local/lib/python3.6/dist-packages (from requests->lightfm) (3.0.4)\n",
            "Requirement already satisfied: certifi>=2017.4.17 in /usr/local/lib/python3.6/dist-packages (from requests->lightfm) (2019.6.16)\n",
            "Requirement already satisfied: idna<2.9,>=2.5 in /usr/local/lib/python3.6/dist-packages (from requests->lightfm) (2.8)\n"
          ],
          "name": "stdout"
        }
      ]
    },
    {
      "cell_type": "code",
      "metadata": {
        "id": "5RvsA-xTamHz",
        "colab_type": "code",
        "colab": {}
      },
      "source": [
        "sns.set()\n",
        "pd.set_option('display.max_columns', None)\n",
        "#pd.set_option('display.max_rows', None)"
      ],
      "execution_count": 0,
      "outputs": []
    },
    {
      "cell_type": "code",
      "metadata": {
        "id": "y08H3JZ_apFf",
        "colab_type": "code",
        "colab": {}
      },
      "source": [
        "\"\"\"Recommendation Class for popularity based model\"\"\"\n",
        "\n",
        "#Class for Popularity based Recommender System model\n",
        "class popularity_recommender():\n",
        "    def __init__(self):\n",
        "        self.train_data = None\n",
        "        self.user_id = None\n",
        "        self.item_id = None\n",
        "        self.popularity_recommendations = None\n",
        "        \n",
        "    #Create the popularity based recommender system model\n",
        "    def create(self, train_data, user_id, item_id):\n",
        "        self.train_data = train_data\n",
        "        self.user_id = user_id\n",
        "        self.item_id = item_id\n",
        "\n",
        "        #Get a count of user_ids for each unique song as recommendation score\n",
        "        train_data_grouped = train_data.groupby([self.item_id]).agg({self.user_id: 'count'}).reset_index()\n",
        "        train_data_grouped.rename(columns = {'user_id': 'score'},inplace=True)\n",
        "    \n",
        "        #Sort the songs based upon recommendation score\n",
        "        train_data_sort = train_data_grouped.sort_values(['score', self.item_id], ascending = [0,1])\n",
        "    \n",
        "        #Generate a recommendation rank based upon score\n",
        "        train_data_sort['Rank'] = train_data_sort['score'].rank(ascending=0, method='first')\n",
        "        \n",
        "        #Get the top 10 recommendations\n",
        "        self.popularity_recommendations = train_data_sort.head(10)\n",
        "    \n",
        "    #Use the popularity based recommender system model to\n",
        "    #make recommendations\n",
        "    def recommend(self, user_id):    \n",
        "        user_recommendations = self.popularity_recommendations\n",
        "        \n",
        "        #Add user_id column for which the recommendations are being generated\n",
        "        user_recommendations['user_id'] = user_id\n",
        "    \n",
        "        #Bring user_id column to the front\n",
        "        cols = user_recommendations.columns.tolist()\n",
        "        cols = cols[-1:] + cols[:-1]\n",
        "        user_recommendations = user_recommendations[cols]\n",
        "        \n",
        "        return user_recommendations\n"
      ],
      "execution_count": 0,
      "outputs": []
    },
    {
      "cell_type": "code",
      "metadata": {
        "id": "gHaevGeoaxvZ",
        "colab_type": "code",
        "colab": {}
      },
      "source": [
        "\n",
        "   "
      ],
      "execution_count": 0,
      "outputs": []
    },
    {
      "cell_type": "code",
      "metadata": {
        "id": "flOki0lXazAW",
        "colab_type": "code",
        "colab": {}
      },
      "source": [
        "\"\"\"Define some useful functions for personalized hybrid recommendation model\"\"\"\n",
        "\n",
        "#Function to create a user dictionary based on their index and number in interaction dataset\n",
        "def create_user_dict(interactions):\n",
        "  user_id = list(interactions.index)\n",
        "  user_dict = {}\n",
        "  counter = 0 \n",
        "  \n",
        "  for i in user_id:\n",
        "    user_dict[i] = counter\n",
        "    counter += 1\n",
        "    \n",
        "  new_dict = dict([(value, key) for key, value in user_dict.items()])\n",
        "    \n",
        "  return new_dict\n",
        "  \n",
        "#Function to create an item dictionary based on their item_id and item name  \n",
        "def create_item_dict(df, id_col, name_col):\n",
        "  item_dict ={}\n",
        "    \n",
        "  for i in range(df.shape[0]):\n",
        "    item_dict[(df.loc[i, id_col])] = df.loc[i, name_col]\n",
        "        \n",
        "  return item_dict\n",
        "\n",
        "#Function to produce user recommendations\n",
        "def sample_recommendation_user(model, interactions, user_id, user_dict, \n",
        "                               item_dict, threshold = 0, nrec_items = 10, show = True):\n",
        "    n_users, n_items = interactions.shape\n",
        "    user_x = user_dict[user_id]\n",
        "    scores = pd.Series(model.predict(user_x, np.arange(n_items)))\n",
        "    scores.index = interactions.columns\n",
        "    scores = list(pd.Series(scores.sort_values(ascending=False).index))\n",
        "    \n",
        "    known_items = list(pd.Series(interactions.loc[user_id, :] \\\n",
        "                                 [interactions.loc[user_id, :] > threshold].index) \\\n",
        "\t\t\t\t\t\t\t\t .sort_values(ascending=False))\n",
        "    \n",
        "    scores = [x for x in scores if x not in known_items]\n",
        "    return_score_list = scores[0: nrec_items]\n",
        "    known_items = list(pd.Series(known_items).apply(lambda x: item_dict[x]))\n",
        "    scores = list(pd.Series(return_score_list).apply(lambda x: item_dict[x]))\n",
        "    \n",
        "    if show == True:\n",
        "        print(\"Recommended songs for UserID:\", user_id)\n",
        "        counter = 1\n",
        "        for i in scores:\n",
        "            print(str(counter) + '- ' + i)\n",
        "            counter+=1\n",
        "            \n",
        "    return return_score_list\n"
      ],
      "execution_count": 0,
      "outputs": []
    },
    {
      "cell_type": "code",
      "metadata": {
        "id": "3y0p0Cmqa8ue",
        "colab_type": "code",
        "colab": {}
      },
      "source": [
        "#Function to create item-item distance embedding matrix\n",
        "def create_item_emdedding_distance_matrix(model, interactions):\n",
        "    \n",
        "    df_item_norm_sparse = sp.csr_matrix(model.item_embeddings)\n",
        "    similarities = pw.cosine_similarity(df_item_norm_sparse)\n",
        "    item_emdedding_distance_matrix = pd.DataFrame(similarities)\n",
        "    item_emdedding_distance_matrix.columns = interactions.columns\n",
        "    item_emdedding_distance_matrix.index = interactions.columns\n",
        "    \n",
        "    return item_emdedding_distance_matrix\n",
        "\n",
        "#Function to create item-item recommendation\n",
        "def item_item_recommendation(item_emdedding_distance_matrix, item_id, item_dict, n_items = 10, show = True):\n",
        "    \n",
        "    recommended_items = list(pd.Series(item_emdedding_distance_matrix.loc[item_id,:]. \\\n",
        "                                  sort_values(ascending = False).head(n_items+1). \\\n",
        "                                  index[1:n_items+1]))\n",
        "    \n",
        "    if show == True:\n",
        "        print(\"Song of interest: {0}\".format(item_dict[item_id]))\n",
        "        print(\"Song(s) similar to the above item are as follows:-\")\n",
        "        counter = 1\n",
        "        \n",
        "        for i in recommended_items:\n",
        "            print(str(counter) + '. ' +  item_dict[i])\n",
        "            counter+=1\n",
        "            \n",
        "    return recommended_items\n"
      ],
      "execution_count": 0,
      "outputs": []
    },
    {
      "cell_type": "code",
      "metadata": {
        "id": "5WVjpXf1bAIj",
        "colab_type": "code",
        "outputId": "d7ce78fc-60b6-4d2d-e493-07b6c1b7decd",
        "colab": {
          "base_uri": "https://localhost:8080/",
          "height": 1000
        }
      },
      "source": [
        "\n",
        "triplets = 'https://static.turi.com/datasets/millionsong/10000.txt'\n",
        "songsData = 'https://static.turi.com/datasets/millionsong/song_data.csv'\n",
        "\n",
        "rawData1 = pd.read_table(triplets, header=None)\n",
        "rawData1.columns = ['user_id', 'song_id', 'listen_count']\n",
        "rawData2 =  pd.read_csv(songsData)\n",
        "\n",
        "#Create a new copy of the triplets dataset & change user_ids from string format to indexed values for easier computations\n",
        "rawData1_userIndexed = rawData1.copy()\n",
        "rawData1_userIndexed.user_id = rawData1.index + 1\n",
        "\n",
        "#Merge the triplets data (user indexed) with songs data\n",
        "rawData = pd.merge(rawData1_userIndexed, rawData2.drop_duplicates(['song_id']), on=\"song_id\", how=\"left\")\n",
        "\n",
        "#Create a subset of top fifty thousand observations to work with, as the entire dataset is TOO expensive to compute on!!!\n",
        "rawData = rawData.head(50000)\n",
        "\n",
        "print(rawData.head())\n",
        "print('\\n', rawData.tail())\n",
        "print('\\n', rawData.describe(include='all'))"
      ],
      "execution_count": 0,
      "outputs": [
        {
          "output_type": "stream",
          "text": [
            "/usr/local/lib/python3.6/dist-packages/ipykernel_launcher.py:5: FutureWarning: read_table is deprecated, use read_csv instead, passing sep='\\t'.\n",
            "  \"\"\"\n"
          ],
          "name": "stderr"
        },
        {
          "output_type": "stream",
          "text": [
            "   user_id             song_id  listen_count            title  \\\n",
            "0        1  SOAKIMP12A8C130995             1         The Cove   \n",
            "1        2  SOBBMDR12A8C13253B             2  Entre Dos Aguas   \n",
            "2        3  SOBXHDL12A81C204C0             1         Stronger   \n",
            "3        4  SOBYHAJ12A6701BF1D             1   Constellations   \n",
            "4        5  SODACBL12A8C13C273             1     Learn To Fly   \n",
            "\n",
            "                         release    artist_name  year  \n",
            "0             Thicker Than Water   Jack Johnson     0  \n",
            "1            Flamenco Para Niños  Paco De Lucia  1976  \n",
            "2                     Graduation     Kanye West  2007  \n",
            "3              In Between Dreams   Jack Johnson  2005  \n",
            "4  There Is Nothing Left To Lose   Foo Fighters  1999  \n",
            "\n",
            "        user_id             song_id  listen_count  \\\n",
            "49995    49996  SOBRFPG12A8AE4837D             1   \n",
            "49996    49997  SOBSIFR12A6D4F8560             1   \n",
            "49997    49998  SOBVTVL12A8C1422D7             2   \n",
            "49998    49999  SOBXOWJ12A6D4F85BA             1   \n",
            "49999    50000  SOCGYWW12A8C13BB00             1   \n",
            "\n",
            "                                   title                        release  \\\n",
            "49995                El Novio Del Olvido                  Alta Suciedad   \n",
            "49996  Geek In The Pink [Phil Tan Remix]  Geekin' Out Across The Galaxy   \n",
            "49997                            Yo Tomo                    Libertinaje   \n",
            "49998           Wordplay (Album Version)                        Mr. A-Z   \n",
            "49999      I'll Do Anything (LP Version)  Waiting For My Rocket To Come   \n",
            "\n",
            "              artist_name  year  \n",
            "49995     Andres Calamaro  1997  \n",
            "49996          Jason Mraz  2006  \n",
            "49997  Bersuit Vergarabat  1998  \n",
            "49998          Jason Mraz  2005  \n",
            "49999          Jason Mraz  2002  \n",
            "\n",
            "              user_id             song_id  listen_count          title  \\\n",
            "count   50000.000000               50000   50000.00000          50000   \n",
            "unique           NaN                9370           NaN           8976   \n",
            "top              NaN  SOFRQTD12A81C233C0           NaN  Sehr kosmisch   \n",
            "freq             NaN                 204           NaN            204   \n",
            "mean    25000.500000                 NaN       3.02526            NaN   \n",
            "std     14433.901067                 NaN       7.16088            NaN   \n",
            "min         1.000000                 NaN       1.00000            NaN   \n",
            "25%     12500.750000                 NaN       1.00000            NaN   \n",
            "50%     25000.500000                 NaN       1.00000            NaN   \n",
            "75%     37500.250000                 NaN       3.00000            NaN   \n",
            "max     50000.000000                 NaN     796.00000            NaN   \n",
            "\n",
            "              release artist_name          year  \n",
            "count           50000       50000  50000.000000  \n",
            "unique           5108        3215           NaN  \n",
            "top     Greatest Hits    Coldplay           NaN  \n",
            "freq              354         751           NaN  \n",
            "mean              NaN         NaN   1635.559200  \n",
            "std               NaN         NaN    773.351054  \n",
            "min               NaN         NaN      0.000000  \n",
            "25%               NaN         NaN   1985.000000  \n",
            "50%               NaN         NaN   2003.000000  \n",
            "75%               NaN         NaN   2007.000000  \n",
            "max               NaN         NaN   2010.000000  \n"
          ],
          "name": "stdout"
        }
      ]
    },
    {
      "cell_type": "code",
      "metadata": {
        "id": "MyytXnQ1bFMV",
        "colab_type": "code",
        "outputId": "bd3019a1-1eeb-4ab6-f984-78fbe8d9362b",
        "colab": {
          "base_uri": "https://localhost:8080/",
          "height": 699
        }
      },
      "source": [
        "data = rawData.groupby(['title']).agg({'listen_count': 'count'}).reset_index()\n",
        "data['percentage'] = rawData['listen_count'].div(rawData.listen_count.sum())*100\n",
        "print('\\n', data.sort_values(by=['listen_count'], ascending=False).head(10))\n",
        "\n",
        "print(data['listen_count'].hist(bins=80))\n",
        "\n",
        "users = rawData['user_id'].unique()\n"
      ],
      "execution_count": 0,
      "outputs": [
        {
          "output_type": "stream",
          "text": [
            "\n",
            "                                                   title  listen_count  \\\n",
            "6421                                      Sehr kosmisch           204   \n",
            "8186                                               Undo           182   \n",
            "8909                                     You're The One           181   \n",
            "1846                     Dog Days Are Over (Radio Edit)           173   \n",
            "6100                                            Revelry           166   \n",
            "6410                                            Secrets           158   \n",
            "3214  Horn Concerto No. 4 in E flat K495: II. Romanc...           134   \n",
            "2427                                          Fireflies           128   \n",
            "7968                                           Tive Sim           117   \n",
            "3109                                   Hey_ Soul Sister           109   \n",
            "\n",
            "      percentage  \n",
            "6421    0.001983  \n",
            "8186    0.001322  \n",
            "8909    0.000661  \n",
            "1846    0.000661  \n",
            "6100    0.001322  \n",
            "6410    0.000661  \n",
            "3214    0.000661  \n",
            "2427    0.000661  \n",
            "7968    0.001983  \n",
            "3109    0.000661  \n",
            "AxesSubplot(0.125,0.125;0.775x0.755)\n"
          ],
          "name": "stdout"
        },
        {
          "output_type": "display_data",
          "data": {
            "image/png": "[encoded data removed]",
            "text/plain": [
              "<Figure size 432x288 with 1 Axes>"
            ]
          },
          "metadata": {
            "tags": []
          }
        }
      ]
    },
    {
      "cell_type": "code",
      "metadata": {
        "id": "qTCqh6bzbKaM",
        "colab_type": "code",
        "outputId": "a1d63667-1a1a-4679-ce68-bce66d977359",
        "colab": {
          "base_uri": "https://localhost:8080/",
          "height": 221
        }
      },
      "source": [
        "\"\"\"Popularity model\"\"\"\n",
        "\n",
        "popModel = popularity_recommender()\n",
        "popModel.create(rawData, 'user_id', 'title')\n",
        "#popModel.create(trainData, 'user_id', 'artist_name') for popularity based recommendations by artists\n",
        "print('\\n', popModel.recommend(users[342]))\n",
        "\n",
        "\n"
      ],
      "execution_count": 0,
      "outputs": [
        {
          "output_type": "stream",
          "text": [
            "\n",
            "       user_id                                              title  score  Rank\n",
            "6421      343                                      Sehr kosmisch    204   1.0\n",
            "8186      343                                               Undo    182   2.0\n",
            "8909      343                                     You're The One    181   3.0\n",
            "1846      343                     Dog Days Are Over (Radio Edit)    173   4.0\n",
            "6100      343                                            Revelry    166   5.0\n",
            "6410      343                                            Secrets    158   6.0\n",
            "3214      343  Horn Concerto No. 4 in E flat K495: II. Romanc...    134   7.0\n",
            "2427      343                                          Fireflies    128   8.0\n",
            "7968      343                                           Tive Sim    117   9.0\n",
            "3109      343                                   Hey_ Soul Sister    109  10.0\n"
          ],
          "name": "stdout"
        }
      ]
    },
    {
      "cell_type": "code",
      "metadata": {
        "id": "lpZunPuabin9",
        "colab_type": "code",
        "outputId": "5d5521cc-bc91-4048-86df-9e16211f1b12",
        "colab": {
          "base_uri": "https://localhost:8080/",
          "height": 901
        }
      },
      "source": [
        "\"\"\"Create Interaction Matrix\"\"\"\n",
        "\n",
        "#Create pivot table (interaction matrix) from the original dataset\n",
        "x = rawData.pivot_table(index='user_id', columns='song_id', values='listen_count')\n",
        "xNan = x.fillna(0)\n",
        "interaction = sp.csr_matrix(xNan.values)\n",
        "print(interaction)\n",
        "\n",
        "\"\"\"Personlized hybrid model\"\"\"\n",
        "\n",
        "hybridModel = LightFM(loss='warp-kos', n=20, k=20, learning_schedule='adadelta')\n",
        "hybridModel.fit(interaction, epochs=30, num_threads=6)\n"
      ],
      "execution_count": 0,
      "outputs": [
        {
          "output_type": "stream",
          "text": [
            "  (0, 140)\t1.0\n",
            "  (1, 383)\t2.0\n",
            "  (2, 689)\t1.0\n",
            "  (3, 702)\t1.0\n",
            "  (4, 1115)\t1.0\n",
            "  (5, 1161)\t5.0\n",
            "  (6, 1436)\t1.0\n",
            "  (7, 1927)\t1.0\n",
            "  (8, 2075)\t1.0\n",
            "  (9, 2847)\t1.0\n",
            "  (10, 3322)\t1.0\n",
            "  (11, 3326)\t5.0\n",
            "  (12, 3535)\t1.0\n",
            "  (13, 3555)\t1.0\n",
            "  (14, 3960)\t5.0\n",
            "  (15, 4255)\t1.0\n",
            "  (16, 4546)\t6.0\n",
            "  (17, 4617)\t1.0\n",
            "  (18, 4717)\t1.0\n",
            "  (19, 5095)\t1.0\n",
            "  (20, 5347)\t1.0\n",
            "  (21, 5606)\t1.0\n",
            "  (22, 6075)\t1.0\n",
            "  (23, 6088)\t1.0\n",
            "  (24, 6100)\t1.0\n",
            "  :\t:\n",
            "  (49975, 4023)\t50.0\n",
            "  (49976, 4406)\t2.0\n",
            "  (49977, 4484)\t9.0\n",
            "  (49978, 4980)\t5.0\n",
            "  (49979, 5186)\t1.0\n",
            "  (49980, 5297)\t2.0\n",
            "  (49981, 6150)\t6.0\n",
            "  (49982, 6277)\t1.0\n",
            "  (49983, 6790)\t2.0\n",
            "  (49984, 6859)\t1.0\n",
            "  (49985, 7632)\t7.0\n",
            "  (49986, 7682)\t3.0\n",
            "  (49987, 8250)\t6.0\n",
            "  (49988, 8637)\t2.0\n",
            "  (49989, 8936)\t5.0\n",
            "  (49990, 9294)\t5.0\n",
            "  (49991, 104)\t4.0\n",
            "  (49992, 239)\t1.0\n",
            "  (49993, 551)\t1.0\n",
            "  (49994, 564)\t3.0\n",
            "  (49995, 613)\t1.0\n",
            "  (49996, 630)\t1.0\n",
            "  (49997, 676)\t2.0\n",
            "  (49998, 693)\t1.0\n",
            "  (49999, 833)\t1.0\n"
          ],
          "name": "stdout"
        },
        {
          "output_type": "execute_result",
          "data": {
            "text/plain": [
              "<lightfm.lightfm.LightFM at 0x7ff5b823b080>"
            ]
          },
          "metadata": {
            "tags": []
          },
          "execution_count": 11
        }
      ]
    },
    {
      "cell_type": "code",
      "metadata": {
        "id": "cf-Joux-aBGy",
        "colab_type": "code",
        "outputId": "0efbe3b3-c158-44c3-97b6-316947fb50b3",
        "colab": {
          "base_uri": "https://localhost:8080/",
          "height": 598
        }
      },
      "source": [
        "\"\"\"Evaluation of the trained model\"\"\"\n",
        "\n",
        "print('\\nPrecision at K:', precision_at_k(hybridModel, interaction, k=15).mean().round(3)*100)\n",
        "print('Recall at K:', recall_at_k(hybridModel, interaction, k=500).mean().round(3)*100)\n",
        "print('Area under ROC curve:', auc_score(hybridModel, interaction).mean().round(3)*100)\n",
        "print('Reciprocal Rank:', reciprocal_rank(hybridModel, interaction).mean().round(3)*100)\n",
        "\n",
        "\"\"\"Recommendaing songs personally based on the user\"\"\"\n",
        "\n",
        "#Creating user dictionary based on their index and number in the interaction matrix using recsys library\n",
        "userDict = create_user_dict(interactions=x)\n",
        "#print('\\n', userDict)\n",
        "\n",
        "#Creating a song dictionary based on their songID and artist name\n",
        "songDict = create_item_dict(df=rawData, id_col='song_id', name_col='title')\n",
        "#print('\\n', songDict)\n",
        "\n",
        "#Recommend songs using lightfm library\n",
        "print('\\n', sample_recommendation_user(model = hybridModel, interactions = x, user_id = 234, user_dict = userDict, item_dict = songDict, threshold = 5, nrec_items = 10,\n",
        "                                      show = True))\n",
        "\n",
        "#Recommend songs similar to a given songID\n",
        "songItemDist = create_item_emdedding_distance_matrix(model=hybridModel, interactions=x)\n",
        "print('\\n\\n', item_item_recommendation(item_emdedding_distance_matrix = songItemDist, item_id = 'SOSRCCU12A67ADA089',\n",
        "                                    item_dict = songDict, n_items = 10))"
      ],
      "execution_count": 0,
      "outputs": [
        {
          "output_type": "stream",
          "text": [
            "\n",
            "Precision at K: 4.899999871850014\n",
            "Recall at K: 91.8\n",
            "Area under ROC curve: 98.00000190734863\n",
            "Reciprocal Rank: 36.399999260902405\n",
            "Recommended songs for UserID: 234\n",
            "1- Kryptonite\n",
            "2- Cosmic Love\n",
            "3- In My Place\n",
            "4- Twilight Galaxy\n",
            "5- Check On It\n",
            "6- Le Jardin d'Hiver\n",
            "7- The Saltwater Room\n",
            "8- Una Confusion\n",
            "9- Put Your Head On My Shoulder (Album Version)\n",
            "10- Can't Fight This Feeling\n",
            "\n",
            " ['SOLLNTU12A6701CFDC', 'SOXWYZP12AF72A42A6', 'SOMRYYN12A6310F0F3', 'SOHHSYJ12AB017F40A', 'SOKXYUW12A8C140229', 'SOMCMKG12A8C1347BF', 'SOBABSR12A58A7AD93', 'SOWGCMN12A8C136E44', 'SOALPQQ12A6701F302', 'SOICRPT12A8C13190A']\n",
            "Song of interest: Fergalicious\n",
            "Song(s) similar to the above item are as follows:-\n",
            "1. Blue Moon\n",
            "2. One More Chance (Album Version)\n",
            "3. Pearl Vision\n",
            "4. You Make Me Wanna...\n",
            "5. Jungle Gym\n",
            "6. From Left To Right\n",
            "7. Tocame\n",
            "8. Strength Of The World (Album Version)\n",
            "9. So Com Voce\n",
            "10. Chapter Four\n",
            "\n",
            "\n",
            " ['SOMYETD12A6D4F8541', 'SOCELOZ12A58A76797', 'SODYVNX12A8C1444E0', 'SOOVKMQ12AF72A71CC', 'SODOUTP12A6D4F6AA9', 'SOLXTPE12A8C13BCE2', 'SOIPQHC12AB0182F2F', 'SOIQROY12A6701E6D2', 'SOXZKRX12AF729FDCC', 'SOOSVTO12A8C13EF96']\n"
          ],
          "name": "stdout"
        }
      ]
    }
  ]
}