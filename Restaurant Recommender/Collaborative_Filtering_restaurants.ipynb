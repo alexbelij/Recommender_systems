{
  "nbformat": 4,
  "nbformat_minor": 0,
  "metadata": {
    "kernelspec": {
      "name": "python3",
      "display_name": "Python 3"
    },
    "language_info": {
      "codemirror_mode": {
        "name": "ipython",
        "version": 3
      },
      "file_extension": ".py",
      "mimetype": "text/x-python",
      "name": "python",
      "nbconvert_exporter": "python",
      "pygments_lexer": "ipython3",
      "version": "3.6.5"
    },
    "colab": {
      "name": "Collaborative_Filtering_restaurants.ipynb",
      "provenance": [],
      "toc_visible": true,
      "include_colab_link": true
    },
    "accelerator": "GPU"
  },
  "cells": [
    {
      "cell_type": "markdown",
      "metadata": {
        "id": "view-in-github",
        "colab_type": "text"
      },
      "source": [
        "<a href=\"https://colab.research.google.com/github/navneetkrc/Recommender_systems/blob/master/Restaurant%20Recommender/Collaborative_Filtering_restaurants.ipynb\" target=\"_parent\"><img src=\"https://colab.research.google.com/assets/colab-badge.svg\" alt=\"Open In Colab\"/></a>"
      ]
    },
    {
      "cell_type": "markdown",
      "metadata": {
        "id": "QdW9G4YkmX_P",
        "colab_type": "text"
      },
      "source": [
        "# Getting Started\n",
        "In this project, We will analyze datasets containing data on restaurants, consumers and user-item-rating. The goal of this project is to implement Collaborative Filtering i.e., to find similarities between various consumers and recommend restaurants to consumers.\n",
        "\n",
        "The datasets for this project can be found on Kaggle.\n",
        "\n",
        "The following code loads the datasets, along with a few of the necessary Python libraries required for this project."
      ]
    },
    {
      "cell_type": "markdown",
      "metadata": {
        "id": "aAugj2mpr40D",
        "colab_type": "text"
      },
      "source": [
        "Based on [Kundan Desai](https://github.com/kunaldesai97/Restaurant-Data)'s github repo.\n",
        "\n",
        "I have just run on the Google colab to try his approach."
      ]
    },
    {
      "cell_type": "code",
      "metadata": {
        "id": "l9GJ6hYsmX_R",
        "colab_type": "code",
        "colab": {}
      },
      "source": [
        "# Import libraries necessary for this project\n",
        "import pandas as pd\n",
        "import numpy as np\n",
        "import matplotlib.pyplot as plt\n",
        "\n",
        "# Pretty display for notebooks\n",
        "%matplotlib inline"
      ],
      "execution_count": 0,
      "outputs": []
    },
    {
      "cell_type": "code",
      "metadata": {
        "id": "uscP9t9rnt9v",
        "colab_type": "code",
        "colab": {
          "base_uri": "https://localhost:8080/",
          "height": 204
        },
        "outputId": "78b5c288-f276-4b14-e132-e19dd530a020"
      },
      "source": [
        "!wget https://archive.ics.uci.edu/ml/machine-learning-databases/00232/RCdata.zip"
      ],
      "execution_count": 35,
      "outputs": [
        {
          "output_type": "stream",
          "text": [
            "--2019-10-17 12:12:37--  https://archive.ics.uci.edu/ml/machine-learning-databases/00232/RCdata.zip\n",
            "Resolving archive.ics.uci.edu (archive.ics.uci.edu)... 128.195.10.252\n",
            "Connecting to archive.ics.uci.edu (archive.ics.uci.edu)|128.195.10.252|:443... connected.\n",
            "HTTP request sent, awaiting response... 200 OK\n",
            "Length: 39674 (39K) [application/x-httpd-php]\n",
            "Saving to: ‘RCdata.zip.1’\n",
            "\n",
            "\rRCdata.zip.1          0%[                    ]       0  --.-KB/s               \rRCdata.zip.1        100%[===================>]  38.74K  --.-KB/s    in 0.03s   \n",
            "\n",
            "2019-10-17 12:12:38 (1.21 MB/s) - ‘RCdata.zip.1’ saved [39674/39674]\n",
            "\n"
          ],
          "name": "stdout"
        }
      ]
    },
    {
      "cell_type": "code",
      "metadata": {
        "id": "1oCiTrV8n1mk",
        "colab_type": "code",
        "colab": {
          "base_uri": "https://localhost:8080/",
          "height": 51
        },
        "outputId": "42e8ec36-56ac-43b1-f922-d9c643f58f75"
      },
      "source": [
        "!unzip /content/RCdata.zip"
      ],
      "execution_count": 36,
      "outputs": [
        {
          "output_type": "stream",
          "text": [
            "Archive:  /content/RCdata.zip\n",
            "replace chefmozaccepts.csv? [y]es, [n]o, [A]ll, [N]one, [r]ename: N\n"
          ],
          "name": "stdout"
        }
      ]
    },
    {
      "cell_type": "code",
      "metadata": {
        "id": "VOebDKIEmX_U",
        "colab_type": "code",
        "colab": {
          "base_uri": "https://localhost:8080/",
          "height": 289
        },
        "outputId": "1de89824-a0bd-4ff0-a3ef-9fc3b5545fad"
      },
      "source": [
        "print('Loading restaurant datasets')\n",
        "\n",
        "# Load Restaurant Payment dataset\n",
        "try:\n",
        "    rest_pay = pd.read_csv('chefmozaccepts.csv')\n",
        "    print('Payment dataset has %d samples with %d features each.' % (rest_pay.shape))\n",
        "except:\n",
        "    print('Payment dataset could not be loaded. Is the dataset missing?')\n",
        "    \n",
        "# Load the Restaurant Cuisine dataset\n",
        "try:\n",
        "    rest_cuisine = pd.read_csv('chefmozcuisine.csv')\n",
        "    print('Cuisine dataset has %d samples with %d features each.' % (rest_cuisine.shape))\n",
        "except:\n",
        "    print('Cuisine dataset could not be loaded. Is the dataset missing?')\n",
        "    \n",
        "# Load the Restaurant Hours dataset\n",
        "try:\n",
        "    rest_hours = pd.read_csv('chefmozhours4.csv')\n",
        "    print('Hours dataset has %d samples with %d features each.' % (rest_hours.shape))\n",
        "except:\n",
        "    print('Hours dataset could not be loaded. Is the dataset missing?')\n",
        "    \n",
        "# Load the Restaurant Parking dataset\n",
        "try:\n",
        "    rest_parking = pd.read_csv('chefmozparking.csv')\n",
        "    print('Parking dataset has %d samples with %d features each.' % (rest_parking.shape))\n",
        "except:\n",
        "    print('Parking dataset could not be loaded. Is the dataset missing?')\n",
        "\n",
        "#Load Restaurant Geo-places dataset\n",
        "try:\n",
        "    rest_geo = pd.read_csv('geoplaces2.csv')\n",
        "    print('Geo-places dataset has %d samples with %d features each.' % (rest_geo.shape))\n",
        "except:\n",
        "    print('Geo-places dataset could not be loaded. Is the dataset missing?')\n",
        "\n",
        "print('\\n')\n",
        "\n",
        "print('Loading consumer datasets')\n",
        "\n",
        "# Load the Consumer Cuisine dataset\n",
        "try:\n",
        "    cons_cuisine = pd.read_csv('usercuisine.csv')\n",
        "    print('Cuisine dataset has %d samples with %d features each.' % (cons_cuisine.shape))\n",
        "except:\n",
        "    print('Cuisine dataset could not be loaded. Is the dataset missing?')\n",
        "\n",
        "#Load Consumer Payment dataset\n",
        "try:\n",
        "    cons_pay = pd.read_csv('userpayment.csv')\n",
        "    print('Payment dataset has %d samples with %d features each.' % (cons_pay.shape))\n",
        "except:\n",
        "    print('Payment dataset could not be loaded. Is the dataset missing?')\n",
        "\n",
        "#Load Consumer Profile dataset\n",
        "try:\n",
        "    cons_profile = pd.read_csv('userprofile.csv')\n",
        "    print('Profile dataset has %d samples with %d features each.' % (cons_profile.shape))\n",
        "except:\n",
        "    print('Profile dataset could not be loaded. Is the dataset missing?')\n",
        "    \n",
        "print('\\n')\n",
        "\n",
        "print('Loading User-Item-Rating dataset')\n",
        "\n",
        "#Load Rating dataset\n",
        "try:\n",
        "    rating = pd.read_csv('rating_final.csv')\n",
        "    print('Rating dataset has %d samples with %d features each.' % (rating.shape))\n",
        "except:\n",
        "    print('Rating dataset could not be loaded. Is the dataset missing?')"
      ],
      "execution_count": 65,
      "outputs": [
        {
          "output_type": "stream",
          "text": [
            "Loading restaurant datasets\n",
            "Payment dataset has 1314 samples with 2 features each.\n",
            "Cuisine dataset has 916 samples with 2 features each.\n",
            "Hours dataset has 2339 samples with 3 features each.\n",
            "Parking dataset has 702 samples with 2 features each.\n",
            "Geo-places dataset could not be loaded. Is the dataset missing?\n",
            "\n",
            "\n",
            "Loading consumer datasets\n",
            "Cuisine dataset has 330 samples with 2 features each.\n",
            "Payment dataset has 177 samples with 2 features each.\n",
            "Profile dataset has 138 samples with 19 features each.\n",
            "\n",
            "\n",
            "Loading User-Item-Rating dataset\n",
            "Rating dataset has 1161 samples with 5 features each.\n"
          ],
          "name": "stdout"
        }
      ]
    },
    {
      "cell_type": "code",
      "metadata": {
        "id": "_afIaVKfp_Zt",
        "colab_type": "code",
        "colab": {
          "base_uri": "https://localhost:8080/",
          "height": 68
        },
        "outputId": "641c6d92-9883-4e6d-b016-566fd41357cd"
      },
      "source": [
        "#Load Restaurant Geo-places dataset download and upload from desktop some issue with this file\n",
        "try:\n",
        "    rest_geo = pd.read_csv('/content/geoplaces2.csv')\n",
        "    print('Geo-places dataset has %d samples with %d features each.' % (rest_geo.shape))\n",
        "except:\n",
        "    print('Geo-places dataset could not be loaded. Is the dataset missing?')\n",
        "\n",
        "print('\\n')"
      ],
      "execution_count": 74,
      "outputs": [
        {
          "output_type": "stream",
          "text": [
            "Geo-places dataset has 130 samples with 21 features each.\n",
            "\n",
            "\n"
          ],
          "name": "stdout"
        }
      ]
    },
    {
      "cell_type": "markdown",
      "metadata": {
        "id": "fApzMHmBmX_W",
        "colab_type": "text"
      },
      "source": [
        "Data Exploration\n",
        "In this section, we will begin exploring the data through visualizations and code to understand how features of each dataset are related to one another.\n",
        "\n",
        "Resturant datasets:\n",
        "\n",
        "1. rest_pay: 'placeID', 'Rpayment'\n",
        "2. rest_cuisine: 'placeID', 'Rcuisine' \n",
        "3. rest_hours: 'placeID', 'hours', 'days' \n",
        "4. rest_parking: 'placeID', 'parking_lot' \n",
        "5. rest_geo: 'placeID', 'latitude', 'longitude', 'the_geom_meter', 'name', 'address','city', 'state', 'country', 'fax', 'zip', 'alcohol', 'smoking_area','dress_code', 'accessibility', 'price', 'url', 'Rambience', 'franchise','area', 'other_services'\n",
        "\n",
        "User datasets:\n",
        "\n",
        "1. cons_pay: 'userID', 'Upayment'\n",
        "2. cons_cuisine: 'userID', 'Rcuisine'\n",
        "3. cons_profile: 'userID', 'latitude', 'longitude', 'smoker', 'drink_level', 'dress_preference', 'ambience', 'transport', 'marital_status', 'hijos', 'birth_year', 'interest', 'personality', 'religion', 'activity', 'color', 'weight', 'budget', 'height' \n",
        "\n",
        "Rating dataset:\n",
        "\n",
        "1. rating: 'userID', 'placeID', 'rating', 'food_rating', 'service_rating'"
      ]
    },
    {
      "cell_type": "code",
      "metadata": {
        "id": "85mgjDPsmX_X",
        "colab_type": "code",
        "colab": {
          "base_uri": "https://localhost:8080/",
          "height": 34
        },
        "outputId": "01e2b4fe-b337-4416-9f85-b0d109ca7cca"
      },
      "source": [
        "# No.of users who have given ratings to the restaurants\n",
        "list_users = rating.userID.unique()\n",
        "print(len(list_users))"
      ],
      "execution_count": 75,
      "outputs": [
        {
          "output_type": "stream",
          "text": [
            "138\n"
          ],
          "name": "stdout"
        }
      ]
    },
    {
      "cell_type": "code",
      "metadata": {
        "id": "Vzd_5nBPmX_Z",
        "colab_type": "code",
        "colab": {
          "base_uri": "https://localhost:8080/",
          "height": 34
        },
        "outputId": "34e2bf6c-e92e-421a-9e6e-30646fe283b8"
      },
      "source": [
        "users = cons_profile.userID.unique()\n",
        "print(len(users))"
      ],
      "execution_count": 76,
      "outputs": [
        {
          "output_type": "stream",
          "text": [
            "138\n"
          ],
          "name": "stdout"
        }
      ]
    },
    {
      "cell_type": "code",
      "metadata": {
        "id": "8eSSPcH8mX_b",
        "colab_type": "code",
        "colab": {
          "base_uri": "https://localhost:8080/",
          "height": 34
        },
        "outputId": "246cc64e-d108-4b3b-9b60-9f7d65b43e66"
      },
      "source": [
        "#Delete users from cons_profile who have not given ratings\n",
        "count = 0\n",
        "for index, row in cons_profile.iterrows():\n",
        "    if row['userID'] not in list_users:\n",
        "        count = count + 1\n",
        "        del row\n",
        "print(count)        "
      ],
      "execution_count": 77,
      "outputs": [
        {
          "output_type": "stream",
          "text": [
            "0\n"
          ],
          "name": "stdout"
        }
      ]
    },
    {
      "cell_type": "markdown",
      "metadata": {
        "id": "4UkIp9FGmX_d",
        "colab_type": "text"
      },
      "source": [
        "- There are no users in cons_profile who has not provided the ratings."
      ]
    },
    {
      "cell_type": "markdown",
      "metadata": {
        "id": "tI2W3qTWmX_d",
        "colab_type": "text"
      },
      "source": [
        "# Data Visualisation\n",
        "We now plot a scatter matrix to show the correlation between the various features present in the User Dataset"
      ]
    },
    {
      "cell_type": "code",
      "metadata": {
        "id": "wAommWHumX_e",
        "colab_type": "code",
        "colab": {
          "base_uri": "https://localhost:8080/",
          "height": 1000
        },
        "outputId": "125d073d-5ffd-413e-b69d-5a6ad2f88fd6"
      },
      "source": [
        "# #Scatter matrix for continuous values in the user dataset\n",
        "pd.plotting.scatter_matrix(cons_profile, alpha = 0.3, figsize = (20,20), diagonal = 'kde')\n",
        "# #From the graph below, we know that there's a correlation between weight and height and therefore we can remove one of them."
      ],
      "execution_count": 78,
      "outputs": [
        {
          "output_type": "execute_result",
          "data": {
            "text/plain": [
              "array([[<matplotlib.axes._subplots.AxesSubplot object at 0x7fb96c35d9b0>,\n",
              "        <matplotlib.axes._subplots.AxesSubplot object at 0x7fb960db46a0>,\n",
              "        <matplotlib.axes._subplots.AxesSubplot object at 0x7fb958fc6b70>,\n",
              "        <matplotlib.axes._subplots.AxesSubplot object at 0x7fb958f6dbe0>,\n",
              "        <matplotlib.axes._subplots.AxesSubplot object at 0x7fb958f15e48>],\n",
              "       [<matplotlib.axes._subplots.AxesSubplot object at 0x7fb958f470f0>,\n",
              "        <matplotlib.axes._subplots.AxesSubplot object at 0x7fb958eef358>,\n",
              "        <matplotlib.axes._subplots.AxesSubplot object at 0x7fb958e975f8>,\n",
              "        <matplotlib.axes._subplots.AxesSubplot object at 0x7fb958e97630>,\n",
              "        <matplotlib.axes._subplots.AxesSubplot object at 0x7fb958e70080>],\n",
              "       [<matplotlib.axes._subplots.AxesSubplot object at 0x7fb958e165f8>,\n",
              "        <matplotlib.axes._subplots.AxesSubplot object at 0x7fb958e3db70>,\n",
              "        <matplotlib.axes._subplots.AxesSubplot object at 0x7fb958dee128>,\n",
              "        <matplotlib.axes._subplots.AxesSubplot object at 0x7fb958d946a0>,\n",
              "        <matplotlib.axes._subplots.AxesSubplot object at 0x7fb958dbbc18>],\n",
              "       [<matplotlib.axes._subplots.AxesSubplot object at 0x7fb958d6c1d0>,\n",
              "        <matplotlib.axes._subplots.AxesSubplot object at 0x7fb958d14748>,\n",
              "        <matplotlib.axes._subplots.AxesSubplot object at 0x7fb958d3acc0>,\n",
              "        <matplotlib.axes._subplots.AxesSubplot object at 0x7fb958ced278>,\n",
              "        <matplotlib.axes._subplots.AxesSubplot object at 0x7fb958c937f0>],\n",
              "       [<matplotlib.axes._subplots.AxesSubplot object at 0x7fb958cbad68>,\n",
              "        <matplotlib.axes._subplots.AxesSubplot object at 0x7fb958c6b320>,\n",
              "        <matplotlib.axes._subplots.AxesSubplot object at 0x7fb958c92898>,\n",
              "        <matplotlib.axes._subplots.AxesSubplot object at 0x7fb958c39e10>,\n",
              "        <matplotlib.axes._subplots.AxesSubplot object at 0x7fb958be83c8>]],\n",
              "      dtype=object)"
            ]
          },
          "metadata": {
            "tags": []
          },
          "execution_count": 78
        },
        {
          "output_type": "display_data",
          "data": {
            "image/png": "[encoded data removed]",
            "text/plain": [
              "<Figure size 1440x1440 with 25 Axes>"
            ]
          },
          "metadata": {
            "tags": []
          }
        }
      ]
    },
    {
      "cell_type": "markdown",
      "metadata": {
        "id": "Ka6FyU-PmX_g",
        "colab_type": "text"
      },
      "source": [
        "The above graph shows that the weight and height are correlated to each other and hence we drop height as it makes no significant impact on the recommendation."
      ]
    },
    {
      "cell_type": "code",
      "metadata": {
        "id": "CyxOxKvPmX_g",
        "colab_type": "code",
        "colab": {}
      },
      "source": [
        "# #Remove Height since it shows high correlation with Weight\n",
        "cons_profile = cons_profile.drop('height', axis = 1)"
      ],
      "execution_count": 0,
      "outputs": []
    },
    {
      "cell_type": "markdown",
      "metadata": {
        "id": "gqBWsnGemX_i",
        "colab_type": "text"
      },
      "source": [
        "# Checking and replacing missing values in the datasets\n",
        "## Restaurant Dataset\n",
        "- The below code gives True if any of the attributes have missing values and False otherwise"
      ]
    },
    {
      "cell_type": "code",
      "metadata": {
        "id": "MMh615e8mX_i",
        "colab_type": "code",
        "colab": {
          "base_uri": "https://localhost:8080/",
          "height": 357
        },
        "outputId": "3c8de7a0-970f-44e3-8658-24e070bb4a89"
      },
      "source": [
        "print('Customer:\\n',cons_profile.isin(['?']).any())"
      ],
      "execution_count": 80,
      "outputs": [
        {
          "output_type": "stream",
          "text": [
            "Customer:\n",
            " userID              False\n",
            "latitude            False\n",
            "longitude           False\n",
            "smoker               True\n",
            "drink_level         False\n",
            "dress_preference     True\n",
            "ambience             True\n",
            "transport            True\n",
            "marital_status       True\n",
            "hijos                True\n",
            "birth_year          False\n",
            "interest            False\n",
            "personality         False\n",
            "religion            False\n",
            "activity             True\n",
            "color               False\n",
            "weight              False\n",
            "budget               True\n",
            "dtype: bool\n"
          ],
          "name": "stdout"
        }
      ]
    },
    {
      "cell_type": "markdown",
      "metadata": {
        "id": "wBQxE0c5mX_k",
        "colab_type": "text"
      },
      "source": [
        "##  User Dataset\n",
        "- We store indices of features having 'Nan' or '?' values\n",
        "- Then, we put all the values with missing attributes into the missing list"
      ]
    },
    {
      "cell_type": "code",
      "metadata": {
        "id": "w2uNOTHFmX_l",
        "colab_type": "code",
        "colab": {}
      },
      "source": [
        "indices = set() #to store unique values\n",
        "for index,row in cons_profile.iterrows():\n",
        "    for i in range(len(row)):\n",
        "        if row[i] is np.nan or row [i] is '?':\n",
        "            indices.add(i)"
      ],
      "execution_count": 0,
      "outputs": []
    },
    {
      "cell_type": "code",
      "metadata": {
        "id": "DD9-gKhhmX_m",
        "colab_type": "code",
        "colab": {
          "base_uri": "https://localhost:8080/",
          "height": 34
        },
        "outputId": "d0ddb3d7-2f50-44bc-9583-f948e4f13d00"
      },
      "source": [
        "#Features having 'Nan' or '?' values\n",
        "missing = list(cons_profile.columns[list(indices)])\n",
        "print(missing)"
      ],
      "execution_count": 82,
      "outputs": [
        {
          "output_type": "stream",
          "text": [
            "['smoker', 'dress_preference', 'ambience', 'transport', 'marital_status', 'hijos', 'activity', 'budget']\n"
          ],
          "name": "stdout"
        }
      ]
    },
    {
      "cell_type": "markdown",
      "metadata": {
        "id": "P0whTx_RmX_o",
        "colab_type": "text"
      },
      "source": [
        "Only the features with categorical data have missing values.\n",
        "\n",
        "Hence, we replace 'Nan' or '?' values with a random value from the feature"
      ]
    },
    {
      "cell_type": "code",
      "metadata": {
        "id": "b-njdJQfmX_p",
        "colab_type": "code",
        "colab": {
          "base_uri": "https://localhost:8080/",
          "height": 122
        },
        "outputId": "1f82c3e6-4540-4bd6-9e8e-d9382e47571b"
      },
      "source": [
        "import random \n",
        "for attr in missing:\n",
        "    uni = list(cons_profile[attr].unique()) #List of all unique values in the feature\n",
        "    if '?' in uni:\n",
        "        uni.remove('?') #remove '?' if present in the list\n",
        "    if np.nan in uni:\n",
        "        uni.remove(np.nan) #remove 'Nan' if present in the list\n",
        "    i=0\n",
        "    for value in cons_profile[attr]: \n",
        "        if value is np.nan or value is '?':\n",
        "            cons_profile[attr][i] = cons_profile[attr][i].replace(value,random.choice(uni)) #replace it with a random item from the list\n",
        "        i+=1"
      ],
      "execution_count": 83,
      "outputs": [
        {
          "output_type": "stream",
          "text": [
            "/usr/local/lib/python3.6/dist-packages/ipykernel_launcher.py:11: SettingWithCopyWarning: \n",
            "A value is trying to be set on a copy of a slice from a DataFrame\n",
            "\n",
            "See the caveats in the documentation: http://pandas.pydata.org/pandas-docs/stable/indexing.html#indexing-view-versus-copy\n",
            "  # This is added back by InteractiveShellApp.init_path()\n"
          ],
          "name": "stderr"
        }
      ]
    },
    {
      "cell_type": "markdown",
      "metadata": {
        "id": "W4le3GKimX_q",
        "colab_type": "text"
      },
      "source": [
        "# Encoding String/Object type data into Integer"
      ]
    },
    {
      "cell_type": "code",
      "metadata": {
        "id": "_4n-sjUqmX_r",
        "colab_type": "code",
        "colab": {}
      },
      "source": [
        "data = cons_profile.copy()\n",
        "data = data.drop('userID', axis = 1)"
      ],
      "execution_count": 0,
      "outputs": []
    },
    {
      "cell_type": "markdown",
      "metadata": {
        "id": "N3RFtTcPmX_t",
        "colab_type": "text"
      },
      "source": [
        "We use Label Encoding to encode the letter/word data and convert it into numbers"
      ]
    },
    {
      "cell_type": "code",
      "metadata": {
        "id": "5GpaIC5ZmX_t",
        "colab_type": "code",
        "colab": {}
      },
      "source": [
        "from sklearn.preprocessing import LabelEncoder\n",
        "le = LabelEncoder()\n",
        "data['smoker'] = le.fit_transform(data['smoker'])\n",
        "data['drink_level'] = le.fit_transform(data['drink_level'])\n",
        "data['dress_preference'] = le.fit_transform(data['dress_preference'])\n",
        "data['ambience'] = le.fit_transform(data['ambience'])\n",
        "data['transport'] = le.fit_transform(data['transport'])\n",
        "data['marital_status'] = le.fit_transform(data['marital_status'])\n",
        "data['hijos'] = le.fit_transform(data['hijos'])\n",
        "data['interest'] = le.fit_transform(data['interest'])\n",
        "data['personality'] = le.fit_transform(data['personality'])\n",
        "data['religion'] = le.fit_transform(data['religion'])\n",
        "data['activity'] = le.fit_transform(data['activity'])\n",
        "data['color'] = le.fit_transform(data['color'])\n",
        "data['budget'] = le.fit_transform(data['budget'])\n",
        "data['longitude'] = le.fit_transform(data['longitude'])\n",
        "data['latitude'] = le.fit_transform(data['latitude'])"
      ],
      "execution_count": 0,
      "outputs": []
    },
    {
      "cell_type": "markdown",
      "metadata": {
        "id": "cH7x0StmmX_v",
        "colab_type": "text"
      },
      "source": [
        "# Splitting Data into Train and Test Datasets\n",
        "- Here, we shuffle the data and randomly split the data into train and test set\n",
        "- We make sure that the Test set contains roughly 10% and Train set contains roughly 90% of original dataset"
      ]
    },
    {
      "cell_type": "code",
      "metadata": {
        "id": "OCO_5vI4mX_v",
        "colab_type": "code",
        "colab": {
          "base_uri": "https://localhost:8080/",
          "height": 51
        },
        "outputId": "a869bc2a-d028-4b43-c089-fa614c096a3a"
      },
      "source": [
        "from sklearn.utils import shuffle\n",
        "data = shuffle(data)\n",
        "test_size = np.random.rand(len(data)) < 0.9\n",
        "cons_train = data[test_size]\n",
        "cons_test = data[~test_size]\n",
        "print(len(cons_train))\n",
        "print(len(cons_test))"
      ],
      "execution_count": 86,
      "outputs": [
        {
          "output_type": "stream",
          "text": [
            "128\n",
            "10\n"
          ],
          "name": "stdout"
        }
      ]
    },
    {
      "cell_type": "markdown",
      "metadata": {
        "id": "rm365NLamX_x",
        "colab_type": "text"
      },
      "source": [
        "## Choosing a Sample to make a recommendation\n",
        "We first obtain a random index from the Test dataset(cons_test)"
      ]
    },
    {
      "cell_type": "code",
      "metadata": {
        "id": "ipCum7bsmX_y",
        "colab_type": "code",
        "colab": {}
      },
      "source": [
        "train_users = []\n",
        "for index,row in cons_train.iterrows():\n",
        "    train_users.append(index)\n",
        "test_users = []\n",
        "for index,row in cons_test.iterrows():\n",
        "    test_users.append(index)\n",
        "\n",
        "sample_user_index = random.choice(test_users)"
      ],
      "execution_count": 0,
      "outputs": []
    },
    {
      "cell_type": "markdown",
      "metadata": {
        "id": "81HRJJV_mX_z",
        "colab_type": "text"
      },
      "source": [
        "Then, we store the entire row of details of that user corresponding to the index, obtained above, in the test variable"
      ]
    },
    {
      "cell_type": "code",
      "metadata": {
        "id": "MuRsQ7jmmX_0",
        "colab_type": "code",
        "colab": {}
      },
      "source": [
        "for index,row in cons_test.iterrows():\n",
        "    if index == sample_user_index:\n",
        "        test = pd.DataFrame(row.values.reshape(1,17))"
      ],
      "execution_count": 0,
      "outputs": []
    },
    {
      "cell_type": "markdown",
      "metadata": {
        "id": "LGEks5k6mX_1",
        "colab_type": "text"
      },
      "source": [
        "# Getting Recommendation from the Model\n",
        "- We use KDTree model to obtain similarity of the various features among different users with the query user(test user)\n",
        "- The KDTree uses Euclidian Distance formulae to obtain these similarity values"
      ]
    },
    {
      "cell_type": "code",
      "metadata": {
        "id": "jCAi-vp9mX_2",
        "colab_type": "code",
        "colab": {}
      },
      "source": [
        "from sklearn.neighbors import KDTree\n",
        "tree = KDTree(cons_train)\n",
        "dist, ind = tree.query(test, k=len(cons_train))\n",
        "val = []\n",
        "for i in ind:\n",
        "    for j in i:\n",
        "        val.append(j)\n",
        "i = 0\n",
        "\n",
        "# res is a dataFrame to store the details of user that was recommended by KDTree \n",
        "res = pd.DataFrame()\n",
        "for index,row in cons_train.iterrows():\n",
        "    if i in val:\n",
        "        res = res.append(row)\n",
        "    i+=1"
      ],
      "execution_count": 0,
      "outputs": []
    },
    {
      "cell_type": "code",
      "metadata": {
        "id": "vYhUFNYhmX_7",
        "colab_type": "code",
        "colab": {}
      },
      "source": [
        "# percentage similarity between the users\n",
        "dist = dist.reshape(len(cons_train),)\n",
        "dist = (1 - (dist-dist.min())/(dist.max()-dist.min()))*100 "
      ],
      "execution_count": 0,
      "outputs": []
    },
    {
      "cell_type": "code",
      "metadata": {
        "id": "f2UrJtyLmX_8",
        "colab_type": "code",
        "colab": {
          "base_uri": "https://localhost:8080/",
          "height": 34
        },
        "outputId": "3848abff-7101-4a15-f23e-d25f587b5f9f"
      },
      "source": [
        "print(dist[:5])"
      ],
      "execution_count": 91,
      "outputs": [
        {
          "output_type": "stream",
          "text": [
            "[100.          98.40883622  98.40883622  96.14612503  94.95557234]\n"
          ],
          "name": "stdout"
        }
      ]
    },
    {
      "cell_type": "code",
      "metadata": {
        "id": "DfR4zFrimX_-",
        "colab_type": "code",
        "colab": {}
      },
      "source": [
        "# top 5 similar users with their userID and percentage of similarity\n",
        "res = res[:5]\n",
        "res['percent'] = dist[:5]"
      ],
      "execution_count": 0,
      "outputs": []
    },
    {
      "cell_type": "code",
      "metadata": {
        "id": "_87mLOunmYAA",
        "colab_type": "code",
        "colab": {
          "base_uri": "https://localhost:8080/",
          "height": 224
        },
        "outputId": "338b6fc8-80a7-4398-b47a-52b0b3a6d379"
      },
      "source": [
        "res"
      ],
      "execution_count": 93,
      "outputs": [
        {
          "output_type": "execute_result",
          "data": {
            "text/html": [
              "<div>\n",
              "<style scoped>\n",
              "    .dataframe tbody tr th:only-of-type {\n",
              "        vertical-align: middle;\n",
              "    }\n",
              "\n",
              "    .dataframe tbody tr th {\n",
              "        vertical-align: top;\n",
              "    }\n",
              "\n",
              "    .dataframe thead th {\n",
              "        text-align: right;\n",
              "    }\n",
              "</style>\n",
              "<table border=\"1\" class=\"dataframe\">\n",
              "  <thead>\n",
              "    <tr style=\"text-align: right;\">\n",
              "      <th></th>\n",
              "      <th>activity</th>\n",
              "      <th>ambience</th>\n",
              "      <th>birth_year</th>\n",
              "      <th>budget</th>\n",
              "      <th>color</th>\n",
              "      <th>dress_preference</th>\n",
              "      <th>drink_level</th>\n",
              "      <th>hijos</th>\n",
              "      <th>interest</th>\n",
              "      <th>latitude</th>\n",
              "      <th>longitude</th>\n",
              "      <th>marital_status</th>\n",
              "      <th>personality</th>\n",
              "      <th>religion</th>\n",
              "      <th>smoker</th>\n",
              "      <th>transport</th>\n",
              "      <th>weight</th>\n",
              "      <th>percent</th>\n",
              "    </tr>\n",
              "  </thead>\n",
              "  <tbody>\n",
              "    <tr>\n",
              "      <th>40</th>\n",
              "      <td>0.0</td>\n",
              "      <td>1.0</td>\n",
              "      <td>1985.0</td>\n",
              "      <td>2.0</td>\n",
              "      <td>6.0</td>\n",
              "      <td>3.0</td>\n",
              "      <td>0.0</td>\n",
              "      <td>1.0</td>\n",
              "      <td>0.0</td>\n",
              "      <td>18.0</td>\n",
              "      <td>81.0</td>\n",
              "      <td>1.0</td>\n",
              "      <td>2.0</td>\n",
              "      <td>0.0</td>\n",
              "      <td>0.0</td>\n",
              "      <td>1.0</td>\n",
              "      <td>40.0</td>\n",
              "      <td>100.000000</td>\n",
              "    </tr>\n",
              "    <tr>\n",
              "      <th>68</th>\n",
              "      <td>0.0</td>\n",
              "      <td>0.0</td>\n",
              "      <td>1983.0</td>\n",
              "      <td>2.0</td>\n",
              "      <td>0.0</td>\n",
              "      <td>3.0</td>\n",
              "      <td>2.0</td>\n",
              "      <td>1.0</td>\n",
              "      <td>4.0</td>\n",
              "      <td>25.0</td>\n",
              "      <td>121.0</td>\n",
              "      <td>1.0</td>\n",
              "      <td>3.0</td>\n",
              "      <td>0.0</td>\n",
              "      <td>0.0</td>\n",
              "      <td>2.0</td>\n",
              "      <td>60.0</td>\n",
              "      <td>98.408836</td>\n",
              "    </tr>\n",
              "    <tr>\n",
              "      <th>78</th>\n",
              "      <td>2.0</td>\n",
              "      <td>0.0</td>\n",
              "      <td>1992.0</td>\n",
              "      <td>2.0</td>\n",
              "      <td>0.0</td>\n",
              "      <td>1.0</td>\n",
              "      <td>0.0</td>\n",
              "      <td>1.0</td>\n",
              "      <td>3.0</td>\n",
              "      <td>15.0</td>\n",
              "      <td>79.0</td>\n",
              "      <td>1.0</td>\n",
              "      <td>3.0</td>\n",
              "      <td>0.0</td>\n",
              "      <td>0.0</td>\n",
              "      <td>2.0</td>\n",
              "      <td>53.0</td>\n",
              "      <td>98.408836</td>\n",
              "    </tr>\n",
              "    <tr>\n",
              "      <th>30</th>\n",
              "      <td>2.0</td>\n",
              "      <td>2.0</td>\n",
              "      <td>1992.0</td>\n",
              "      <td>2.0</td>\n",
              "      <td>6.0</td>\n",
              "      <td>2.0</td>\n",
              "      <td>0.0</td>\n",
              "      <td>2.0</td>\n",
              "      <td>1.0</td>\n",
              "      <td>111.0</td>\n",
              "      <td>114.0</td>\n",
              "      <td>0.0</td>\n",
              "      <td>1.0</td>\n",
              "      <td>0.0</td>\n",
              "      <td>0.0</td>\n",
              "      <td>1.0</td>\n",
              "      <td>40.0</td>\n",
              "      <td>96.146125</td>\n",
              "    </tr>\n",
              "    <tr>\n",
              "      <th>130</th>\n",
              "      <td>1.0</td>\n",
              "      <td>1.0</td>\n",
              "      <td>1990.0</td>\n",
              "      <td>2.0</td>\n",
              "      <td>0.0</td>\n",
              "      <td>3.0</td>\n",
              "      <td>2.0</td>\n",
              "      <td>2.0</td>\n",
              "      <td>0.0</td>\n",
              "      <td>42.0</td>\n",
              "      <td>71.0</td>\n",
              "      <td>0.0</td>\n",
              "      <td>1.0</td>\n",
              "      <td>4.0</td>\n",
              "      <td>1.0</td>\n",
              "      <td>0.0</td>\n",
              "      <td>90.0</td>\n",
              "      <td>94.955572</td>\n",
              "    </tr>\n",
              "  </tbody>\n",
              "</table>\n",
              "</div>"
            ],
            "text/plain": [
              "     activity  ambience  birth_year  ...  transport  weight     percent\n",
              "40        0.0       1.0      1985.0  ...        1.0    40.0  100.000000\n",
              "68        0.0       0.0      1983.0  ...        2.0    60.0   98.408836\n",
              "78        2.0       0.0      1992.0  ...        2.0    53.0   98.408836\n",
              "30        2.0       2.0      1992.0  ...        1.0    40.0   96.146125\n",
              "130       1.0       1.0      1990.0  ...        0.0    90.0   94.955572\n",
              "\n",
              "[5 rows x 18 columns]"
            ]
          },
          "metadata": {
            "tags": []
          },
          "execution_count": 93
        }
      ]
    },
    {
      "cell_type": "code",
      "metadata": {
        "id": "q45Xc-g9mYAC",
        "colab_type": "code",
        "colab": {}
      },
      "source": [
        "ind = [] # indices of the top 5 similar users\n",
        "for index,row in res.iterrows():\n",
        "    ind.append(index)"
      ],
      "execution_count": 0,
      "outputs": []
    },
    {
      "cell_type": "code",
      "metadata": {
        "id": "xCwqJlwxmYAD",
        "colab_type": "code",
        "colab": {}
      },
      "source": [
        "per = [] # percentage of similarity of the top 5 users\n",
        "for index,row in res.iterrows():\n",
        "    per.append(row[17])"
      ],
      "execution_count": 0,
      "outputs": []
    },
    {
      "cell_type": "code",
      "metadata": {
        "id": "ChjIkVXomYAE",
        "colab_type": "code",
        "colab": {
          "base_uri": "https://localhost:8080/",
          "height": 34
        },
        "outputId": "f3068712-42f6-458f-f101-c43c5468923e"
      },
      "source": [
        "ind_per = {} # dictionary with the key - indices, value - percent\n",
        "for i in range(len(ind)):\n",
        "    ind_per[ind[i]] = per[i]\n",
        "print(ind_per)"
      ],
      "execution_count": 96,
      "outputs": [
        {
          "output_type": "stream",
          "text": [
            "{40: 100.0, 68: 98.40883621781329, 78: 98.40883621781329, 30: 96.14612502713737, 130: 94.95557234258185}\n"
          ],
          "name": "stdout"
        }
      ]
    },
    {
      "cell_type": "code",
      "metadata": {
        "id": "05-WoU8RmYAG",
        "colab_type": "code",
        "colab": {}
      },
      "source": [
        "ids = {} # dictionary to map the userID with the percent corresponding to the indices\n",
        "for index,row in cons_profile.iterrows():\n",
        "    if index in ind:\n",
        "        ids[row[0]] = ind_per[index]"
      ],
      "execution_count": 0,
      "outputs": []
    },
    {
      "cell_type": "code",
      "metadata": {
        "id": "t2Cht9_tmYAH",
        "colab_type": "code",
        "colab": {
          "base_uri": "https://localhost:8080/",
          "height": 54
        },
        "outputId": "4fb083da-b4f3-477a-cbe1-21082ad5e444"
      },
      "source": [
        "print(ids)"
      ],
      "execution_count": 98,
      "outputs": [
        {
          "output_type": "stream",
          "text": [
            "{'U1031': 96.14612502713737, 'U1041': 100.0, 'U1069': 98.40883621781329, 'U1079': 98.40883621781329, 'U1131': 94.95557234258185}\n"
          ],
          "name": "stdout"
        }
      ]
    },
    {
      "cell_type": "code",
      "metadata": {
        "id": "DYUJSfAwmYAJ",
        "colab_type": "code",
        "colab": {
          "base_uri": "https://localhost:8080/",
          "height": 102
        },
        "outputId": "492ee7c1-1bac-427c-ac16-c6c16dbc081f"
      },
      "source": [
        "\"\"\"\n",
        "This is a function takes as parameters IDs of similar users.\n",
        "Computes the average ratings provided by the them.\n",
        "Obtains the top rated restaurants (restaurants with highest average rating).\n",
        "The return value shall be the dictionary with key - placeID and value - recommendation percentage.\n",
        "\n",
        "\"\"\"\n",
        "def recommendation(ids):\n",
        "    \"\"\"Function that recommends the provided user with a list of top rated restaurants\"\"\"\n",
        "    recommend = {}\n",
        "    all_rest = pd.DataFrame()\n",
        "    for index,row in rating.iterrows():\n",
        "        if row[0] in ids:\n",
        "            all_rest = all_rest.append(row)\n",
        "            all_rest.loc[index, 'Percent'] = ids[row[0]]\n",
        "    \n",
        "    all_rest['avg'] = (all_rest['rating'] + all_rest['food_rating'] + all_rest['service_rating']) / 3\n",
        "    res = all_rest.groupby(['placeID'])[['Percent','avg']].max()\n",
        "    res = res.sort_values(['Percent','avg'],ascending = False)\n",
        "    res.drop('avg',axis = 1, inplace = True)\n",
        "    for placeid in res.index:\n",
        "         recommend[placeid] = res.get_value(placeid, 'Percent')\n",
        "    return recommend\n",
        "help(recommendation)"
      ],
      "execution_count": 99,
      "outputs": [
        {
          "output_type": "stream",
          "text": [
            "Help on function recommendation in module __main__:\n",
            "\n",
            "recommendation(ids)\n",
            "    Function that recommends the provided user with a list of top rated restaurants\n",
            "\n"
          ],
          "name": "stdout"
        }
      ]
    },
    {
      "cell_type": "code",
      "metadata": {
        "id": "PEDtZoKlmYAL",
        "colab_type": "code",
        "colab": {
          "base_uri": "https://localhost:8080/",
          "height": 54
        },
        "outputId": "01cba4ee-6b32-4eb9-9df9-0a6443cda038"
      },
      "source": [
        "recommend = recommendation(ids)"
      ],
      "execution_count": 100,
      "outputs": [
        {
          "output_type": "stream",
          "text": [
            "/usr/local/lib/python3.6/dist-packages/ipykernel_launcher.py:22: FutureWarning: get_value is deprecated and will be removed in a future release. Please use .at[] or .iat[] accessors instead\n"
          ],
          "name": "stderr"
        }
      ]
    },
    {
      "cell_type": "code",
      "metadata": {
        "id": "6qKSpx75mYAN",
        "colab_type": "code",
        "colab": {}
      },
      "source": [
        "result = pd.DataFrame() # final dataframe which comprises of the restaurant details along with the placeID and percent.\n",
        "percent = []\n",
        "for index,row in rest_geo.iterrows():\n",
        "    if row[0] in recommend.keys():\n",
        "        result = result.append(row)\n",
        "        percent.append(recommend[row[0]])      \n",
        "result['Recommendation Percentage'] = percent"
      ],
      "execution_count": 0,
      "outputs": []
    },
    {
      "cell_type": "code",
      "metadata": {
        "id": "C1gpYQ5FmYAP",
        "colab_type": "code",
        "colab": {}
      },
      "source": [
        "result = result[['placeID','name','latitude','longitude','price','Recommendation Percentage']]"
      ],
      "execution_count": 0,
      "outputs": []
    },
    {
      "cell_type": "code",
      "metadata": {
        "id": "KZQ8L9D9mYAR",
        "colab_type": "code",
        "colab": {
          "base_uri": "https://localhost:8080/",
          "height": 824
        },
        "outputId": "833dd56a-27d4-4d8c-bde5-fc6de110aa1d"
      },
      "source": [
        "result.sort_values(by=['Recommendation Percentage'], ascending = False, inplace = True)\n",
        "result"
      ],
      "execution_count": 103,
      "outputs": [
        {
          "output_type": "execute_result",
          "data": {
            "text/html": [
              "<div>\n",
              "<style scoped>\n",
              "    .dataframe tbody tr th:only-of-type {\n",
              "        vertical-align: middle;\n",
              "    }\n",
              "\n",
              "    .dataframe tbody tr th {\n",
              "        vertical-align: top;\n",
              "    }\n",
              "\n",
              "    .dataframe thead th {\n",
              "        text-align: right;\n",
              "    }\n",
              "</style>\n",
              "<table border=\"1\" class=\"dataframe\">\n",
              "  <thead>\n",
              "    <tr style=\"text-align: right;\">\n",
              "      <th></th>\n",
              "      <th>placeID</th>\n",
              "      <th>name</th>\n",
              "      <th>latitude</th>\n",
              "      <th>longitude</th>\n",
              "      <th>price</th>\n",
              "      <th>Recommendation Percentage</th>\n",
              "    </tr>\n",
              "  </thead>\n",
              "  <tbody>\n",
              "    <tr>\n",
              "      <th>48</th>\n",
              "      <td>135001.0</td>\n",
              "      <td>Vips</td>\n",
              "      <td>18.941859</td>\n",
              "      <td>-99.241927</td>\n",
              "      <td>medium</td>\n",
              "      <td>100.000000</td>\n",
              "    </tr>\n",
              "    <tr>\n",
              "      <th>22</th>\n",
              "      <td>134983.0</td>\n",
              "      <td>Restaurant and Bar and Clothesline Carlos N Ch...</td>\n",
              "      <td>18.948657</td>\n",
              "      <td>-99.235361</td>\n",
              "      <td>high</td>\n",
              "      <td>100.000000</td>\n",
              "    </tr>\n",
              "    <tr>\n",
              "      <th>64</th>\n",
              "      <td>135021.0</td>\n",
              "      <td>Subway</td>\n",
              "      <td>18.933537</td>\n",
              "      <td>-99.222497</td>\n",
              "      <td>low</td>\n",
              "      <td>100.000000</td>\n",
              "    </tr>\n",
              "    <tr>\n",
              "      <th>38</th>\n",
              "      <td>134992.0</td>\n",
              "      <td>Restaurant Teely</td>\n",
              "      <td>18.936683</td>\n",
              "      <td>-99.247366</td>\n",
              "      <td>high</td>\n",
              "      <td>100.000000</td>\n",
              "    </tr>\n",
              "    <tr>\n",
              "      <th>26</th>\n",
              "      <td>132768.0</td>\n",
              "      <td>Mariscos Tia Licha</td>\n",
              "      <td>18.925773</td>\n",
              "      <td>-99.232636</td>\n",
              "      <td>medium</td>\n",
              "      <td>100.000000</td>\n",
              "    </tr>\n",
              "    <tr>\n",
              "      <th>127</th>\n",
              "      <td>135109.0</td>\n",
              "      <td>Paniroles</td>\n",
              "      <td>18.921785</td>\n",
              "      <td>-99.235350</td>\n",
              "      <td>medium</td>\n",
              "      <td>100.000000</td>\n",
              "    </tr>\n",
              "    <tr>\n",
              "      <th>23</th>\n",
              "      <td>132851.0</td>\n",
              "      <td>KFC</td>\n",
              "      <td>22.136872</td>\n",
              "      <td>-100.934574</td>\n",
              "      <td>low</td>\n",
              "      <td>98.408836</td>\n",
              "    </tr>\n",
              "    <tr>\n",
              "      <th>11</th>\n",
              "      <td>135069.0</td>\n",
              "      <td>Abondance Restaurante Bar</td>\n",
              "      <td>22.140129</td>\n",
              "      <td>-100.944872</td>\n",
              "      <td>low</td>\n",
              "      <td>98.408836</td>\n",
              "    </tr>\n",
              "    <tr>\n",
              "      <th>114</th>\n",
              "      <td>132766.0</td>\n",
              "      <td>Mikasa</td>\n",
              "      <td>18.910178</td>\n",
              "      <td>-99.231544</td>\n",
              "      <td>medium</td>\n",
              "      <td>98.408836</td>\n",
              "    </tr>\n",
              "    <tr>\n",
              "      <th>112</th>\n",
              "      <td>134986.0</td>\n",
              "      <td>Restaurant Las Mananitas</td>\n",
              "      <td>18.928798</td>\n",
              "      <td>-99.239513</td>\n",
              "      <td>high</td>\n",
              "      <td>98.408836</td>\n",
              "    </tr>\n",
              "    <tr>\n",
              "      <th>107</th>\n",
              "      <td>134976.0</td>\n",
              "      <td>Log Yin</td>\n",
              "      <td>18.916654</td>\n",
              "      <td>-99.227110</td>\n",
              "      <td>low</td>\n",
              "      <td>98.408836</td>\n",
              "    </tr>\n",
              "    <tr>\n",
              "      <th>81</th>\n",
              "      <td>132846.0</td>\n",
              "      <td>el lechon potosino</td>\n",
              "      <td>22.142273</td>\n",
              "      <td>-100.942654</td>\n",
              "      <td>low</td>\n",
              "      <td>98.408836</td>\n",
              "    </tr>\n",
              "    <tr>\n",
              "      <th>68</th>\n",
              "      <td>132858.0</td>\n",
              "      <td>Hamburguesas Valle Dorado</td>\n",
              "      <td>22.131292</td>\n",
              "      <td>-100.937194</td>\n",
              "      <td>low</td>\n",
              "      <td>98.408836</td>\n",
              "    </tr>\n",
              "    <tr>\n",
              "      <th>66</th>\n",
              "      <td>132845.0</td>\n",
              "      <td>Cenaduria El Rincón de Tlaquepaque</td>\n",
              "      <td>22.126293</td>\n",
              "      <td>-100.900776</td>\n",
              "      <td>medium</td>\n",
              "      <td>98.408836</td>\n",
              "    </tr>\n",
              "    <tr>\n",
              "      <th>56</th>\n",
              "      <td>135108.0</td>\n",
              "      <td>Potzocalli</td>\n",
              "      <td>22.136253</td>\n",
              "      <td>-100.933585</td>\n",
              "      <td>low</td>\n",
              "      <td>98.408836</td>\n",
              "    </tr>\n",
              "    <tr>\n",
              "      <th>10</th>\n",
              "      <td>135070.0</td>\n",
              "      <td>Restaurante 75</td>\n",
              "      <td>22.152918</td>\n",
              "      <td>-100.915164</td>\n",
              "      <td>medium</td>\n",
              "      <td>98.408836</td>\n",
              "    </tr>\n",
              "    <tr>\n",
              "      <th>29</th>\n",
              "      <td>132847.0</td>\n",
              "      <td>don burguers</td>\n",
              "      <td>22.144336</td>\n",
              "      <td>-100.937382</td>\n",
              "      <td>low</td>\n",
              "      <td>98.408836</td>\n",
              "    </tr>\n",
              "    <tr>\n",
              "      <th>9</th>\n",
              "      <td>135082.0</td>\n",
              "      <td>la Estrella de Dimas</td>\n",
              "      <td>22.151448</td>\n",
              "      <td>-100.915099</td>\n",
              "      <td>medium</td>\n",
              "      <td>98.408836</td>\n",
              "    </tr>\n",
              "    <tr>\n",
              "      <th>19</th>\n",
              "      <td>132668.0</td>\n",
              "      <td>TACOS EL GUERO</td>\n",
              "      <td>23.738212</td>\n",
              "      <td>-99.151955</td>\n",
              "      <td>low</td>\n",
              "      <td>96.146125</td>\n",
              "    </tr>\n",
              "    <tr>\n",
              "      <th>76</th>\n",
              "      <td>132665.0</td>\n",
              "      <td>TACOS CORRECAMINOS</td>\n",
              "      <td>23.736798</td>\n",
              "      <td>-99.134241</td>\n",
              "      <td>low</td>\n",
              "      <td>96.146125</td>\n",
              "    </tr>\n",
              "    <tr>\n",
              "      <th>122</th>\n",
              "      <td>132663.0</td>\n",
              "      <td>tacos abi</td>\n",
              "      <td>23.752511</td>\n",
              "      <td>-99.166954</td>\n",
              "      <td>low</td>\n",
              "      <td>96.146125</td>\n",
              "    </tr>\n",
              "    <tr>\n",
              "      <th>44</th>\n",
              "      <td>132869.0</td>\n",
              "      <td>Dominos Pizza</td>\n",
              "      <td>22.141238</td>\n",
              "      <td>-100.923925</td>\n",
              "      <td>medium</td>\n",
              "      <td>94.955572</td>\n",
              "    </tr>\n",
              "    <tr>\n",
              "      <th>15</th>\n",
              "      <td>132870.0</td>\n",
              "      <td>Tortas y hamburguesas el gordo</td>\n",
              "      <td>22.143078</td>\n",
              "      <td>-100.935479</td>\n",
              "      <td>low</td>\n",
              "      <td>94.955572</td>\n",
              "    </tr>\n",
              "    <tr>\n",
              "      <th>30</th>\n",
              "      <td>135054.0</td>\n",
              "      <td>Restaurante y Pescaderia Tampico</td>\n",
              "      <td>22.140626</td>\n",
              "      <td>-100.915657</td>\n",
              "      <td>high</td>\n",
              "      <td>94.955572</td>\n",
              "    </tr>\n",
              "    <tr>\n",
              "      <th>125</th>\n",
              "      <td>132866.0</td>\n",
              "      <td>Chaires</td>\n",
              "      <td>22.141220</td>\n",
              "      <td>-100.931311</td>\n",
              "      <td>medium</td>\n",
              "      <td>94.955572</td>\n",
              "    </tr>\n",
              "  </tbody>\n",
              "</table>\n",
              "</div>"
            ],
            "text/plain": [
              "      placeID  ... Recommendation Percentage\n",
              "48   135001.0  ...                100.000000\n",
              "22   134983.0  ...                100.000000\n",
              "64   135021.0  ...                100.000000\n",
              "38   134992.0  ...                100.000000\n",
              "26   132768.0  ...                100.000000\n",
              "127  135109.0  ...                100.000000\n",
              "23   132851.0  ...                 98.408836\n",
              "11   135069.0  ...                 98.408836\n",
              "114  132766.0  ...                 98.408836\n",
              "112  134986.0  ...                 98.408836\n",
              "107  134976.0  ...                 98.408836\n",
              "81   132846.0  ...                 98.408836\n",
              "68   132858.0  ...                 98.408836\n",
              "66   132845.0  ...                 98.408836\n",
              "56   135108.0  ...                 98.408836\n",
              "10   135070.0  ...                 98.408836\n",
              "29   132847.0  ...                 98.408836\n",
              "9    135082.0  ...                 98.408836\n",
              "19   132668.0  ...                 96.146125\n",
              "76   132665.0  ...                 96.146125\n",
              "122  132663.0  ...                 96.146125\n",
              "44   132869.0  ...                 94.955572\n",
              "15   132870.0  ...                 94.955572\n",
              "30   135054.0  ...                 94.955572\n",
              "125  132866.0  ...                 94.955572\n",
              "\n",
              "[25 rows x 6 columns]"
            ]
          },
          "metadata": {
            "tags": []
          },
          "execution_count": 103
        }
      ]
    },
    {
      "cell_type": "code",
      "metadata": {
        "id": "s05V15PkmYAT",
        "colab_type": "code",
        "colab": {
          "base_uri": "https://localhost:8080/",
          "height": 34
        },
        "outputId": "a08f943c-b740-4a60-ac62-101c832726e9"
      },
      "source": [
        "# obtaining the userID for which the above restaurants have been recommended.\n",
        "for index,row in cons_profile.iterrows(): \n",
        "    if index is sample_user_index:\n",
        "        sample_userID = cons_profile.userID[index]\n",
        "print(\"The list of restaurants are being recommended to the user\", sample_userID)        "
      ],
      "execution_count": 104,
      "outputs": [
        {
          "output_type": "stream",
          "text": [
            "The list of restaurants are being recommended to the user U1127\n"
          ],
          "name": "stdout"
        }
      ]
    }
  ]
}